{
 "cells": [
  {
   "cell_type": "markdown",
   "metadata": {},
   "source": [
    "# Group Project: Final Report"
   ]
  },
  {
   "cell_type": "markdown",
   "metadata": {},
   "source": [
    "##### Robert Aleman, Yanai Feldman, Huey Sun, Jacob Fontana"
   ]
  },
  {
   "cell_type": "code",
   "execution_count": 3,
   "metadata": {},
   "outputs": [
    {
     "data": {
      "text/html": [
       "<table>\n",
       "<thead><tr><th scope=col>SeriousDlqin2yrs</th><th scope=col>RevolvingUtilizationOfUnsecuredLines</th><th scope=col>age</th><th scope=col>NumberOfTime30.59DaysPastDueNotWorse</th><th scope=col>DebtRatio</th><th scope=col>MonthlyIncome</th><th scope=col>NumberOfOpenCreditLinesAndLoans</th><th scope=col>NumberOfTimes90DaysLate</th><th scope=col>NumberRealEstateLoansOrLines</th><th scope=col>NumberOfTime60.89DaysPastDueNotWorse</th><th scope=col>NumberOfDependents</th></tr></thead>\n",
       "<tbody>\n",
       "\t<tr><td>1         </td><td>0.7661266 </td><td>45        </td><td>2         </td><td>0.80298213</td><td> 9120     </td><td>13        </td><td>0         </td><td>6         </td><td>0         </td><td>2         </td></tr>\n",
       "\t<tr><td>0         </td><td>0.9571510 </td><td>40        </td><td>0         </td><td>0.12187620</td><td> 2600     </td><td> 4        </td><td>0         </td><td>0         </td><td>0         </td><td>1         </td></tr>\n",
       "\t<tr><td>0         </td><td>0.6581801 </td><td>38        </td><td>1         </td><td>0.08511338</td><td> 3042     </td><td> 2        </td><td>1         </td><td>0         </td><td>0         </td><td>0         </td></tr>\n",
       "\t<tr><td>0         </td><td>0.2338098 </td><td>30        </td><td>0         </td><td>0.03604968</td><td> 3300     </td><td> 5        </td><td>0         </td><td>0         </td><td>0         </td><td>0         </td></tr>\n",
       "\t<tr><td>0         </td><td>0.9072394 </td><td>49        </td><td>1         </td><td>0.02492570</td><td>63588     </td><td> 7        </td><td>0         </td><td>1         </td><td>0         </td><td>0         </td></tr>\n",
       "\t<tr><td>0         </td><td>0.2131787 </td><td>74        </td><td>0         </td><td>0.37560697</td><td> 3500     </td><td> 3        </td><td>0         </td><td>1         </td><td>0         </td><td>1         </td></tr>\n",
       "</tbody>\n",
       "</table>\n"
      ],
      "text/latex": [
       "\\begin{tabular}{r|lllllllllll}\n",
       " SeriousDlqin2yrs & RevolvingUtilizationOfUnsecuredLines & age & NumberOfTime30.59DaysPastDueNotWorse & DebtRatio & MonthlyIncome & NumberOfOpenCreditLinesAndLoans & NumberOfTimes90DaysLate & NumberRealEstateLoansOrLines & NumberOfTime60.89DaysPastDueNotWorse & NumberOfDependents\\\\\n",
       "\\hline\n",
       "\t 1          & 0.7661266  & 45         & 2          & 0.80298213 &  9120      & 13         & 0          & 6          & 0          & 2         \\\\\n",
       "\t 0          & 0.9571510  & 40         & 0          & 0.12187620 &  2600      &  4         & 0          & 0          & 0          & 1         \\\\\n",
       "\t 0          & 0.6581801  & 38         & 1          & 0.08511338 &  3042      &  2         & 1          & 0          & 0          & 0         \\\\\n",
       "\t 0          & 0.2338098  & 30         & 0          & 0.03604968 &  3300      &  5         & 0          & 0          & 0          & 0         \\\\\n",
       "\t 0          & 0.9072394  & 49         & 1          & 0.02492570 & 63588      &  7         & 0          & 1          & 0          & 0         \\\\\n",
       "\t 0          & 0.2131787  & 74         & 0          & 0.37560697 &  3500      &  3         & 0          & 1          & 0          & 1         \\\\\n",
       "\\end{tabular}\n"
      ],
      "text/markdown": [
       "\n",
       "SeriousDlqin2yrs | RevolvingUtilizationOfUnsecuredLines | age | NumberOfTime30.59DaysPastDueNotWorse | DebtRatio | MonthlyIncome | NumberOfOpenCreditLinesAndLoans | NumberOfTimes90DaysLate | NumberRealEstateLoansOrLines | NumberOfTime60.89DaysPastDueNotWorse | NumberOfDependents | \n",
       "|---|---|---|---|---|---|\n",
       "| 1          | 0.7661266  | 45         | 2          | 0.80298213 |  9120      | 13         | 0          | 6          | 0          | 2          | \n",
       "| 0          | 0.9571510  | 40         | 0          | 0.12187620 |  2600      |  4         | 0          | 0          | 0          | 1          | \n",
       "| 0          | 0.6581801  | 38         | 1          | 0.08511338 |  3042      |  2         | 1          | 0          | 0          | 0          | \n",
       "| 0          | 0.2338098  | 30         | 0          | 0.03604968 |  3300      |  5         | 0          | 0          | 0          | 0          | \n",
       "| 0          | 0.9072394  | 49         | 1          | 0.02492570 | 63588      |  7         | 0          | 1          | 0          | 0          | \n",
       "| 0          | 0.2131787  | 74         | 0          | 0.37560697 |  3500      |  3         | 0          | 1          | 0          | 1          | \n",
       "\n",
       "\n"
      ],
      "text/plain": [
       "  SeriousDlqin2yrs RevolvingUtilizationOfUnsecuredLines age\n",
       "1 1                0.7661266                            45 \n",
       "2 0                0.9571510                            40 \n",
       "3 0                0.6581801                            38 \n",
       "4 0                0.2338098                            30 \n",
       "5 0                0.9072394                            49 \n",
       "6 0                0.2131787                            74 \n",
       "  NumberOfTime30.59DaysPastDueNotWorse DebtRatio  MonthlyIncome\n",
       "1 2                                    0.80298213  9120        \n",
       "2 0                                    0.12187620  2600        \n",
       "3 1                                    0.08511338  3042        \n",
       "4 0                                    0.03604968  3300        \n",
       "5 1                                    0.02492570 63588        \n",
       "6 0                                    0.37560697  3500        \n",
       "  NumberOfOpenCreditLinesAndLoans NumberOfTimes90DaysLate\n",
       "1 13                              0                      \n",
       "2  4                              0                      \n",
       "3  2                              1                      \n",
       "4  5                              0                      \n",
       "5  7                              0                      \n",
       "6  3                              0                      \n",
       "  NumberRealEstateLoansOrLines NumberOfTime60.89DaysPastDueNotWorse\n",
       "1 6                            0                                   \n",
       "2 0                            0                                   \n",
       "3 0                            0                                   \n",
       "4 0                            0                                   \n",
       "5 1                            0                                   \n",
       "6 1                            0                                   \n",
       "  NumberOfDependents\n",
       "1 2                 \n",
       "2 1                 \n",
       "3 0                 \n",
       "4 0                 \n",
       "5 0                 \n",
       "6 1                 "
      ]
     },
     "metadata": {},
     "output_type": "display_data"
    }
   ],
   "source": [
    "library(lattice)\n",
    "library(xgboost)\n",
    "library(bnstruct)\n",
    "library(plyr)\n",
    "library(ggplot2)\n",
    "library(caTools)\n",
    "library(caret)\n",
    "library(pROC)\n",
    "\n",
    "df <- read.csv(\"cs-training.csv\")\n",
    "df <- df[,2:length(df)]\n",
    "head(df)"
   ]
  },
  {
   "cell_type": "markdown",
   "metadata": {},
   "source": [
    "Our task here is to design a binary classifier that can predict whether or not a potential borrower will default on their loan. We are given a dataset of 150,000 past borrowers, each labeled as to whether or not they had defaulted on their loan, along with 10 numeric variables about them. "
   ]
  },
  {
   "cell_type": "markdown",
   "metadata": {},
   "source": [
    "## Data Cleaning / Preprocessing "
   ]
  },
  {
   "cell_type": "markdown",
   "metadata": {},
   "source": [
    "First let's look at our predictor variable:"
   ]
  },
  {
   "cell_type": "code",
   "execution_count": 4,
   "metadata": {},
   "outputs": [
    {
     "data": {
      "text/plain": [
       "\n",
       "     0      1 \n",
       "139974  10026 "
      ]
     },
     "metadata": {},
     "output_type": "display_data"
    },
    {
     "data": {
      "text/html": [
       "'Proportion: 0.06684'"
      ],
      "text/latex": [
       "'Proportion: 0.06684'"
      ],
      "text/markdown": [
       "'Proportion: 0.06684'"
      ],
      "text/plain": [
       "[1] \"Proportion: 0.06684\""
      ]
     },
     "metadata": {},
     "output_type": "display_data"
    }
   ],
   "source": [
    "table(df[,1])\n",
    "paste(\"Proportion:\", mean(df[,1]))"
   ]
  },
  {
   "cell_type": "markdown",
   "metadata": {},
   "source": [
    "We can see that we're dealing with a moderate/large-sized class imbalance. Depending on the model, we may need to do some class balancing through undersample, oversampling, or some other balancing technique. But for now, we'll pause on this and look at our 10 features:"
   ]
  },
  {
   "cell_type": "code",
   "execution_count": 5,
   "metadata": {},
   "outputs": [
    {
     "data": {
      "text/plain": [
       " RevolvingUtilizationOfUnsecuredLines      age       \n",
       " Min.   :    0.00                     Min.   :  0.0  \n",
       " 1st Qu.:    0.03                     1st Qu.: 41.0  \n",
       " Median :    0.15                     Median : 52.0  \n",
       " Mean   :    6.05                     Mean   : 52.3  \n",
       " 3rd Qu.:    0.56                     3rd Qu.: 63.0  \n",
       " Max.   :50708.00                     Max.   :109.0  \n",
       "                                                     \n",
       " NumberOfTime30.59DaysPastDueNotWorse   DebtRatio        MonthlyIncome    \n",
       " Min.   : 0.000                       Min.   :     0.0   Min.   :      0  \n",
       " 1st Qu.: 0.000                       1st Qu.:     0.2   1st Qu.:   3400  \n",
       " Median : 0.000                       Median :     0.4   Median :   5400  \n",
       " Mean   : 0.421                       Mean   :   353.0   Mean   :   6670  \n",
       " 3rd Qu.: 0.000                       3rd Qu.:     0.9   3rd Qu.:   8249  \n",
       " Max.   :98.000                       Max.   :329664.0   Max.   :3008750  \n",
       "                                                         NA's   :29731    \n",
       " NumberOfOpenCreditLinesAndLoans NumberOfTimes90DaysLate\n",
       " Min.   : 0.000                  Min.   : 0.000         \n",
       " 1st Qu.: 5.000                  1st Qu.: 0.000         \n",
       " Median : 8.000                  Median : 0.000         \n",
       " Mean   : 8.453                  Mean   : 0.266         \n",
       " 3rd Qu.:11.000                  3rd Qu.: 0.000         \n",
       " Max.   :58.000                  Max.   :98.000         \n",
       "                                                        \n",
       " NumberRealEstateLoansOrLines NumberOfTime60.89DaysPastDueNotWorse\n",
       " Min.   : 0.000               Min.   : 0.0000                     \n",
       " 1st Qu.: 0.000               1st Qu.: 0.0000                     \n",
       " Median : 1.000               Median : 0.0000                     \n",
       " Mean   : 1.018               Mean   : 0.2404                     \n",
       " 3rd Qu.: 2.000               3rd Qu.: 0.0000                     \n",
       " Max.   :54.000               Max.   :98.0000                     \n",
       "                                                                  \n",
       " NumberOfDependents\n",
       " Min.   : 0.000    \n",
       " 1st Qu.: 0.000    \n",
       " Median : 0.000    \n",
       " Mean   : 0.757    \n",
       " 3rd Qu.: 1.000    \n",
       " Max.   :20.000    \n",
       " NA's   :3924      "
      ]
     },
     "metadata": {},
     "output_type": "display_data"
    }
   ],
   "source": [
    "summary(df[,2:length(df)])"
   ]
  },
  {
   "cell_type": "markdown",
   "metadata": {},
   "source": [
    "We also used histogram and density plots (omitted from the final report) can see just from a quick glance at our data's interquartile ranges (IQR) that we are dealing with major outliers for most our features. Two of our features, MonthlyIncome and NumberOfDependents, have missing values that will require imputation. We tackled our data cleaning and feature engineering one column at a time. "
   ]
  },
  {
   "cell_type": "markdown",
   "metadata": {},
   "source": [
    "### Age"
   ]
  },
  {
   "cell_type": "markdown",
   "metadata": {},
   "source": [
    "Looking at the value counts and IQR for age:"
   ]
  },
  {
   "cell_type": "code",
   "execution_count": 6,
   "metadata": {},
   "outputs": [
    {
     "data": {
      "text/plain": [
       "   Min. 1st Qu.  Median    Mean 3rd Qu.    Max. \n",
       "    0.0    41.0    52.0    52.3    63.0   109.0 "
      ]
     },
     "metadata": {},
     "output_type": "display_data"
    }
   ],
   "source": [
    "summary(df$age)"
   ]
  },
  {
   "cell_type": "code",
   "execution_count": 7,
   "metadata": {},
   "outputs": [
    {
     "data": {
      "text/plain": [
       "\n",
       "   0   21   22   23   24   25   26   27   28   29   30   31   32   33   34   35 \n",
       "   1  183  434  641  816  953 1193 1338 1560 1702 1937 2038 2050 2239 2155 2246 \n",
       "  36   37   38   39   40   41   42   43   44   45   46   47   48   49   50   51 \n",
       "2379 2521 2631 2987 3093 3122 3082 3208 3294 3502 3714 3719 3806 3837 3753 3627 \n",
       "  52   53   54   55   56   57   58   59   60   61   62   63   64   65   66   67 \n",
       "3609 3648 3561 3416 3589 3375 3443 3280 3258 3522 3568 3719 3058 2594 2494 2503 \n",
       "  68   69   70   71   72   73   74   75   76   77   78   79   80   81   82   83 \n",
       "2235 1954 1777 1646 1649 1520 1451 1241 1183 1099 1054  981  876  774  647  512 \n",
       "  84   85   86   87   88   89   90   91   92   93   94   95   96   97   98   99 \n",
       " 480  483  407  357  313  276  198  154   93   87   47   45   18   17    6    9 \n",
       " 101  102  103  105  107  109 \n",
       "   3    3    3    1    1    2 "
      ]
     },
     "metadata": {},
     "output_type": "display_data"
    }
   ],
   "source": [
    "table(df$age)"
   ]
  },
  {
   "cell_type": "markdown",
   "metadata": {},
   "source": [
    "Age tends to have a somewhat reasonable distribution. There are a suspicious number of centenarians in my opinion but I guess they're sufficiently plausible to avoid modifying them. The only certainly incorrect data is that there is one person in the dataset with age 0, and because infants are not legally permitted to take out loans, we will impute that to the next youngest person in the dataset."
   ]
  },
  {
   "cell_type": "code",
   "execution_count": 8,
   "metadata": {},
   "outputs": [],
   "source": [
    "df[df$age == 0,]$age <- min(df[df$age > 0,]$age)"
   ]
  },
  {
   "cell_type": "code",
   "execution_count": null,
   "metadata": {},
   "outputs": [],
   "source": []
  },
  {
   "cell_type": "markdown",
   "metadata": {},
   "source": [
    "## Monthly Income"
   ]
  },
  {
   "cell_type": "code",
   "execution_count": 9,
   "metadata": {},
   "outputs": [
    {
     "data": {
      "text/plain": [
       "   Min. 1st Qu.  Median    Mean 3rd Qu.    Max.    NA's \n",
       "      0    3400    5400    6670    8249 3008750   29731 "
      ]
     },
     "metadata": {},
     "output_type": "display_data"
    }
   ],
   "source": [
    "summary( df$MonthlyIncome )"
   ]
  },
  {
   "cell_type": "markdown",
   "metadata": {},
   "source": [
    "MonthlyIncome has nearly 30,000 missing values, and at 20% of the dataset, that's a lot of missing information. But there may be a reason for these missing values. We checked to see if the people with missing MonthlyIncome values have any special properties:"
   ]
  },
  {
   "cell_type": "code",
   "execution_count": 10,
   "metadata": {},
   "outputs": [
    {
     "data": {
      "text/plain": [
       " SeriousDlqin2yrs  RevolvingUtilizationOfUnsecuredLines      age        \n",
       " Min.   :0.00000   Min.   :    0.000                    Min.   : 21.00  \n",
       " 1st Qu.:0.00000   1st Qu.:    0.016                    1st Qu.: 46.00  \n",
       " Median :0.00000   Median :    0.082                    Median : 57.00  \n",
       " Mean   :0.05614   Mean   :    6.649                    Mean   : 56.36  \n",
       " 3rd Qu.:0.00000   3rd Qu.:    0.441                    3rd Qu.: 67.00  \n",
       " Max.   :1.00000   Max.   :22198.000                    Max.   :109.00  \n",
       "                                                                        \n",
       " NumberOfTime30.59DaysPastDueNotWorse   DebtRatio      MonthlyIncome  \n",
       " Min.   : 0.0000                      Min.   :     0   Min.   : NA    \n",
       " 1st Qu.: 0.0000                      1st Qu.:   123   1st Qu.: NA    \n",
       " Median : 0.0000                      Median :  1159   Median : NA    \n",
       " Mean   : 0.5799                      Mean   :  1673   Mean   :NaN    \n",
       " 3rd Qu.: 0.0000                      3rd Qu.:  2382   3rd Qu.: NA    \n",
       " Max.   :98.0000                      Max.   :329664   Max.   : NA    \n",
       "                                                       NA's   :29731  \n",
       " NumberOfOpenCreditLinesAndLoans NumberOfTimes90DaysLate\n",
       " Min.   : 0.000                  Min.   : 0.0000        \n",
       " 1st Qu.: 4.000                  1st Qu.: 0.0000        \n",
       " Median : 6.000                  Median : 0.0000        \n",
       " Mean   : 7.216                  Mean   : 0.4846        \n",
       " 3rd Qu.:10.000                  3rd Qu.: 0.0000        \n",
       " Max.   :45.000                  Max.   :98.0000        \n",
       "                                                        \n",
       " NumberRealEstateLoansOrLines NumberOfTime60.89DaysPastDueNotWorse\n",
       " Min.   : 0.0000              Min.   : 0.000                      \n",
       " 1st Qu.: 0.0000              1st Qu.: 0.000                      \n",
       " Median : 1.0000              Median : 0.000                      \n",
       " Mean   : 0.8715              Mean   : 0.453                      \n",
       " 3rd Qu.: 1.0000              3rd Qu.: 0.000                      \n",
       " Max.   :23.0000              Max.   :98.000                      \n",
       "                                                                  \n",
       " NumberOfDependents\n",
       " Min.   :0.000     \n",
       " 1st Qu.:0.000     \n",
       " Median :0.000     \n",
       " Mean   :0.316     \n",
       " 3rd Qu.:0.000     \n",
       " Max.   :9.000     \n",
       " NA's   :3924      "
      ]
     },
     "metadata": {},
     "output_type": "display_data"
    }
   ],
   "source": [
    "summary ( df[is.na(df$MonthlyIncome),] )"
   ]
  },
  {
   "cell_type": "markdown",
   "metadata": {},
   "source": [
    "Wow, it looks like the DebtRatio is significantly higher for those with missing incomes (a median DebtRatio of over 1,000!). This makes sense because DebtRatio is calculated as the amount of debt someone has divided by their income, so if they have a trivial income, we can expect abnormally high DebtRatios. Additionally, we later observed that out of those with high DebtRatios that didn't have missing MonthlyIncomes, their MonthlyIncomes were zero or near-zero. Our likely hypothesis is that missing MonthlyIncome values came from borrowers who left that field blank because they had low or no income. If we go with this theory, then one option is to just impute these missing values with zero."
   ]
  },
  {
   "cell_type": "code",
   "execution_count": 11,
   "metadata": {},
   "outputs": [],
   "source": [
    "# Option 1\n",
    "ImputeMonthlyIncomeWithZeroForAll <- function(df) {\n",
    "    df[is.na(df$MonthlyIncome),]$MonthlyIncome <- 0\n",
    "    return(df)\n",
    "}"
   ]
  },
  {
   "cell_type": "markdown",
   "metadata": {},
   "source": [
    "Another option for imputation is to use some regression model to fill in missing data. We chose a k-nearest neighbors imputer which looks at the other 9 variables and uses them to predict the missing values. We ran a quick knn model and saved our results. We then can impute by loading the regression results into our MonthlyIncome column."
   ]
  },
  {
   "cell_type": "code",
   "execution_count": 300,
   "metadata": {},
   "outputs": [],
   "source": [
    "# NOTE: this code only needs to be executed on first run; subsequent runs can just load the impute calculations\n",
    "data_imputed <- knn.impute(df,k=10,cat.var = c(1,4,7:11), to.impute = 1:nrow(df), using = 1:nrow(df))\n",
    "write.csv(data_imputed, \"data_imputed.csv\") # save for quick retrieval for future runs"
   ]
  },
  {
   "cell_type": "code",
   "execution_count": 12,
   "metadata": {},
   "outputs": [],
   "source": [
    "# Option 2\n",
    "ImputeMonthlyIncomeWithKNNOnly <- function(df) {\n",
    "    data_imputed <- read.csv(\"data_imputed.csv\")\n",
    "    df$MonthlyIncome <- data_imputed$MonthlyIncome\n",
    "    return (df)\n",
    "}"
   ]
  },
  {
   "cell_type": "markdown",
   "metadata": {},
   "source": [
    "Our third (and favorite) option was to use a hybrid of both: this imputer would first impute monthly incomes with sufficiently high debt ratios as zero, and then would use the KNN imputation for the rest of the missing values."
   ]
  },
  {
   "cell_type": "code",
   "execution_count": 13,
   "metadata": {},
   "outputs": [],
   "source": [
    "# Option 3\n",
    "ImputeMonthlyIncomeWithZeroForHighDR <- function(df) {\n",
    "    df[df$DebtRatio > 150,]$MonthlyIncome <- 0\n",
    "    return (df)\n",
    "}"
   ]
  },
  {
   "cell_type": "code",
   "execution_count": null,
   "metadata": {},
   "outputs": [],
   "source": []
  },
  {
   "cell_type": "markdown",
   "metadata": {},
   "source": [
    "## Number of Dependents"
   ]
  },
  {
   "cell_type": "code",
   "execution_count": 14,
   "metadata": {},
   "outputs": [
    {
     "data": {
      "text/plain": [
       "   Min. 1st Qu.  Median    Mean 3rd Qu.    Max.    NA's \n",
       "  0.000   0.000   0.000   0.757   1.000  20.000    3924 "
      ]
     },
     "metadata": {},
     "output_type": "display_data"
    }
   ],
   "source": [
    "summary(df$NumberOfDependents)"
   ]
  },
  {
   "cell_type": "code",
   "execution_count": 15,
   "metadata": {},
   "outputs": [
    {
     "data": {
      "text/plain": [
       "\n",
       "    0     1     2     3     4     5     6     7     8     9    10    13    20 \n",
       "86902 26316 19522  9483  2862   746   158    51    24     5     5     1     1 "
      ]
     },
     "metadata": {},
     "output_type": "display_data"
    }
   ],
   "source": [
    "table(df$NumberOfDependents)"
   ]
  },
  {
   "cell_type": "markdown",
   "metadata": {},
   "source": [
    "The other variable with missing values was NumberOfDependents. There are about 4,000 missing values here (~2% of the dataset). Similar to MonthlyIncome, we can do a quick scan of the dataset of people with missing NumberOfDependents to see if they have any special properties:"
   ]
  },
  {
   "cell_type": "code",
   "execution_count": 16,
   "metadata": {},
   "outputs": [
    {
     "data": {
      "text/plain": [
       " SeriousDlqin2yrs  RevolvingUtilizationOfUnsecuredLines      age        \n",
       " Min.   :0.00000   Min.   :    0.000                    Min.   : 21.00  \n",
       " 1st Qu.:0.00000   1st Qu.:    0.008                    1st Qu.: 48.00  \n",
       " Median :0.00000   Median :    0.047                    Median : 61.00  \n",
       " Mean   :0.04562   Mean   :   10.745                    Mean   : 59.59  \n",
       " 3rd Qu.:0.00000   3rd Qu.:    0.268                    3rd Qu.: 74.00  \n",
       " Max.   :1.00000   Max.   :10821.000                    Max.   :109.00  \n",
       "                                                                        \n",
       " NumberOfTime30.59DaysPastDueNotWorse   DebtRatio      MonthlyIncome \n",
       " Min.   : 0.0000                      Min.   :     0   Min.   : NA   \n",
       " 1st Qu.: 0.0000                      1st Qu.:    21   1st Qu.: NA   \n",
       " Median : 0.0000                      Median :   358   Median : NA   \n",
       " Mean   : 0.9083                      Mean   :  1084   Mean   :NaN   \n",
       " 3rd Qu.: 0.0000                      3rd Qu.:  1559   3rd Qu.: NA   \n",
       " Max.   :98.0000                      Max.   :220516   Max.   : NA   \n",
       "                                                       NA's   :3924  \n",
       " NumberOfOpenCreditLinesAndLoans NumberOfTimes90DaysLate\n",
       " Min.   : 0.000                  Min.   : 0.0000        \n",
       " 1st Qu.: 3.000                  1st Qu.: 0.0000        \n",
       " Median : 5.000                  Median : 0.0000        \n",
       " Mean   : 5.604                  Mean   : 0.8346        \n",
       " 3rd Qu.: 8.000                  3rd Qu.: 0.0000        \n",
       " Max.   :30.000                  Max.   :98.0000        \n",
       "                                                        \n",
       " NumberRealEstateLoansOrLines NumberOfTime60.89DaysPastDueNotWorse\n",
       " Min.   : 0.000               Min.   : 0.0000                     \n",
       " 1st Qu.: 0.000               1st Qu.: 0.0000                     \n",
       " Median : 0.000               Median : 0.0000                     \n",
       " Mean   : 0.591               Mean   : 0.8122                     \n",
       " 3rd Qu.: 1.000               3rd Qu.: 0.0000                     \n",
       " Max.   :15.000               Max.   :98.0000                     \n",
       "                                                                  \n",
       " NumberOfDependents\n",
       " Min.   : NA       \n",
       " 1st Qu.: NA       \n",
       " Median : NA       \n",
       " Mean   :NaN       \n",
       " 3rd Qu.: NA       \n",
       " Max.   : NA       \n",
       " NA's   :3924      "
      ]
     },
     "metadata": {},
     "output_type": "display_data"
    }
   ],
   "source": [
    "summary ( df[is.na(df$NumberOfDependents),] )"
   ]
  },
  {
   "cell_type": "markdown",
   "metadata": {},
   "source": [
    "Since all of the people with missing NumberOfDependents also have a missing MonthlyIncome, their DebtRatio is high as well. But other than that, they don't seem to have anything particularly unusual. So if we do an imputation, it would make most sense just to impute with regards to some central tendency. We have a couple options here: one, we could impute with the median. But since the median is zero, it's possible that this could undershoot the true number of dependents. We could try the mean as well. And finally, we could also bring out the KNN imputer."
   ]
  },
  {
   "cell_type": "code",
   "execution_count": 17,
   "metadata": {},
   "outputs": [],
   "source": [
    "# Option 1: Impute with median (zero)\n",
    "ImputeDependentsWithZero <- function(df) {\n",
    "    df[is.na(df$NumberOfDependents),]$NumberOfDependents <- 0\n",
    "    return (df)\n",
    "}\n",
    "\n",
    "# Option 2: Impute with mean\n",
    "ImputeNumberOfDependentsMean <- function(df){\n",
    "  df[is.na(df$NumberOfDependents), ]$NumberOfDependents <- mean(na.omit(df$NumberOfDependents))\n",
    "  return(df)\n",
    "}\n",
    "\n",
    "# Option 3: Impute with KNN\n",
    "ImputeDependentsWithKNN <- function(df) {\n",
    "    data_imputed <- read.csv(\"data_imputed.csv\")\n",
    "    df$NumberOfDependents <- data_imputed$NumberOfDependents\n",
    "    return (df)\n",
    "}"
   ]
  },
  {
   "cell_type": "code",
   "execution_count": null,
   "metadata": {},
   "outputs": [],
   "source": []
  },
  {
   "cell_type": "markdown",
   "metadata": {},
   "source": [
    "## RevolvingUtilizationOfUnsecuredLines"
   ]
  },
  {
   "cell_type": "code",
   "execution_count": 18,
   "metadata": {},
   "outputs": [
    {
     "data": {
      "text/plain": [
       "    Min.  1st Qu.   Median     Mean  3rd Qu.     Max. \n",
       "    0.00     0.03     0.15     6.05     0.56 50708.00 "
      ]
     },
     "metadata": {},
     "output_type": "display_data"
    }
   ],
   "source": [
    "summary ( df$RevolvingUtilizationOfUnsecuredLines )"
   ]
  },
  {
   "cell_type": "markdown",
   "metadata": {},
   "source": [
    "No missing or incorrect values for RevolvingUtilizationOfUnsecuredLines - however, there is a very notable amount of extremely high outliers. In fact, the mean of our data is higher than our 99th percentile. These could skew our model. To quickly check if there are any special propreties of those individuals with very high RevolvingUtilizationOfUnsecuredLines:"
   ]
  },
  {
   "cell_type": "code",
   "execution_count": 19,
   "metadata": {},
   "outputs": [
    {
     "data": {
      "text/html": [
       "223"
      ],
      "text/latex": [
       "223"
      ],
      "text/markdown": [
       "223"
      ],
      "text/plain": [
       "[1] 223"
      ]
     },
     "metadata": {},
     "output_type": "display_data"
    },
    {
     "data": {
      "text/plain": [
       " SeriousDlqin2yrs  RevolvingUtilizationOfUnsecuredLines      age       \n",
       " Min.   :0.00000   Min.   :  112                        Min.   :24.00  \n",
       " 1st Qu.:0.00000   1st Qu.: 1082                        1st Qu.:39.00  \n",
       " Median :0.00000   Median : 2159                        Median :48.00  \n",
       " Mean   :0.04933   Mean   : 3848                        Mean   :50.59  \n",
       " 3rd Qu.:0.00000   3rd Qu.: 4318                        3rd Qu.:62.50  \n",
       " Max.   :1.00000   Max.   :50708                        Max.   :87.00  \n",
       "                                                                       \n",
       " NumberOfTime30.59DaysPastDueNotWorse   DebtRatio         MonthlyIncome  \n",
       " Min.   :0.00                         Min.   :    0.001   Min.   :    0  \n",
       " 1st Qu.:0.00                         1st Qu.:    0.213   1st Qu.: 4800  \n",
       " Median :0.00                         Median :    0.381   Median : 7083  \n",
       " Mean   :0.13                         Mean   :  604.614   Mean   : 8629  \n",
       " 3rd Qu.:0.00                         3rd Qu.:   81.500   3rd Qu.:10400  \n",
       " Max.   :2.00                         Max.   :21395.000   Max.   :44472  \n",
       "                                                          NA's   :62     \n",
       " NumberOfOpenCreditLinesAndLoans NumberOfTimes90DaysLate\n",
       " Min.   : 1.000                  Min.   :0.00000        \n",
       " 1st Qu.: 4.000                  1st Qu.:0.00000        \n",
       " Median : 5.000                  Median :0.00000        \n",
       " Mean   : 5.637                  Mean   :0.03139        \n",
       " 3rd Qu.: 7.000                  3rd Qu.:0.00000        \n",
       " Max.   :21.000                  Max.   :3.00000        \n",
       "                                                        \n",
       " NumberRealEstateLoansOrLines NumberOfTime60.89DaysPastDueNotWorse\n",
       " Min.   :0.000                Min.   :0.00000                     \n",
       " 1st Qu.:0.000                1st Qu.:0.00000                     \n",
       " Median :1.000                Median :0.00000                     \n",
       " Mean   :1.197                Mean   :0.02242                     \n",
       " 3rd Qu.:2.000                3rd Qu.:0.00000                     \n",
       " Max.   :9.000                Max.   :1.00000                     \n",
       "                                                                  \n",
       " NumberOfDependents\n",
       " Min.   :0.000     \n",
       " 1st Qu.:0.000     \n",
       " Median :0.000     \n",
       " Mean   :0.684     \n",
       " 3rd Qu.:1.000     \n",
       " Max.   :4.000     \n",
       " NA's   :11        "
      ]
     },
     "metadata": {},
     "output_type": "display_data"
    }
   ],
   "source": [
    "length(df[df$RevolvingUtilizationOfUnsecuredLines >= 100,][,1])\n",
    "summary ( df[df$RevolvingUtilizationOfUnsecuredLines >= 100,] )"
   ]
  },
  {
   "cell_type": "markdown",
   "metadata": {},
   "source": [
    "These individuals don't appear to have any special properties outside of the rest of the dataset, so we can help by trimming the outliers. We have a few options: either we can either trim our outliers (ie, get rid of them entirely), convert these outliers to the median, or we can perform Winsorization, the process of converting all values above a certain range to some Nth percentile."
   ]
  },
  {
   "cell_type": "code",
   "execution_count": 20,
   "metadata": {},
   "outputs": [],
   "source": [
    "TrimHighRevolvingUtilToMedian <- function(df){\n",
    "  df[df$RevolvingUtilizationOfUnsecuredLines>100,]$RevolvingUtilizationOfUnsecuredLines<- median(df$RevolvingUtilizationOfUnsecuredLines)\n",
    "  return(df)\n",
    "}"
   ]
  },
  {
   "cell_type": "code",
   "execution_count": 21,
   "metadata": {},
   "outputs": [],
   "source": [
    "WinsorizeHighRevolvingUtil <- function(df, qtile){\n",
    "  s <- seq(1, (1-qtile)*nrow(df), 1)\n",
    "  sorted <- df[order(df$RevolvingUtilizationOfUnsecuredLines),]\n",
    "  trim.max <- max(sorted$RevolvingUtilizationOfUnsecuredLines[s])\n",
    "  df[df$RevolvingUtilizationOfUnsecuredLines > trim.max, ]$RevolvingUtilizationOfUnsecuredLines <- trim.max\n",
    "  return (df)\n",
    "}"
   ]
  },
  {
   "cell_type": "code",
   "execution_count": null,
   "metadata": {},
   "outputs": [],
   "source": []
  },
  {
   "cell_type": "markdown",
   "metadata": {},
   "source": [
    "## DebtRatio"
   ]
  },
  {
   "cell_type": "code",
   "execution_count": 22,
   "metadata": {},
   "outputs": [
    {
     "data": {
      "text/plain": [
       "    Min.  1st Qu.   Median     Mean  3rd Qu.     Max. \n",
       "     0.0      0.2      0.4    353.0      0.9 329664.0 "
      ]
     },
     "metadata": {},
     "output_type": "display_data"
    }
   ],
   "source": [
    "summary ( df$DebtRatio )"
   ]
  },
  {
   "cell_type": "markdown",
   "metadata": {},
   "source": [
    "We explained the DebtRatio outliers with MonthlyIncome, and how these individuals with extremely high DebtRatios just have no/minimal income. For the sake of a cleaner model, it could help to trim these outliers as well."
   ]
  },
  {
   "cell_type": "code",
   "execution_count": 23,
   "metadata": {},
   "outputs": [],
   "source": [
    "WinsorizeDebtRatio <- function(df, qtile){\n",
    "  s <- seq(1, (1-qtile)*nrow(df), 1)\n",
    "  sorted <- df[order(df$DebtRatio),]\n",
    "  trim.max <- max(sorted$DebtRatio[s])\n",
    "  df[df$DebtRatio > trim.max, ]$DebtRatio <- trim.max\n",
    "  return (df)\n",
    "}"
   ]
  },
  {
   "cell_type": "code",
   "execution_count": null,
   "metadata": {},
   "outputs": [],
   "source": []
  },
  {
   "cell_type": "markdown",
   "metadata": {},
   "source": [
    "## Number of Days Past Due "
   ]
  },
  {
   "cell_type": "code",
   "execution_count": 24,
   "metadata": {},
   "outputs": [
    {
     "data": {
      "text/plain": [
       "\n",
       "     0      1      2      3      4      5      6      7      8      9     10 \n",
       "126018  16033   4598   1754    747    342    140     54     25     12      4 \n",
       "    11     12     13     96     98 \n",
       "     1      2      1      5    264 "
      ]
     },
     "metadata": {},
     "output_type": "display_data"
    }
   ],
   "source": [
    "table(df$NumberOfTime30.59DaysPastDueNotWorse)"
   ]
  },
  {
   "cell_type": "code",
   "execution_count": 25,
   "metadata": {},
   "outputs": [
    {
     "data": {
      "text/plain": [
       "\n",
       "     0      1      2      3      4      5      6      7      8      9     11 \n",
       "142396   5731   1118    318    105     34     16      9      2      1      1 \n",
       "    96     98 \n",
       "     5    264 "
      ]
     },
     "metadata": {},
     "output_type": "display_data"
    }
   ],
   "source": [
    "table(df$NumberOfTime60.89DaysPastDueNotWorse)"
   ]
  },
  {
   "cell_type": "code",
   "execution_count": 26,
   "metadata": {},
   "outputs": [
    {
     "data": {
      "text/plain": [
       "\n",
       "     0      1      2      3      4      5      6      7      8      9     10 \n",
       "141662   5243   1555    667    291    131     80     38     21     19      8 \n",
       "    11     12     13     14     15     17     96     98 \n",
       "     5      2      4      2      2      1      5    264 "
      ]
     },
     "metadata": {},
     "output_type": "display_data"
    }
   ],
   "source": [
    "table(df$NumberOfTimes90DaysLate)"
   ]
  },
  {
   "cell_type": "markdown",
   "metadata": {},
   "source": [
    "Upon a first look at the IQRs of these three variables, we initially thought that there were just outliers in these three datasets. However, looking above, it seems that 96 or 98 are chosen exactly the same for all three categories of days late. Let's see what properties these have:"
   ]
  },
  {
   "cell_type": "code",
   "execution_count": 27,
   "metadata": {},
   "outputs": [
    {
     "data": {
      "text/plain": [
       " SeriousDlqin2yrs RevolvingUtilizationOfUnsecuredLines      age       \n",
       " Min.   :0.0000   Min.   :1                            Min.   :21.00  \n",
       " 1st Qu.:0.0000   1st Qu.:1                            1st Qu.:24.00  \n",
       " Median :1.0000   Median :1                            Median :29.00  \n",
       " Mean   :0.5465   Mean   :1                            Mean   :34.25  \n",
       " 3rd Qu.:1.0000   3rd Qu.:1                            3rd Qu.:43.00  \n",
       " Max.   :1.0000   Max.   :1                            Max.   :79.00  \n",
       "                                                                      \n",
       " NumberOfTime30.59DaysPastDueNotWorse   DebtRatio      MonthlyIncome  \n",
       " Min.   :96.00                        Min.   :  0.00   Min.   :    0  \n",
       " 1st Qu.:98.00                        1st Qu.:  0.00   1st Qu.: 1333  \n",
       " Median :98.00                        Median :  0.00   Median : 2168  \n",
       " Mean   :97.96                        Mean   :  5.74   Mean   : 2557  \n",
       " 3rd Qu.:98.00                        3rd Qu.:  0.00   3rd Qu.: 3174  \n",
       " Max.   :98.00                        Max.   :255.00   Max.   :28733  \n",
       "                                                       NA's   :121    \n",
       " NumberOfOpenCreditLinesAndLoans NumberOfTimes90DaysLate\n",
       " Min.   :0.000000                Min.   :96.00          \n",
       " 1st Qu.:0.000000                1st Qu.:98.00          \n",
       " Median :0.000000                Median :98.00          \n",
       " Mean   :0.007435                Mean   :97.96          \n",
       " 3rd Qu.:0.000000                3rd Qu.:98.00          \n",
       " Max.   :1.000000                Max.   :98.00          \n",
       "                                                        \n",
       " NumberRealEstateLoansOrLines NumberOfTime60.89DaysPastDueNotWorse\n",
       " Min.   :0                    Min.   :96.00                       \n",
       " 1st Qu.:0                    1st Qu.:98.00                       \n",
       " Median :0                    Median :98.00                       \n",
       " Mean   :0                    Mean   :97.96                       \n",
       " 3rd Qu.:0                    3rd Qu.:98.00                       \n",
       " Max.   :0                    Max.   :98.00                       \n",
       "                                                                  \n",
       " NumberOfDependents\n",
       " Min.   :0.0000    \n",
       " 1st Qu.:0.0000    \n",
       " Median :0.0000    \n",
       " Mean   :0.3697    \n",
       " 3rd Qu.:0.0000    \n",
       " Max.   :5.0000    \n",
       " NA's   :31        "
      ]
     },
     "metadata": {},
     "output_type": "display_data"
    }
   ],
   "source": [
    "summary(df[df$NumberOfTime30.59DaysPastDueNotWorse>95,])"
   ]
  },
  {
   "cell_type": "markdown",
   "metadata": {},
   "source": [
    "Looking above, it appears that any row that has values of 96 or 98 for their PastDue column will also have that same value marked for the rest of the PastDue categories. More importantly, these values have a mean SeriousDlqin2yrs of 0.54. This is close to 10x the probability of the sample dataset. This has enormous predictive power if these types of values are also present in the testing data. \n",
    "\n",
    "We want to be able to harness the predictive power of these values, so before we impute, we will augment our feature space by making a special binary column marking each rows that have a 96 or 98 in the PastDue columns. That makes sure we still can capture this signal even when we impute the data. We still need to impute the data here even with some useful signal because the 96 and 98 values are outliers in the context of the rest of the values in the three PastDue columns.\n",
    "\n",
    "There are a couple different options to impute them. We can either impute them with the max (technically we could also use Winsorization but might not be super necessary considering there aren't really any other outliers besides the 96 and 98 values), or if we feel these datapoints are more representative of the median we could impute these at the median."
   ]
  },
  {
   "cell_type": "code",
   "execution_count": null,
   "metadata": {},
   "outputs": [],
   "source": []
  },
  {
   "cell_type": "code",
   "execution_count": 28,
   "metadata": {},
   "outputs": [],
   "source": [
    "# Option 1\n",
    "ImputeWeirdPastDueWithMax <- function(df) {\n",
    "    df[df$NumberOfTime30.59DaysPastDueNotWorse > 95,]$NumberOfTime30.59DaysPastDueNotWorse <- NA\n",
    "    df[is.na(df$NumberOfTime30.59DaysPastDueNotWorse),]$NumberOfTime30.59DaysPastDueNotWorse <- max( na.omit(df$NumberOfTime30.59DaysPastDueNotWorse))\n",
    "    df[df$NumberOfTime60.89DaysPastDueNotWorse > 95,]$NumberOfTime60.89DaysPastDueNotWorse <- NA\n",
    "    df[is.na(df$NumberOfTime60.89DaysPastDueNotWorse),]$NumberOfTime60.89DaysPastDueNotWorse <- max(na.omit(df$NumberOfTime60.89DaysPastDueNotWorse))\n",
    "    df[df$NumberOfTimes90DaysLate > 95,]$NumberOfTimes90DaysLate <- NA\n",
    "    df[is.na(df$NumberOfTimes90DaysLate),]$NumberOfTimes90DaysLate <- max(na.omit(df$NumberOfTimes90DaysLate))\n",
    "    return (df)\n",
    "}"
   ]
  },
  {
   "cell_type": "code",
   "execution_count": 29,
   "metadata": {},
   "outputs": [],
   "source": [
    "# Option 2\n",
    "ImputeWeirdPastDueWithMedian <- function(df) {\n",
    "    df[df$NumberOfTime30.59DaysPastDueNotWorse > 95,]$NumberOfTime30.59DaysPastDueNotWorse <- NA\n",
    "    df[is.na(df$NumberOfTime30.59DaysPastDueNotWorse),]$NumberOfTime30.59DaysPastDueNotWorse <- median( na.omit(df$NumberOfTime30.59DaysPastDueNotWorse))\n",
    "    df[df$NumberOfTime60.89DaysPastDueNotWorse > 95,]$NumberOfTime60.89DaysPastDueNotWorse <- NA\n",
    "    df[is.na(df$NumberOfTime60.89DaysPastDueNotWorse),]$NumberOfTime60.89DaysPastDueNotWorse <- median(na.omit(df$NumberOfTime60.89DaysPastDueNotWorse))\n",
    "    df[df$NumberOfTimes90DaysLate > 95,]$NumberOfTimes90DaysLate <-NA\n",
    "    df[is.na(df$NumberOfTimes90DaysLate),]$NumberOfTimes90DaysLate <- median(na.omit(df$NumberOfTimes90DaysLate))\n",
    "    return (df)\n",
    "}"
   ]
  },
  {
   "cell_type": "code",
   "execution_count": 30,
   "metadata": {},
   "outputs": [],
   "source": [
    "# Option 3\n",
    "ImputeWeirdPastDueToNA <- function(df) {\n",
    "    df[df$NumberOfTime30.59DaysPastDueNotWorse > 95,]$NumberOfTime30.59DaysPastDueNotWorse <- NA\n",
    "    df[df$NumberOfTime60.89DaysPastDueNotWorse > 95,]$NumberOfTime60.89DaysPastDueNotWorse <- NA\n",
    "    df[df$NumberOfTimes90DaysLate > 95,]$NumberOfTimes90DaysLate <-NA\n",
    "    return (df)\n",
    "}"
   ]
  },
  {
   "cell_type": "code",
   "execution_count": null,
   "metadata": {},
   "outputs": [],
   "source": []
  },
  {
   "cell_type": "markdown",
   "metadata": {},
   "source": [
    "# Feature Engineering"
   ]
  },
  {
   "cell_type": "markdown",
   "metadata": {},
   "source": [
    "We haven't ran our imputation and cleaning functions on our data yet, but we have set them up. That's because before we impute, we want to see if we can dig out more signal from our dataset by creating new features out of our pre-existing ones. These can include transformations of our initial features, combinations of our initial features, transformations of combinations of our features, or adding in outside information. \n",
    "\n",
    "The easiest features to add are just common binary cases that may have a lot of predictive power. Some examples are:"
   ]
  },
  {
   "cell_type": "code",
   "execution_count": 31,
   "metadata": {},
   "outputs": [],
   "source": [
    "AddFeatures <- function(df) {\n",
    "    df$NoDebt <- as.numeric(df$DebtRatio == 0)\n",
    "    df$VeryHighDebtRatio <- as.numeric(df$DebtRatio  >= 1 & df$DebtRatio < 10)\n",
    "    df$ExtremelyHighDebtRatio <- as.numeric(df$DebtRatio  >= 100)\n",
    "\n",
    "    df$NoRevolvingUtilization <- as.numeric ( df$RevolvingUtilizationOfUnsecuredLines == 0 )\n",
    "    df$HighRevolvingUtilization <- as.numeric ( df$RevolvingUtilizationOfUnsecuredLines >= 1 )\n",
    "\n",
    "    df$WeirdPastDue <- as.numeric ( df$NumberOfTime30.59DaysPastDueNotWorse > 95 )\n",
    "    df$NeverPastDue <- as.numeric ( df$NumberOfTime30.59DaysPastDueNotWorse == 0 & \n",
    "                                    df$NumberOfTime60.89DaysPastDueNotWorse==0 & \n",
    "                                    df$NumberOfTimes90DaysLate ==0 )\n",
    "    \n",
    "    return ( df )\n",
    "}"
   ]
  },
  {
   "cell_type": "markdown",
   "metadata": {},
   "source": [
    "Now that we've imputed number of dependents and monthly income, we can engineer some more features that are based on these variables."
   ]
  },
  {
   "cell_type": "code",
   "execution_count": 230,
   "metadata": {},
   "outputs": [],
   "source": [
    "ExpandFeatureSpace <- function(df) {\n",
    "    df$NoIncome <- as.numeric ( df$MonthlyIncome == 0 )\n",
    "    df$LowIncome <- as.numeric ( df$MonthlyIncome > 0 & df$MonthlyIncome < 500 )\n",
    "    df$HighIncome <- as.numeric ( df$MonthlyIncome > 10000 )\n",
    "    \n",
    "    df$IncomeToAgeRatio <- df$MonthlyIncome / df$age\n",
    "    df$LogIncomeToAgeRatio <- log ( df$MonthlyIncome / df$age )\n",
    "    df[df$IncomeToAgeRatio == 0,]$LogIncomeToAgeRatio <- 0\n",
    "\n",
    "    df$LogRevolvingUtilization <- log (df$RevolvingUtilizationOfUnsecuredLines)\n",
    "    df[df$RevolvingUtilizationOfUnsecuredLines==0,]$LogRevolvingUtilization <- 0\n",
    "\n",
    "    df$LogDebtRatio <- log (df$DebtRatio)\n",
    "    df[df$DebtRatio == 0,]$LogDebtRatio <- 0\n",
    "    \n",
    "    df$NeverPastDueXNumberOfLines <- df$NumberOfOpenCreditLinesAndLoans * df$NeverPastDue\n",
    "    df$NeverPastDueXRealEstate    <- df$NumberRealEstateLoansOrLines * df$NeverPastDue\n",
    "    \n",
    "    #df$IncomePercentileForAge <- read.csv(\"incPercentiles.csv\")[,1]\n",
    "    return ( df )\n",
    "}"
   ]
  },
  {
   "cell_type": "markdown",
   "metadata": {},
   "source": [
    "We can even try and engineer features out of information we don't even have. One attempt involved grabbing age and income data from the US census and creating a percentile table. We then made a new column called 'IncomePercentileForAge', which returns how much income an individual is making relative to their age group."
   ]
  },
  {
   "cell_type": "code",
   "execution_count": 324,
   "metadata": {},
   "outputs": [],
   "source": [
    "inc <- read.csv(\"inc_percentiles.csv\")\n",
    "get_income_percentile <- function(age, monthly_income) {\n",
    "    if (age > 75 ) {\n",
    "        age <- 75\n",
    "    }\n",
    "    \n",
    "    percentile <- ecdf ( inc[inc$AGE == age,]$INC )\n",
    "    yearly_income <- monthly_income * 12\n",
    "    return ( percentile(yearly_income) )\n",
    "}\n",
    "\n",
    "IncomePercentileForAge <- c()\n",
    "for (i in 1:150000) {\n",
    "    IncomePercentileForAge[i] <- get_income_percentile( df$age[i], df$MonthlyIncome[i] )\n",
    "}\n",
    "\n",
    "df$IncomePercentileForAge <- IncomePercentileForAge"
   ]
  },
  {
   "cell_type": "code",
   "execution_count": 8,
   "metadata": {},
   "outputs": [],
   "source": [
    "df$IncomePercentileForAge <- read.csv(\"incPercentiles.csv\")"
   ]
  },
  {
   "cell_type": "markdown",
   "metadata": {},
   "source": [
    "## Final Cleaning Routine "
   ]
  },
  {
   "cell_type": "markdown",
   "metadata": {},
   "source": [
    "After much testing through cross-validation, we found the best cleaning routine to be the following:"
   ]
  },
  {
   "cell_type": "code",
   "execution_count": 328,
   "metadata": {},
   "outputs": [],
   "source": [
    "### replaces days past due with NAs, and dbetratio > 150 with zero\n",
    "PreImputation <- function(df) {\n",
    "    df[df$NumberOfTime30.59DaysPastDueNotWorse > 95,]$NumberOfTime30.59DaysPastDueNotWorse <- NA\n",
    "    df[df$NumberOfTime60.89DaysPastDueNotWorse > 95,]$NumberOfTime60.89DaysPastDueNotWorse <- NA\n",
    "    df[df$NumberOfTimes90DaysLate > 95,]$NumberOfTimes90DaysLate <-NA\n",
    "    return (df)\n",
    "}\n",
    "\n",
    "\n",
    "ImputeMonthlyIncomeWithZeroForHighDR <- function(df) {\n",
    "    df[df$DebtRatio > 150,]$MonthlyIncome <- 0\n",
    "    return (df)\n",
    "}\n"
   ]
  },
  {
   "cell_type": "code",
   "execution_count": 326,
   "metadata": {},
   "outputs": [],
   "source": [
    "df.test <- df\n",
    "df.test <- ImputeMonthlyIncomeWithZeroForHighDR(df)\n",
    "data_imputed <- knn.impute(as.matrix(df.test),k=10,cat.var = c(1,4,7:11), to.impute = 1:nrow(df), using = 1:nrow(df))\n",
    "write.csv(data_imputed, \"data_imputed.csv\") # save for quick retrieval for future runs\n",
    "df.test <- data_imputed\n",
    "df.test <- AddFeatures ( as.data.frame ( df.test ) )\n",
    "df.test <- WinsorizeHighRevolvingUtil( df.test, 0.02 ) \n",
    "df.test <- WinsorizeDebtRatio( df.test, 0.15 )\n",
    "df.test <- ExpandFeatureSpace ( df.test )\n",
    "write.csv(df.test, \"cleanDataFinal.csv\")"
   ]
  },
  {
   "cell_type": "code",
   "execution_count": null,
   "metadata": {},
   "outputs": [],
   "source": []
  },
  {
   "cell_type": "code",
   "execution_count": 329,
   "metadata": {},
   "outputs": [],
   "source": [
    "### with replacing high days overdue with NA preimputation / second place\n",
    "\n",
    "df.test2 <- df\n",
    "df.test2 <- PreImputation(df.test2)\n",
    "df.test2 <- ImputeMonthlyIncomeWithZeroForHighDR(df.test2)\n",
    "data_imputed2 <- knn.impute(as.matrix(df.test2),k=10,cat.var = c(1,4,7:11), to.impute = 1:nrow(df), using = 1:nrow(df))\n",
    "write.csv(data_imputed2, \"data_imputed2.csv\") # save for quick retrieval for future runs\n",
    "df.test2 <- data_imputed2\n",
    "df.test2 <- AddFeatures ( as.data.frame ( df.test2 ) )\n",
    "df.test2 <- WinsorizeHighRevolvingUtil( df.test2, 0.02 ) \n",
    "df.test2 <- WinsorizeDebtRatio( df.test2, 0.15 )\n",
    "df.test2 <- ExpandFeatureSpace ( df.test2 )\n",
    "write.csv(df.test2, \"cleanDataFinal2.csv\")"
   ]
  },
  {
   "cell_type": "markdown",
   "metadata": {},
   "source": [
    "# Modeling: K-Nearest Neighbor"
   ]
  },
  {
   "cell_type": "markdown",
   "metadata": {},
   "source": [
    "We first attempted a classification model with K-Nearest Neighbors classifier, figuring that if it worked well as an imputation method, then it might also serve well as a classifier. Unfortunately, we were wrong. Computation time is long for extensive grid searching, but since we did this early, we had time to run it overnight. But sadly even after extensive grid searching and 10-fold cross-validation, we were unable to achieve cross-validated AUCs of higher than ~0.63. \n",
    "\n",
    "We think that KNN was too basic of a model for this problem. KNN relies completely on distance and thus suffers from reduced effectiveness on higher dimensional datasets. It also has trouble generalizing noisier data, even with pretty extensive cleaning."
   ]
  },
  {
   "cell_type": "markdown",
   "metadata": {},
   "source": [
    "# Modeling: Random Forest"
   ]
  },
  {
   "cell_type": "markdown",
   "metadata": {},
   "source": [
    "The next classification model we tried was a Random Forest classifier. This one was much more successful, achieving cross-validated AUC scores of around ~0.81 to ~0.82. One drawback was the very slow computation time, taking about 30 minutes per model which made extensive grid search difficult. However, its strong AUC score for even a sparse grid search is a testament to the model's power.\n",
    "\n",
    "We believe that it performed well because tree-based models seem to be more agnostic towards 1) imbalanced classes, and 2) data with lots of outliers, which both were true for our data, and could provide problems for a number of other classification algorithms.\n",
    "\n",
    "We also considered using support vector classifiers, however, scrapped it due to the long amount of computation time it was taking. SVMs tend to be better suited for high-dimensional data with fewer datapoints than the other way around anyway. The SVM's ability to perform fast on a rich feature space would have been nice, but we never augmented our feature space beyond 30 or so columns."
   ]
  },
  {
   "cell_type": "code",
   "execution_count": null,
   "metadata": {},
   "outputs": [],
   "source": []
  },
  {
   "cell_type": "markdown",
   "metadata": {},
   "source": [
    "# Modeling: Xgboost"
   ]
  },
  {
   "cell_type": "markdown",
   "metadata": {},
   "source": [
    "\n",
    "\n",
    "After all this preprocessing and data cleaning, we were ready to start working with models. There are other forms of pre-processing. Normaliziation/scaling is a common form of pre-processing but since we are working with mostly tree-based models, we don't really need it. \n",
    "\n",
    "We had a couple choices that we tested. We first tried k-nearest neighbor classification, but unfortunately it did not score highly due to the nature of our dataset. We next tried random forest classification, which actually worked very nicely, attaining cross-validated AUC scores around 0.84. But the issue with RF is that the computational time was much too long for doing extensive grid searches: each combination of parameters took roughly 30 minutes. Our final and most successful model was xgboost tree classification. This was both the fastest and the most accurate, achieving cross-validated AUC scores around 0.86 and able to cross-validate large grids in minutes."
   ]
  },
  {
   "cell_type": "code",
   "execution_count": null,
   "metadata": {},
   "outputs": [],
   "source": []
  },
  {
   "cell_type": "code",
   "execution_count": null,
   "metadata": {},
   "outputs": [],
   "source": []
  },
  {
   "cell_type": "code",
   "execution_count": 2,
   "metadata": {},
   "outputs": [],
   "source": [
    "df <- read.csv(\"cleanDataFinal.csv\")"
   ]
  },
  {
   "cell_type": "markdown",
   "metadata": {},
   "source": [
    "Here's a quick example model generated on our data with the default parameters just as a quick sanity check:"
   ]
  },
  {
   "cell_type": "code",
   "execution_count": 3,
   "metadata": {},
   "outputs": [
    {
     "name": "stdout",
     "output_type": "stream",
     "text": [
      "[1]\ttrain-auc:0.851785 \n",
      "[2]\ttrain-auc:0.858153 \n",
      "[3]\ttrain-auc:0.861567 \n",
      "[4]\ttrain-auc:0.864981 \n",
      "[5]\ttrain-auc:0.866294 \n"
     ]
    }
   ],
   "source": [
    "library(xgboost)\n",
    "fit <- xgboost(data=as.matrix(df[,3:length(df)]), label=df$SeriousDlqin2yrs, nrounds=5,\n",
    "              objective=\"binary:logistic\", eval_metric=\"auc\")"
   ]
  },
  {
   "cell_type": "markdown",
   "metadata": {},
   "source": [
    "We can get even better models by tuning our hyperparameters with cross-validation. We can implement this easily with the R package Caret. We start by doing a train-test split. "
   ]
  },
  {
   "cell_type": "code",
   "execution_count": 4,
   "metadata": {},
   "outputs": [],
   "source": [
    "ind = createDataPartition(df$SeriousDlqin2yrs, p = 0.8, list = FALSE)\n",
    "trainDF<-df[ind,2:length(df)]\n",
    "testDF<-df[-ind,2:length(df)]"
   ]
  },
  {
   "cell_type": "markdown",
   "metadata": {},
   "source": [
    "Now we can set the settings for Caret's cross-validation framework. ControlParameters are the parameters for modifying the type of cross-validation we are doing. We will be doing K-fold cross-validation with 5 folds. Note that 'classProbs' are required for returning any kind of AUC evaluation, and 'twoClassSummary' is also required for binary classification."
   ]
  },
  {
   "cell_type": "code",
   "execution_count": 5,
   "metadata": {},
   "outputs": [],
   "source": [
    "ControlParameters <- trainControl(method = \"cv\",\n",
    "                                number = 5,\n",
    "                                classProbs = TRUE,\n",
    "                                savePredictions = \"final\",\n",
    "                                summaryFunction = twoClassSummary\n",
    ")"
   ]
  },
  {
   "cell_type": "markdown",
   "metadata": {},
   "source": [
    "ParametersGrid determines the hyperparameters of Xgboost that we search over during our cross-validation. The most important parameters in our grid search for XGBoost are max_depth, eta, gamma, colsample_bytree, and min_child_weight. Nrounds will be left alone because it increases the computation time too much, so we'll just increase it once we've found our other optimal hyperparameters. "
   ]
  },
  {
   "cell_type": "code",
   "execution_count": 6,
   "metadata": {},
   "outputs": [],
   "source": [
    "ParametersGrid <- expand.grid(\n",
    "  nrounds = 2, \n",
    "  max_depth = c(5, 10, 15), \n",
    "  eta = c(0.01, 0.001, 0.0001), \n",
    "  gamma = c(1, 2, 3), \n",
    "  colsample_bytree = c(0.4, 0.7, 1.0), \n",
    "  min_child_weight = c(0.5, 1, 1.5),\n",
    "  subsample = 1\n",
    ")"
   ]
  },
  {
   "cell_type": "markdown",
   "metadata": {},
   "source": [
    "Lastly we have to convert our categorical column into a factor for Caret's XGBoost to work."
   ]
  },
  {
   "cell_type": "code",
   "execution_count": 7,
   "metadata": {},
   "outputs": [],
   "source": [
    "trainDF$SeriousDlqin2yrs <- as.factor ( trainDF$SeriousDlqin2yrs )\n",
    "levels(trainDF$SeriousDlqin2yrs) <- c(\"non.default\", \"default\")"
   ]
  },
  {
   "cell_type": "code",
   "execution_count": 15,
   "metadata": {},
   "outputs": [],
   "source": [
    "#SMALLER GRID\n",
    "ParametersGrid <- expand.grid(\n",
    "  nrounds = 2, \n",
    "  max_depth = c(10, 15, 20), \n",
    "  eta = c(0.01, .001, 0.0001), \n",
    "  gamma = c(2, 3), \n",
    "  colsample_bytree = c(0.75, 1.0), \n",
    "  min_child_weight = c(0.5, 1.5),\n",
    "  subsample = 1\n",
    ")"
   ]
  },
  {
   "cell_type": "markdown",
   "metadata": {},
   "source": [
    "Now here is our  grid search:"
   ]
  },
  {
   "cell_type": "code",
   "execution_count": 16,
   "metadata": {},
   "outputs": [],
   "source": [
    "modelxgboost <- train(SeriousDlqin2yrs~., \n",
    "                      data = trainDF,\n",
    "                      method = \"xgbTree\",\n",
    "                      trControl = ControlParameters,\n",
    "                      metric = \"ROC\",\n",
    "                      tuneGrid=ParametersGrid)"
   ]
  },
  {
   "cell_type": "markdown",
   "metadata": {},
   "source": [
    "The grid search results:"
   ]
  },
  {
   "cell_type": "code",
   "execution_count": 17,
   "metadata": {},
   "outputs": [
    {
     "data": {
      "text/plain": [
       "eXtreme Gradient Boosting \n",
       "\n",
       "120000 samples\n",
       "    26 predictors\n",
       "     2 classes: 'non.default', 'default' \n",
       "\n",
       "No pre-processing\n",
       "Resampling: Cross-Validated (5 fold) \n",
       "Summary of sample sizes: 96000, 96000, 96001, 96000, 95999 \n",
       "Resampling results across tuning parameters:\n",
       "\n",
       "  eta    max_depth  gamma  colsample_bytree  min_child_weight  ROC      \n",
       "  1e-04  10         2      0.75              0.5               0.8515231\n",
       "  1e-04  10         2      0.75              1.5               0.8491396\n",
       "  1e-04  10         2      1.00              0.5               0.8477986\n",
       "  1e-04  10         2      1.00              1.5               0.8478465\n",
       "  1e-04  10         3      0.75              0.5               0.8517686\n",
       "  1e-04  10         3      0.75              1.5               0.8482954\n",
       "  1e-04  10         3      1.00              0.5               0.8478319\n",
       "  1e-04  10         3      1.00              1.5               0.8479472\n",
       "  1e-04  15         2      0.75              0.5               0.8508954\n",
       "  1e-04  15         2      0.75              1.5               0.8493620\n",
       "  1e-04  15         2      1.00              0.5               0.8455939\n",
       "  1e-04  15         2      1.00              1.5               0.8457836\n",
       "  1e-04  15         3      0.75              0.5               0.8466324\n",
       "  1e-04  15         3      0.75              1.5               0.8490469\n",
       "  1e-04  15         3      1.00              0.5               0.8465071\n",
       "  1e-04  15         3      1.00              1.5               0.8465320\n",
       "  1e-04  20         2      0.75              0.5               0.8489230\n",
       "  1e-04  20         2      0.75              1.5               0.8495812\n",
       "  1e-04  20         2      1.00              0.5               0.8449755\n",
       "  1e-04  20         2      1.00              1.5               0.8450697\n",
       "  1e-04  20         3      0.75              0.5               0.8511131\n",
       "  1e-04  20         3      0.75              1.5               0.8479706\n",
       "  1e-04  20         3      1.00              0.5               0.8459132\n",
       "  1e-04  20         3      1.00              1.5               0.8460036\n",
       "  1e-03  10         2      0.75              0.5               0.8483187\n",
       "  1e-03  10         2      0.75              1.5               0.8470456\n",
       "  1e-03  10         2      1.00              0.5               0.8478593\n",
       "  1e-03  10         2      1.00              1.5               0.8478947\n",
       "  1e-03  10         3      0.75              0.5               0.8486472\n",
       "  1e-03  10         3      0.75              1.5               0.8489814\n",
       "  1e-03  10         3      1.00              0.5               0.8478744\n",
       "  1e-03  10         3      1.00              1.5               0.8479508\n",
       "  1e-03  15         2      0.75              0.5               0.8467386\n",
       "  1e-03  15         2      0.75              1.5               0.8486014\n",
       "  1e-03  15         2      1.00              0.5               0.8456791\n",
       "  1e-03  15         2      1.00              1.5               0.8460982\n",
       "  1e-03  15         3      0.75              0.5               0.8503940\n",
       "  1e-03  15         3      0.75              1.5               0.8485718\n",
       "  1e-03  15         3      1.00              0.5               0.8466460\n",
       "  1e-03  15         3      1.00              1.5               0.8469086\n",
       "  1e-03  20         2      0.75              0.5               0.8470265\n",
       "  1e-03  20         2      0.75              1.5               0.8455426\n",
       "  1e-03  20         2      1.00              0.5               0.8449345\n",
       "  1e-03  20         2      1.00              1.5               0.8454743\n",
       "  1e-03  20         3      0.75              0.5               0.8492256\n",
       "  1e-03  20         3      0.75              1.5               0.8474264\n",
       "  1e-03  20         3      1.00              0.5               0.8460213\n",
       "  1e-03  20         3      1.00              1.5               0.8463662\n",
       "  1e-02  10         2      0.75              0.5               0.8489955\n",
       "  1e-02  10         2      0.75              1.5               0.8526083\n",
       "  1e-02  10         2      1.00              0.5               0.8485828\n",
       "  1e-02  10         2      1.00              1.5               0.8485493\n",
       "  1e-02  10         3      0.75              0.5               0.8506889\n",
       "  1e-02  10         3      0.75              1.5               0.8483198\n",
       "  1e-02  10         3      1.00              0.5               0.8484976\n",
       "  1e-02  10         3      1.00              1.5               0.8485199\n",
       "  1e-02  15         2      0.75              0.5               0.8482977\n",
       "  1e-02  15         2      0.75              1.5               0.8480348\n",
       "  1e-02  15         2      1.00              0.5               0.8461325\n",
       "  1e-02  15         2      1.00              1.5               0.8468333\n",
       "  1e-02  15         3      0.75              0.5               0.8504907\n",
       "  1e-02  15         3      0.75              1.5               0.8502540\n",
       "  1e-02  15         3      1.00              0.5               0.8469432\n",
       "  1e-02  15         3      1.00              1.5               0.8475073\n",
       "  1e-02  20         2      0.75              0.5               0.8482675\n",
       "  1e-02  20         2      0.75              1.5               0.8453348\n",
       "  1e-02  20         2      1.00              0.5               0.8454329\n",
       "  1e-02  20         2      1.00              1.5               0.8463967\n",
       "  1e-02  20         3      0.75              0.5               0.8485044\n",
       "  1e-02  20         3      0.75              1.5               0.8504492\n",
       "  1e-02  20         3      1.00              0.5               0.8464498\n",
       "  1e-02  20         3      1.00              1.5               0.8470444\n",
       "  Sens       Spec     \n",
       "  0.9908014  0.1593377\n",
       "  0.9901851  0.1617026\n",
       "  0.9862556  0.1945903\n",
       "  0.9865503  0.1945904\n",
       "  0.9900512  0.1735357\n",
       "  0.9908371  0.1575974\n",
       "  0.9870237  0.1918504\n",
       "  0.9873630  0.1914778\n",
       "  0.9876309  0.1851210\n",
       "  0.9880686  0.1833811\n",
       "  0.9808525  0.2144007\n",
       "  0.9817903  0.2130292\n",
       "  0.9870683  0.1800171\n",
       "  0.9870505  0.1918545\n",
       "  0.9823976  0.2104135\n",
       "  0.9829602  0.2119092\n",
       "  0.9853179  0.2028144\n",
       "  0.9864700  0.1913527\n",
       "  0.9784412  0.2252392\n",
       "  0.9796112  0.2201297\n",
       "  0.9879078  0.1762833\n",
       "  0.9873987  0.1832583\n",
       "  0.9807364  0.2178888\n",
       "  0.9811472  0.2185115\n",
       "  0.9914533  0.1413904\n",
       "  0.9910246  0.1477494\n",
       "  0.9863896  0.1934691\n",
       "  0.9866397  0.1937184\n",
       "  0.9895689  0.1791409\n",
       "  0.9898905  0.1725454\n",
       "  0.9871308  0.1918503\n",
       "  0.9873362  0.1914774\n",
       "  0.9874255  0.1859946\n",
       "  0.9871308  0.1847514\n",
       "  0.9814688  0.2119088\n",
       "  0.9817188  0.2178871\n",
       "  0.9880775  0.1750358\n",
       "  0.9873898  0.1836307\n",
       "  0.9828709  0.2084204\n",
       "  0.9829066  0.2142753\n",
       "  0.9848892  0.2041816\n",
       "  0.9869076  0.1839978\n",
       "  0.9792093  0.2228718\n",
       "  0.9797898  0.2228702\n",
       "  0.9874970  0.1818826\n",
       "  0.9872738  0.1731705\n",
       "  0.9812455  0.2153976\n",
       "  0.9812276  0.2192587\n",
       "  0.9904441  0.1629492\n",
       "  0.9897743  0.1739080\n",
       "  0.9863806  0.1988255\n",
       "  0.9866664  0.1969569\n",
       "  0.9906942  0.1620790\n",
       "  0.9902655  0.1568556\n",
       "  0.9869969  0.1978299\n",
       "  0.9872827  0.1962106\n",
       "  0.9876488  0.1729154\n",
       "  0.9868808  0.1800197\n",
       "  0.9817188  0.2116590\n",
       "  0.9824958  0.2120326\n",
       "  0.9866396  0.1985771\n",
       "  0.9884793  0.1838734\n",
       "  0.9832817  0.2064270\n",
       "  0.9834156  0.2110367\n",
       "  0.9853804  0.1878680\n",
       "  0.9857733  0.1803887\n",
       "  0.9795308  0.2221239\n",
       "  0.9806382  0.2202540\n",
       "  0.9865325  0.1908544\n",
       "  0.9877024  0.1823792\n",
       "  0.9816831  0.2140269\n",
       "  0.9820314  0.2160201\n",
       "\n",
       "Tuning parameter 'nrounds' was held constant at a value of 2\n",
       "Tuning\n",
       " parameter 'subsample' was held constant at a value of 1\n",
       "ROC was used to select the optimal model using the largest value.\n",
       "The final values used for the model were nrounds = 2, max_depth = 10, eta\n",
       " = 0.01, gamma = 2, colsample_bytree = 0.75, min_child_weight = 1.5\n",
       " and subsample = 1."
      ]
     },
     "metadata": {},
     "output_type": "display_data"
    }
   ],
   "source": [
    "modelxgboost "
   ]
  },
  {
   "cell_type": "code",
   "execution_count": 1,
   "metadata": {},
   "outputs": [
    {
     "data": {
      "text/html": [
       "'Tuning parameter \\'nrounds\\' was held constant at a value of 2\\nTuning\\n parameter \\'subsample\\' was held constant at a value of 1\\nROC was used to select the optimal model using the largest value.\\nThe final values used for the model were nrounds = 2, max_depth = 10, eta\\n = 0.01, gamma = 2, colsample_bytree = 0.75, min_child_weight = 1.5\\n and subsample = 1.'"
      ],
      "text/latex": [
       "'Tuning parameter \\textbackslash{}'nrounds\\textbackslash{}' was held constant at a value of 2\\textbackslash{}nTuning\\textbackslash{}n parameter \\textbackslash{}'subsample\\textbackslash{}' was held constant at a value of 1\\textbackslash{}nROC was used to select the optimal model using the largest value.\\textbackslash{}nThe final values used for the model were nrounds = 2, max\\_depth = 10, eta\\textbackslash{}n = 0.01, gamma = 2, colsample\\_bytree = 0.75, min\\_child\\_weight = 1.5\\textbackslash{}n and subsample = 1.'"
      ],
      "text/markdown": [
       "'Tuning parameter \\'nrounds\\' was held constant at a value of 2\\nTuning\\n parameter \\'subsample\\' was held constant at a value of 1\\nROC was used to select the optimal model using the largest value.\\nThe final values used for the model were nrounds = 2, max_depth = 10, eta\\n = 0.01, gamma = 2, colsample_bytree = 0.75, min_child_weight = 1.5\\n and subsample = 1.'"
      ],
      "text/plain": [
       "[1] \"Tuning parameter 'nrounds' was held constant at a value of 2\\nTuning\\n parameter 'subsample' was held constant at a value of 1\\nROC was used to select the optimal model using the largest value.\\nThe final values used for the model were nrounds = 2, max_depth = 10, eta\\n = 0.01, gamma = 2, colsample_bytree = 0.75, min_child_weight = 1.5\\n and subsample = 1.\""
      ]
     },
     "metadata": {},
     "output_type": "display_data"
    }
   ],
   "source": [
    "\"Tuning parameter 'nrounds' was held constant at a value of 2\n",
    "Tuning\n",
    " parameter 'subsample' was held constant at a value of 1\n",
    "ROC was used to select the optimal model using the largest value.\n",
    "The final values used for the model were nrounds = 2, max_depth = 10, eta\n",
    " = 0.01, gamma = 2, colsample_bytree = 0.75, min_child_weight = 1.5\n",
    " and subsample = 1.\""
   ]
  },
  {
   "cell_type": "code",
   "execution_count": null,
   "metadata": {},
   "outputs": [],
   "source": []
  },
  {
   "cell_type": "markdown",
   "metadata": {},
   "source": [
    "Caret allows us to automatically pull the prediction results from the best-performing parameters directly from the grid search object. We can then output an ROC using the pROC library."
   ]
  },
  {
   "cell_type": "code",
   "execution_count": 184,
   "metadata": {},
   "outputs": [
    {
     "data": {
      "text/html": [
       "0.848011175774004"
      ],
      "text/latex": [
       "0.848011175774004"
      ],
      "text/markdown": [
       "0.848011175774004"
      ],
      "text/plain": [
       "Area under the curve: 0.848"
      ]
     },
     "metadata": {},
     "output_type": "display_data"
    }
   ],
   "source": [
    "result.roc <- roc(modelxgboost$pred$obs, modelxgboost$pred$default) \n",
    "result.roc$auc"
   ]
  },
  {
   "cell_type": "code",
   "execution_count": 180,
   "metadata": {},
   "outputs": [
    {
     "name": "stdout",
     "output_type": "stream",
     "text": [
      "threshold  accuracy \n",
      "0.4914015 0.7617833 \n"
     ]
    },
    {
     "data": {
      "image/png": "[encoded data removed]",
      "text/plain": [
       "plot without title"
      ]
     },
     "metadata": {},
     "output_type": "display_data"
    }
   ],
   "source": [
    "plot(result.roc, print.thres=\"best\", print.thres.best.method=\"closest.topleft\")\n",
    "result.coords <- coords(result.roc, \"best\", best.method=\"closest.topleft\", ret=c(\"threshold\", \"accuracy\"))\n",
    "print(result.coords)"
   ]
  },
  {
   "cell_type": "code",
   "execution_count": null,
   "metadata": {},
   "outputs": [],
   "source": []
  },
  {
   "cell_type": "code",
   "execution_count": null,
   "metadata": {},
   "outputs": [],
   "source": []
  },
  {
   "cell_type": "markdown",
   "metadata": {},
   "source": [
    "# FINAL KAGGLE DATA"
   ]
  },
  {
   "cell_type": "markdown",
   "metadata": {},
   "source": [
    "Now that we have our final tuned and train model, we just need to apply it to our test set."
   ]
  },
  {
   "cell_type": "code",
   "execution_count": 134,
   "metadata": {},
   "outputs": [],
   "source": [
    "final.test.df <- read.csv(\"cs-test.csv\")"
   ]
  },
  {
   "cell_type": "markdown",
   "metadata": {},
   "source": [
    "We need to apply our same cleaning and feature transformation routine to our test set:"
   ]
  },
  {
   "cell_type": "code",
   "execution_count": 135,
   "metadata": {},
   "outputs": [],
   "source": [
    "#final.test.df[final.test.df$age == 0,]$age <- min(final.test.df[final.test.df$age > 0,]$age) \n",
    "final.test.df <- AddFeatures ( final.test.df )\n",
    "final.test.df <- ImputeMonthlyIncomeWithZeroForAll ( final.test.df )\n",
    "final.test.df <- ImputeNumberOfDependentsMean ( final.test.df )\n",
    "final.test.df <- TrimHighRevolvingUtilToMedian( final.test.df ) \n",
    "final.test.df <- WinsorizeDebtRatio( final.test.df, 0.15 )\n",
    "final.test.df <- ImputeWeirdPastDueWithMax( final.test.df )\n",
    "final.test.df <- ExpandFeatureSpace ( final.test.df )"
   ]
  },
  {
   "cell_type": "code",
   "execution_count": 183,
   "metadata": {},
   "outputs": [
    {
     "data": {
      "text/html": [
       "<table>\n",
       "<thead><tr><th scope=col>X</th><th scope=col>SeriousDlqin2yrs</th><th scope=col>RevolvingUtilizationOfUnsecuredLines</th><th scope=col>age</th><th scope=col>NumberOfTime30.59DaysPastDueNotWorse</th><th scope=col>DebtRatio</th><th scope=col>MonthlyIncome</th><th scope=col>NumberOfOpenCreditLinesAndLoans</th><th scope=col>NumberOfTimes90DaysLate</th><th scope=col>NumberRealEstateLoansOrLines</th><th scope=col>⋯</th><th scope=col>NeverPastDue</th><th scope=col>NoIncome</th><th scope=col>LowIncome</th><th scope=col>HighIncome</th><th scope=col>IncomeToAgeRatio</th><th scope=col>LogIncomeToAgeRatio</th><th scope=col>LogRevolvingUtilization</th><th scope=col>LogDebtRatio</th><th scope=col>NeverPastDueXNumberOfLines</th><th scope=col>NeverPastDueXRealEstate</th></tr></thead>\n",
       "<tbody>\n",
       "\t<tr><td>1          </td><td>NA         </td><td>0.88551908 </td><td>43         </td><td>0          </td><td>0.17751272 </td><td>5700       </td><td> 4         </td><td>0          </td><td>0          </td><td>⋯          </td><td>1          </td><td>FALSE      </td><td>FALSE      </td><td>FALSE      </td><td>132.55814  </td><td>4.887021   </td><td>-0.1215813 </td><td>-1.72871303</td><td> 4         </td><td>0          </td></tr>\n",
       "\t<tr><td>2          </td><td>NA         </td><td>0.46329527 </td><td>57         </td><td>0          </td><td>0.52723693 </td><td>9141       </td><td>15         </td><td>0          </td><td>4          </td><td>⋯          </td><td>1          </td><td>FALSE      </td><td>FALSE      </td><td>FALSE      </td><td>160.36842  </td><td>5.077474   </td><td>-0.7693907 </td><td>-0.64010525</td><td>15         </td><td>4          </td></tr>\n",
       "\t<tr><td>3          </td><td>NA         </td><td>0.04327504 </td><td>59         </td><td>0          </td><td>0.68764752 </td><td>5083       </td><td>12         </td><td>0          </td><td>1          </td><td>⋯          </td><td>1          </td><td>FALSE      </td><td>FALSE      </td><td>FALSE      </td><td> 86.15254  </td><td>4.456119   </td><td>-3.1401793 </td><td>-0.37447890</td><td>12         </td><td>1          </td></tr>\n",
       "\t<tr><td>4          </td><td>NA         </td><td>0.28030823 </td><td>38         </td><td>1          </td><td>0.92596064 </td><td>3200       </td><td> 7         </td><td>0          </td><td>2          </td><td>⋯          </td><td>0          </td><td>FALSE      </td><td>FALSE      </td><td>FALSE      </td><td> 84.21053  </td><td>4.433320   </td><td>-1.2718655 </td><td>-0.07692355</td><td> 0         </td><td>0          </td></tr>\n",
       "\t<tr><td>5          </td><td>NA         </td><td>0.99999990 </td><td>27         </td><td>0          </td><td>0.01991723 </td><td>3865       </td><td> 4         </td><td>0          </td><td>0          </td><td>⋯          </td><td>1          </td><td>FALSE      </td><td>FALSE      </td><td>FALSE      </td><td>143.14815  </td><td>4.963880   </td><td>-0.0000001 </td><td>-3.91617024</td><td> 4         </td><td>0          </td></tr>\n",
       "\t<tr><td>6          </td><td>NA         </td><td>0.50979145 </td><td>63         </td><td>0          </td><td>0.34242936 </td><td>4140       </td><td> 4         </td><td>0          </td><td>0          </td><td>⋯          </td><td>1          </td><td>FALSE      </td><td>FALSE      </td><td>FALSE      </td><td> 65.71429  </td><td>4.185316   </td><td>-0.6737536 </td><td>-1.07168988</td><td> 4         </td><td>0          </td></tr>\n",
       "</tbody>\n",
       "</table>\n"
      ],
      "text/latex": [
       "\\begin{tabular}{r|llllllllllllllllllllllllllll}\n",
       " X & SeriousDlqin2yrs & RevolvingUtilizationOfUnsecuredLines & age & NumberOfTime30.59DaysPastDueNotWorse & DebtRatio & MonthlyIncome & NumberOfOpenCreditLinesAndLoans & NumberOfTimes90DaysLate & NumberRealEstateLoansOrLines & ⋯ & NeverPastDue & NoIncome & LowIncome & HighIncome & IncomeToAgeRatio & LogIncomeToAgeRatio & LogRevolvingUtilization & LogDebtRatio & NeverPastDueXNumberOfLines & NeverPastDueXRealEstate\\\\\n",
       "\\hline\n",
       "\t 1           & NA          & 0.88551908  & 43          & 0           & 0.17751272  & 5700        &  4          & 0           & 0           & ⋯           & 1           & FALSE       & FALSE       & FALSE       & 132.55814   & 4.887021    & -0.1215813  & -1.72871303 &  4          & 0          \\\\\n",
       "\t 2           & NA          & 0.46329527  & 57          & 0           & 0.52723693  & 9141        & 15          & 0           & 4           & ⋯           & 1           & FALSE       & FALSE       & FALSE       & 160.36842   & 5.077474    & -0.7693907  & -0.64010525 & 15          & 4          \\\\\n",
       "\t 3           & NA          & 0.04327504  & 59          & 0           & 0.68764752  & 5083        & 12          & 0           & 1           & ⋯           & 1           & FALSE       & FALSE       & FALSE       &  86.15254   & 4.456119    & -3.1401793  & -0.37447890 & 12          & 1          \\\\\n",
       "\t 4           & NA          & 0.28030823  & 38          & 1           & 0.92596064  & 3200        &  7          & 0           & 2           & ⋯           & 0           & FALSE       & FALSE       & FALSE       &  84.21053   & 4.433320    & -1.2718655  & -0.07692355 &  0          & 0          \\\\\n",
       "\t 5           & NA          & 0.99999990  & 27          & 0           & 0.01991723  & 3865        &  4          & 0           & 0           & ⋯           & 1           & FALSE       & FALSE       & FALSE       & 143.14815   & 4.963880    & -0.0000001  & -3.91617024 &  4          & 0          \\\\\n",
       "\t 6           & NA          & 0.50979145  & 63          & 0           & 0.34242936  & 4140        &  4          & 0           & 0           & ⋯           & 1           & FALSE       & FALSE       & FALSE       &  65.71429   & 4.185316    & -0.6737536  & -1.07168988 &  4          & 0          \\\\\n",
       "\\end{tabular}\n"
      ],
      "text/markdown": [
       "\n",
       "X | SeriousDlqin2yrs | RevolvingUtilizationOfUnsecuredLines | age | NumberOfTime30.59DaysPastDueNotWorse | DebtRatio | MonthlyIncome | NumberOfOpenCreditLinesAndLoans | NumberOfTimes90DaysLate | NumberRealEstateLoansOrLines | ⋯ | NeverPastDue | NoIncome | LowIncome | HighIncome | IncomeToAgeRatio | LogIncomeToAgeRatio | LogRevolvingUtilization | LogDebtRatio | NeverPastDueXNumberOfLines | NeverPastDueXRealEstate | \n",
       "|---|---|---|---|---|---|\n",
       "| 1           | NA          | 0.88551908  | 43          | 0           | 0.17751272  | 5700        |  4          | 0           | 0           | ⋯           | 1           | FALSE       | FALSE       | FALSE       | 132.55814   | 4.887021    | -0.1215813  | -1.72871303 |  4          | 0           | \n",
       "| 2           | NA          | 0.46329527  | 57          | 0           | 0.52723693  | 9141        | 15          | 0           | 4           | ⋯           | 1           | FALSE       | FALSE       | FALSE       | 160.36842   | 5.077474    | -0.7693907  | -0.64010525 | 15          | 4           | \n",
       "| 3           | NA          | 0.04327504  | 59          | 0           | 0.68764752  | 5083        | 12          | 0           | 1           | ⋯           | 1           | FALSE       | FALSE       | FALSE       |  86.15254   | 4.456119    | -3.1401793  | -0.37447890 | 12          | 1           | \n",
       "| 4           | NA          | 0.28030823  | 38          | 1           | 0.92596064  | 3200        |  7          | 0           | 2           | ⋯           | 0           | FALSE       | FALSE       | FALSE       |  84.21053   | 4.433320    | -1.2718655  | -0.07692355 |  0          | 0           | \n",
       "| 5           | NA          | 0.99999990  | 27          | 0           | 0.01991723  | 3865        |  4          | 0           | 0           | ⋯           | 1           | FALSE       | FALSE       | FALSE       | 143.14815   | 4.963880    | -0.0000001  | -3.91617024 |  4          | 0           | \n",
       "| 6           | NA          | 0.50979145  | 63          | 0           | 0.34242936  | 4140        |  4          | 0           | 0           | ⋯           | 1           | FALSE       | FALSE       | FALSE       |  65.71429   | 4.185316    | -0.6737536  | -1.07168988 |  4          | 0           | \n",
       "\n",
       "\n"
      ],
      "text/plain": [
       "  X SeriousDlqin2yrs RevolvingUtilizationOfUnsecuredLines age\n",
       "1 1 NA               0.88551908                           43 \n",
       "2 2 NA               0.46329527                           57 \n",
       "3 3 NA               0.04327504                           59 \n",
       "4 4 NA               0.28030823                           38 \n",
       "5 5 NA               0.99999990                           27 \n",
       "6 6 NA               0.50979145                           63 \n",
       "  NumberOfTime30.59DaysPastDueNotWorse DebtRatio  MonthlyIncome\n",
       "1 0                                    0.17751272 5700         \n",
       "2 0                                    0.52723693 9141         \n",
       "3 0                                    0.68764752 5083         \n",
       "4 1                                    0.92596064 3200         \n",
       "5 0                                    0.01991723 3865         \n",
       "6 0                                    0.34242936 4140         \n",
       "  NumberOfOpenCreditLinesAndLoans NumberOfTimes90DaysLate\n",
       "1  4                              0                      \n",
       "2 15                              0                      \n",
       "3 12                              0                      \n",
       "4  7                              0                      \n",
       "5  4                              0                      \n",
       "6  4                              0                      \n",
       "  NumberRealEstateLoansOrLines ⋯ NeverPastDue NoIncome LowIncome HighIncome\n",
       "1 0                            ⋯ 1            FALSE    FALSE     FALSE     \n",
       "2 4                            ⋯ 1            FALSE    FALSE     FALSE     \n",
       "3 1                            ⋯ 1            FALSE    FALSE     FALSE     \n",
       "4 2                            ⋯ 0            FALSE    FALSE     FALSE     \n",
       "5 0                            ⋯ 1            FALSE    FALSE     FALSE     \n",
       "6 0                            ⋯ 1            FALSE    FALSE     FALSE     \n",
       "  IncomeToAgeRatio LogIncomeToAgeRatio LogRevolvingUtilization LogDebtRatio\n",
       "1 132.55814        4.887021            -0.1215813              -1.72871303 \n",
       "2 160.36842        5.077474            -0.7693907              -0.64010525 \n",
       "3  86.15254        4.456119            -3.1401793              -0.37447890 \n",
       "4  84.21053        4.433320            -1.2718655              -0.07692355 \n",
       "5 143.14815        4.963880            -0.0000001              -3.91617024 \n",
       "6  65.71429        4.185316            -0.6737536              -1.07168988 \n",
       "  NeverPastDueXNumberOfLines NeverPastDueXRealEstate\n",
       "1  4                         0                      \n",
       "2 15                         4                      \n",
       "3 12                         1                      \n",
       "4  0                         0                      \n",
       "5  4                         0                      \n",
       "6  4                         0                      "
      ]
     },
     "metadata": {},
     "output_type": "display_data"
    }
   ],
   "source": [
    "head ( final.test.df )"
   ]
  },
  {
   "cell_type": "code",
   "execution_count": null,
   "metadata": {},
   "outputs": [],
   "source": []
  },
  {
   "cell_type": "code",
   "execution_count": 140,
   "metadata": {},
   "outputs": [],
   "source": [
    "prediction <- predict(fit, as.matrix(df[,3:length(final.test.df)]), type=\"prob\")   # Prediction"
   ]
  },
  {
   "cell_type": "code",
   "execution_count": null,
   "metadata": {},
   "outputs": [],
   "source": []
  },
  {
   "cell_type": "code",
   "execution_count": null,
   "metadata": {},
   "outputs": [],
   "source": []
  },
  {
   "cell_type": "code",
   "execution_count": null,
   "metadata": {},
   "outputs": [],
   "source": []
  },
  {
   "cell_type": "code",
   "execution_count": null,
   "metadata": {},
   "outputs": [],
   "source": []
  },
  {
   "cell_type": "code",
   "execution_count": null,
   "metadata": {},
   "outputs": [],
   "source": []
  },
  {
   "cell_type": "code",
   "execution_count": null,
   "metadata": {},
   "outputs": [],
   "source": []
  }
 ],
 "metadata": {
  "kernelspec": {
   "display_name": "R",
   "language": "R",
   "name": "ir"
  },
  "language_info": {
   "codemirror_mode": "r",
   "file_extension": ".r",
   "mimetype": "text/x-r-source",
   "name": "R",
   "pygments_lexer": "r",
   "version": "3.4.4"
  }
 },
 "nbformat": 4,
 "nbformat_minor": 2
}
