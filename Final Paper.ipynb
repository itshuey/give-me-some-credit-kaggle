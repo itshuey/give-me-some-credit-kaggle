{
 "cells": [
  {
   "cell_type": "markdown",
   "metadata": {},
   "source": [
    "# Group Project: Final Report"
   ]
  },
  {
   "cell_type": "markdown",
   "metadata": {},
   "source": [
    "##### Robert Aleman, Yanai Feldman, Huey Sun, Jacob Fontana"
   ]
  },
  {
   "cell_type": "code",
   "execution_count": 291,
   "metadata": {},
   "outputs": [
    {
     "data": {
      "text/html": [
       "<table>\n",
       "<thead><tr><th scope=col>SeriousDlqin2yrs</th><th scope=col>RevolvingUtilizationOfUnsecuredLines</th><th scope=col>age</th><th scope=col>NumberOfTime30.59DaysPastDueNotWorse</th><th scope=col>DebtRatio</th><th scope=col>MonthlyIncome</th><th scope=col>NumberOfOpenCreditLinesAndLoans</th><th scope=col>NumberOfTimes90DaysLate</th><th scope=col>NumberRealEstateLoansOrLines</th><th scope=col>NumberOfTime60.89DaysPastDueNotWorse</th><th scope=col>NumberOfDependents</th></tr></thead>\n",
       "<tbody>\n",
       "\t<tr><td>1         </td><td>0.7661266 </td><td>45        </td><td>2         </td><td>0.80298213</td><td> 9120     </td><td>13        </td><td>0         </td><td>6         </td><td>0         </td><td>2         </td></tr>\n",
       "\t<tr><td>0         </td><td>0.9571510 </td><td>40        </td><td>0         </td><td>0.12187620</td><td> 2600     </td><td> 4        </td><td>0         </td><td>0         </td><td>0         </td><td>1         </td></tr>\n",
       "\t<tr><td>0         </td><td>0.6581801 </td><td>38        </td><td>1         </td><td>0.08511338</td><td> 3042     </td><td> 2        </td><td>1         </td><td>0         </td><td>0         </td><td>0         </td></tr>\n",
       "\t<tr><td>0         </td><td>0.2338098 </td><td>30        </td><td>0         </td><td>0.03604968</td><td> 3300     </td><td> 5        </td><td>0         </td><td>0         </td><td>0         </td><td>0         </td></tr>\n",
       "\t<tr><td>0         </td><td>0.9072394 </td><td>49        </td><td>1         </td><td>0.02492570</td><td>63588     </td><td> 7        </td><td>0         </td><td>1         </td><td>0         </td><td>0         </td></tr>\n",
       "\t<tr><td>0         </td><td>0.2131787 </td><td>74        </td><td>0         </td><td>0.37560697</td><td> 3500     </td><td> 3        </td><td>0         </td><td>1         </td><td>0         </td><td>1         </td></tr>\n",
       "</tbody>\n",
       "</table>\n"
      ],
      "text/latex": [
       "\\begin{tabular}{r|lllllllllll}\n",
       " SeriousDlqin2yrs & RevolvingUtilizationOfUnsecuredLines & age & NumberOfTime30.59DaysPastDueNotWorse & DebtRatio & MonthlyIncome & NumberOfOpenCreditLinesAndLoans & NumberOfTimes90DaysLate & NumberRealEstateLoansOrLines & NumberOfTime60.89DaysPastDueNotWorse & NumberOfDependents\\\\\n",
       "\\hline\n",
       "\t 1          & 0.7661266  & 45         & 2          & 0.80298213 &  9120      & 13         & 0          & 6          & 0          & 2         \\\\\n",
       "\t 0          & 0.9571510  & 40         & 0          & 0.12187620 &  2600      &  4         & 0          & 0          & 0          & 1         \\\\\n",
       "\t 0          & 0.6581801  & 38         & 1          & 0.08511338 &  3042      &  2         & 1          & 0          & 0          & 0         \\\\\n",
       "\t 0          & 0.2338098  & 30         & 0          & 0.03604968 &  3300      &  5         & 0          & 0          & 0          & 0         \\\\\n",
       "\t 0          & 0.9072394  & 49         & 1          & 0.02492570 & 63588      &  7         & 0          & 1          & 0          & 0         \\\\\n",
       "\t 0          & 0.2131787  & 74         & 0          & 0.37560697 &  3500      &  3         & 0          & 1          & 0          & 1         \\\\\n",
       "\\end{tabular}\n"
      ],
      "text/markdown": [
       "\n",
       "SeriousDlqin2yrs | RevolvingUtilizationOfUnsecuredLines | age | NumberOfTime30.59DaysPastDueNotWorse | DebtRatio | MonthlyIncome | NumberOfOpenCreditLinesAndLoans | NumberOfTimes90DaysLate | NumberRealEstateLoansOrLines | NumberOfTime60.89DaysPastDueNotWorse | NumberOfDependents | \n",
       "|---|---|---|---|---|---|\n",
       "| 1          | 0.7661266  | 45         | 2          | 0.80298213 |  9120      | 13         | 0          | 6          | 0          | 2          | \n",
       "| 0          | 0.9571510  | 40         | 0          | 0.12187620 |  2600      |  4         | 0          | 0          | 0          | 1          | \n",
       "| 0          | 0.6581801  | 38         | 1          | 0.08511338 |  3042      |  2         | 1          | 0          | 0          | 0          | \n",
       "| 0          | 0.2338098  | 30         | 0          | 0.03604968 |  3300      |  5         | 0          | 0          | 0          | 0          | \n",
       "| 0          | 0.9072394  | 49         | 1          | 0.02492570 | 63588      |  7         | 0          | 1          | 0          | 0          | \n",
       "| 0          | 0.2131787  | 74         | 0          | 0.37560697 |  3500      |  3         | 0          | 1          | 0          | 1          | \n",
       "\n",
       "\n"
      ],
      "text/plain": [
       "  SeriousDlqin2yrs RevolvingUtilizationOfUnsecuredLines age\n",
       "1 1                0.7661266                            45 \n",
       "2 0                0.9571510                            40 \n",
       "3 0                0.6581801                            38 \n",
       "4 0                0.2338098                            30 \n",
       "5 0                0.9072394                            49 \n",
       "6 0                0.2131787                            74 \n",
       "  NumberOfTime30.59DaysPastDueNotWorse DebtRatio  MonthlyIncome\n",
       "1 2                                    0.80298213  9120        \n",
       "2 0                                    0.12187620  2600        \n",
       "3 1                                    0.08511338  3042        \n",
       "4 0                                    0.03604968  3300        \n",
       "5 1                                    0.02492570 63588        \n",
       "6 0                                    0.37560697  3500        \n",
       "  NumberOfOpenCreditLinesAndLoans NumberOfTimes90DaysLate\n",
       "1 13                              0                      \n",
       "2  4                              0                      \n",
       "3  2                              1                      \n",
       "4  5                              0                      \n",
       "5  7                              0                      \n",
       "6  3                              0                      \n",
       "  NumberRealEstateLoansOrLines NumberOfTime60.89DaysPastDueNotWorse\n",
       "1 6                            0                                   \n",
       "2 0                            0                                   \n",
       "3 0                            0                                   \n",
       "4 0                            0                                   \n",
       "5 1                            0                                   \n",
       "6 1                            0                                   \n",
       "  NumberOfDependents\n",
       "1 2                 \n",
       "2 1                 \n",
       "3 0                 \n",
       "4 0                 \n",
       "5 0                 \n",
       "6 1                 "
      ]
     },
     "metadata": {},
     "output_type": "display_data"
    }
   ],
   "source": [
    "library(lattice)\n",
    "library(xgboost)\n",
    "library(bnstruct)\n",
    "library(plyr)\n",
    "library(ggplot2)\n",
    "library(caTools)\n",
    "library(caret)\n",
    "library(pROC)\n",
    "\n",
    "df <- read.csv(\"cs-training.csv\")\n",
    "df <- df[,2:length(df)]\n",
    "head(df)"
   ]
  },
  {
   "cell_type": "markdown",
   "metadata": {},
   "source": [
    "Our task here is to design a binary classifier that can predict whether or not a potential borrower will default on their loan. We are given a dataset of 150,000 past borrowers, each labeled as to whether or not they had defaulted on their loan, along with 10 numeric variables about them. "
   ]
  },
  {
   "cell_type": "markdown",
   "metadata": {},
   "source": [
    "## Data Cleaning / Preprocessing "
   ]
  },
  {
   "cell_type": "markdown",
   "metadata": {},
   "source": [
    "First let's look at our predictor variable:"
   ]
  },
  {
   "cell_type": "code",
   "execution_count": 292,
   "metadata": {},
   "outputs": [
    {
     "data": {
      "text/plain": [
       "\n",
       "     0      1 \n",
       "139974  10026 "
      ]
     },
     "metadata": {},
     "output_type": "display_data"
    },
    {
     "data": {
      "text/html": [
       "'Proportion: 0.06684'"
      ],
      "text/latex": [
       "'Proportion: 0.06684'"
      ],
      "text/markdown": [
       "'Proportion: 0.06684'"
      ],
      "text/plain": [
       "[1] \"Proportion: 0.06684\""
      ]
     },
     "metadata": {},
     "output_type": "display_data"
    }
   ],
   "source": [
    "table(df[,1])\n",
    "paste(\"Proportion:\", mean(df[,1]))"
   ]
  },
  {
   "cell_type": "markdown",
   "metadata": {},
   "source": [
    "We can see that we're dealing with a moderate/large-sized class imbalance. Depending on the model, we may need to do some class balancing through undersample, oversampling, or some other balancing technique. But for now, we'll pause on this and look at our 10 features:"
   ]
  },
  {
   "cell_type": "code",
   "execution_count": 293,
   "metadata": {},
   "outputs": [
    {
     "data": {
      "text/plain": [
       " RevolvingUtilizationOfUnsecuredLines      age       \n",
       " Min.   :    0.00                     Min.   :  0.0  \n",
       " 1st Qu.:    0.03                     1st Qu.: 41.0  \n",
       " Median :    0.15                     Median : 52.0  \n",
       " Mean   :    6.05                     Mean   : 52.3  \n",
       " 3rd Qu.:    0.56                     3rd Qu.: 63.0  \n",
       " Max.   :50708.00                     Max.   :109.0  \n",
       "                                                     \n",
       " NumberOfTime30.59DaysPastDueNotWorse   DebtRatio        MonthlyIncome    \n",
       " Min.   : 0.000                       Min.   :     0.0   Min.   :      0  \n",
       " 1st Qu.: 0.000                       1st Qu.:     0.2   1st Qu.:   3400  \n",
       " Median : 0.000                       Median :     0.4   Median :   5400  \n",
       " Mean   : 0.421                       Mean   :   353.0   Mean   :   6670  \n",
       " 3rd Qu.: 0.000                       3rd Qu.:     0.9   3rd Qu.:   8249  \n",
       " Max.   :98.000                       Max.   :329664.0   Max.   :3008750  \n",
       "                                                         NA's   :29731    \n",
       " NumberOfOpenCreditLinesAndLoans NumberOfTimes90DaysLate\n",
       " Min.   : 0.000                  Min.   : 0.000         \n",
       " 1st Qu.: 5.000                  1st Qu.: 0.000         \n",
       " Median : 8.000                  Median : 0.000         \n",
       " Mean   : 8.453                  Mean   : 0.266         \n",
       " 3rd Qu.:11.000                  3rd Qu.: 0.000         \n",
       " Max.   :58.000                  Max.   :98.000         \n",
       "                                                        \n",
       " NumberRealEstateLoansOrLines NumberOfTime60.89DaysPastDueNotWorse\n",
       " Min.   : 0.000               Min.   : 0.0000                     \n",
       " 1st Qu.: 0.000               1st Qu.: 0.0000                     \n",
       " Median : 1.000               Median : 0.0000                     \n",
       " Mean   : 1.018               Mean   : 0.2404                     \n",
       " 3rd Qu.: 2.000               3rd Qu.: 0.0000                     \n",
       " Max.   :54.000               Max.   :98.0000                     \n",
       "                                                                  \n",
       " NumberOfDependents\n",
       " Min.   : 0.000    \n",
       " 1st Qu.: 0.000    \n",
       " Median : 0.000    \n",
       " Mean   : 0.757    \n",
       " 3rd Qu.: 1.000    \n",
       " Max.   :20.000    \n",
       " NA's   :3924      "
      ]
     },
     "metadata": {},
     "output_type": "display_data"
    }
   ],
   "source": [
    "summary(df[,2:length(df)])"
   ]
  },
  {
   "cell_type": "markdown",
   "metadata": {},
   "source": [
    "We also used histogram and density plots (omitted from the final report) can see just from a quick glance at our data's interquartile ranges (IQR) that we are dealing with major outliers for most our features. Two of our features, MonthlyIncome and NumberOfDependents, have missing values that will require imputation. We tackled our data cleaning and feature engineering one column at a time. "
   ]
  },
  {
   "cell_type": "markdown",
   "metadata": {},
   "source": [
    "### Age"
   ]
  },
  {
   "cell_type": "markdown",
   "metadata": {},
   "source": [
    "Looking at the value counts and IQR for age:"
   ]
  },
  {
   "cell_type": "code",
   "execution_count": 294,
   "metadata": {},
   "outputs": [
    {
     "data": {
      "text/plain": [
       "   Min. 1st Qu.  Median    Mean 3rd Qu.    Max. \n",
       "    0.0    41.0    52.0    52.3    63.0   109.0 "
      ]
     },
     "metadata": {},
     "output_type": "display_data"
    }
   ],
   "source": [
    "summary(df$age)"
   ]
  },
  {
   "cell_type": "code",
   "execution_count": 295,
   "metadata": {},
   "outputs": [
    {
     "data": {
      "text/plain": [
       "\n",
       "   0   21   22   23   24   25   26   27   28   29   30   31   32   33   34   35 \n",
       "   1  183  434  641  816  953 1193 1338 1560 1702 1937 2038 2050 2239 2155 2246 \n",
       "  36   37   38   39   40   41   42   43   44   45   46   47   48   49   50   51 \n",
       "2379 2521 2631 2987 3093 3122 3082 3208 3294 3502 3714 3719 3806 3837 3753 3627 \n",
       "  52   53   54   55   56   57   58   59   60   61   62   63   64   65   66   67 \n",
       "3609 3648 3561 3416 3589 3375 3443 3280 3258 3522 3568 3719 3058 2594 2494 2503 \n",
       "  68   69   70   71   72   73   74   75   76   77   78   79   80   81   82   83 \n",
       "2235 1954 1777 1646 1649 1520 1451 1241 1183 1099 1054  981  876  774  647  512 \n",
       "  84   85   86   87   88   89   90   91   92   93   94   95   96   97   98   99 \n",
       " 480  483  407  357  313  276  198  154   93   87   47   45   18   17    6    9 \n",
       " 101  102  103  105  107  109 \n",
       "   3    3    3    1    1    2 "
      ]
     },
     "metadata": {},
     "output_type": "display_data"
    }
   ],
   "source": [
    "table(df$age)"
   ]
  },
  {
   "cell_type": "markdown",
   "metadata": {},
   "source": [
    "Age tends to have a somewhat reasonable distribution. There are a suspicious number of centenarians in my opinion but I guess they're sufficiently plausible to avoid modifying them. The only certainly incorrect data is that there is one person in the dataset with age 0, and because infants are not legally permitted to take out loans, we will impute that to the next youngest person in the dataset."
   ]
  },
  {
   "cell_type": "code",
   "execution_count": 296,
   "metadata": {},
   "outputs": [],
   "source": [
    "df[df$age == 0,]$age <- min(df[df$age > 0,]$age)"
   ]
  },
  {
   "cell_type": "code",
   "execution_count": null,
   "metadata": {},
   "outputs": [],
   "source": []
  },
  {
   "cell_type": "markdown",
   "metadata": {},
   "source": [
    "## Monthly Income"
   ]
  },
  {
   "cell_type": "code",
   "execution_count": 297,
   "metadata": {},
   "outputs": [
    {
     "data": {
      "text/plain": [
       "   Min. 1st Qu.  Median    Mean 3rd Qu.    Max.    NA's \n",
       "      0    3400    5400    6670    8249 3008750   29731 "
      ]
     },
     "metadata": {},
     "output_type": "display_data"
    }
   ],
   "source": [
    "summary( df$MonthlyIncome )"
   ]
  },
  {
   "cell_type": "markdown",
   "metadata": {},
   "source": [
    "MonthlyIncome has nearly 30,000 missing values, and at 20% of the dataset, that's a lot of missing information. But there may be a reason for these missing values. We checked to see if the people with missing MonthlyIncome values have any special properties:"
   ]
  },
  {
   "cell_type": "code",
   "execution_count": 298,
   "metadata": {},
   "outputs": [
    {
     "data": {
      "text/plain": [
       " SeriousDlqin2yrs  RevolvingUtilizationOfUnsecuredLines      age        \n",
       " Min.   :0.00000   Min.   :    0.000                    Min.   : 21.00  \n",
       " 1st Qu.:0.00000   1st Qu.:    0.016                    1st Qu.: 46.00  \n",
       " Median :0.00000   Median :    0.082                    Median : 57.00  \n",
       " Mean   :0.05614   Mean   :    6.649                    Mean   : 56.36  \n",
       " 3rd Qu.:0.00000   3rd Qu.:    0.441                    3rd Qu.: 67.00  \n",
       " Max.   :1.00000   Max.   :22198.000                    Max.   :109.00  \n",
       "                                                                        \n",
       " NumberOfTime30.59DaysPastDueNotWorse   DebtRatio      MonthlyIncome  \n",
       " Min.   : 0.0000                      Min.   :     0   Min.   : NA    \n",
       " 1st Qu.: 0.0000                      1st Qu.:   123   1st Qu.: NA    \n",
       " Median : 0.0000                      Median :  1159   Median : NA    \n",
       " Mean   : 0.5799                      Mean   :  1673   Mean   :NaN    \n",
       " 3rd Qu.: 0.0000                      3rd Qu.:  2382   3rd Qu.: NA    \n",
       " Max.   :98.0000                      Max.   :329664   Max.   : NA    \n",
       "                                                       NA's   :29731  \n",
       " NumberOfOpenCreditLinesAndLoans NumberOfTimes90DaysLate\n",
       " Min.   : 0.000                  Min.   : 0.0000        \n",
       " 1st Qu.: 4.000                  1st Qu.: 0.0000        \n",
       " Median : 6.000                  Median : 0.0000        \n",
       " Mean   : 7.216                  Mean   : 0.4846        \n",
       " 3rd Qu.:10.000                  3rd Qu.: 0.0000        \n",
       " Max.   :45.000                  Max.   :98.0000        \n",
       "                                                        \n",
       " NumberRealEstateLoansOrLines NumberOfTime60.89DaysPastDueNotWorse\n",
       " Min.   : 0.0000              Min.   : 0.000                      \n",
       " 1st Qu.: 0.0000              1st Qu.: 0.000                      \n",
       " Median : 1.0000              Median : 0.000                      \n",
       " Mean   : 0.8715              Mean   : 0.453                      \n",
       " 3rd Qu.: 1.0000              3rd Qu.: 0.000                      \n",
       " Max.   :23.0000              Max.   :98.000                      \n",
       "                                                                  \n",
       " NumberOfDependents\n",
       " Min.   :0.000     \n",
       " 1st Qu.:0.000     \n",
       " Median :0.000     \n",
       " Mean   :0.316     \n",
       " 3rd Qu.:0.000     \n",
       " Max.   :9.000     \n",
       " NA's   :3924      "
      ]
     },
     "metadata": {},
     "output_type": "display_data"
    }
   ],
   "source": [
    "summary ( df[is.na(df$MonthlyIncome),] )"
   ]
  },
  {
   "cell_type": "markdown",
   "metadata": {},
   "source": [
    "Wow, it looks like the DebtRatio is significantly higher for those with missing incomes (a median DebtRatio of over 1,000!). This makes sense because DebtRatio is calculated as the amount of debt someone has divided by their income, so if they have a trivial income, we can expect abnormally high DebtRatios. Additionally, we later observed that out of those with high DebtRatios that didn't have missing MonthlyIncomes, their MonthlyIncomes were zero or near-zero. Our likely hypothesis is that missing MonthlyIncome values came from borrowers who left that field blank because they had low or no income. If we go with this theory, then one option is to just impute these missing values with zero."
   ]
  },
  {
   "cell_type": "code",
   "execution_count": 299,
   "metadata": {},
   "outputs": [],
   "source": [
    "# Option 1\n",
    "ImputeMonthlyIncomeWithZeroForAll <- function(df) {\n",
    "    df[is.na(df$MonthlyIncome),]$MonthlyIncome <- 0\n",
    "    return(df)\n",
    "}"
   ]
  },
  {
   "cell_type": "markdown",
   "metadata": {},
   "source": [
    "Another option for imputation is to use some regression model to fill in missing data. We chose a k-nearest neighbors imputer which looks at the other 9 variables and uses them to predict the missing values. We ran a quick knn model and saved our results. We then can impute by loading the regression results into our MonthlyIncome column."
   ]
  },
  {
   "cell_type": "code",
   "execution_count": 300,
   "metadata": {},
   "outputs": [],
   "source": [
    "# NOTE: this code only needs to be executed on first run; subsequent runs can just load the impute calculations\n",
    "#data_imputed <- knn.impute(df,k=10,cat.var = c(1,4,7:11), to.impute = 1:nrow(df), using = 1:nrow(df))\n",
    "#write.csv(data_imputed, \"data_imputed.csv\") # save for quick retrieval for future runs"
   ]
  },
  {
   "cell_type": "code",
   "execution_count": 301,
   "metadata": {},
   "outputs": [],
   "source": [
    "# Option 2\n",
    "ImputeMonthlyIncomeWithKNNOnly <- function(df) {\n",
    "    data_imputed <- read.csv(\"data_imputed.csv\")\n",
    "    df$MonthlyIncome <- data_imputed$MonthlyIncome\n",
    "    return (df)\n",
    "}"
   ]
  },
  {
   "cell_type": "markdown",
   "metadata": {},
   "source": [
    "Our third (and favorite) option was to use a hybrid of both: this imputer would first impute monthly incomes with sufficiently high debt ratios as zero, and then would use the KNN imputation for the rest of the missing values."
   ]
  },
  {
   "cell_type": "code",
   "execution_count": 302,
   "metadata": {},
   "outputs": [],
   "source": [
    "# Option 3\n",
    "ImputeMonthlyIncomeWithZeroForHighDR <- function(df) {\n",
    "    df[df$DebtRatio > 150,]$MonthlyIncome <- 0\n",
    "    return (df)\n",
    "}"
   ]
  },
  {
   "cell_type": "code",
   "execution_count": null,
   "metadata": {},
   "outputs": [],
   "source": []
  },
  {
   "cell_type": "markdown",
   "metadata": {},
   "source": [
    "## Number of Dependents"
   ]
  },
  {
   "cell_type": "code",
   "execution_count": 304,
   "metadata": {},
   "outputs": [
    {
     "data": {
      "text/plain": [
       "   Min. 1st Qu.  Median    Mean 3rd Qu.    Max.    NA's \n",
       "  0.000   0.000   0.000   0.757   1.000  20.000    3924 "
      ]
     },
     "metadata": {},
     "output_type": "display_data"
    }
   ],
   "source": [
    "summary(df$NumberOfDependents)"
   ]
  },
  {
   "cell_type": "code",
   "execution_count": 305,
   "metadata": {},
   "outputs": [
    {
     "data": {
      "text/plain": [
       "\n",
       "    0     1     2     3     4     5     6     7     8     9    10    13    20 \n",
       "86902 26316 19522  9483  2862   746   158    51    24     5     5     1     1 "
      ]
     },
     "metadata": {},
     "output_type": "display_data"
    }
   ],
   "source": [
    "table(df$NumberOfDependents)"
   ]
  },
  {
   "cell_type": "markdown",
   "metadata": {},
   "source": [
    "The other variable with missing values was NumberOfDependents. There are about 4,000 missing values here (~2% of the dataset). Similar to MonthlyIncome, we can do a quick scan of the dataset of people with missing NumberOfDependents to see if they have any special properties:"
   ]
  },
  {
   "cell_type": "code",
   "execution_count": 306,
   "metadata": {},
   "outputs": [
    {
     "data": {
      "text/plain": [
       " SeriousDlqin2yrs  RevolvingUtilizationOfUnsecuredLines      age        \n",
       " Min.   :0.00000   Min.   :    0.000                    Min.   : 21.00  \n",
       " 1st Qu.:0.00000   1st Qu.:    0.008                    1st Qu.: 48.00  \n",
       " Median :0.00000   Median :    0.047                    Median : 61.00  \n",
       " Mean   :0.04562   Mean   :   10.745                    Mean   : 59.59  \n",
       " 3rd Qu.:0.00000   3rd Qu.:    0.268                    3rd Qu.: 74.00  \n",
       " Max.   :1.00000   Max.   :10821.000                    Max.   :109.00  \n",
       "                                                                        \n",
       " NumberOfTime30.59DaysPastDueNotWorse   DebtRatio      MonthlyIncome \n",
       " Min.   : 0.0000                      Min.   :     0   Min.   : NA   \n",
       " 1st Qu.: 0.0000                      1st Qu.:    21   1st Qu.: NA   \n",
       " Median : 0.0000                      Median :   358   Median : NA   \n",
       " Mean   : 0.9083                      Mean   :  1084   Mean   :NaN   \n",
       " 3rd Qu.: 0.0000                      3rd Qu.:  1559   3rd Qu.: NA   \n",
       " Max.   :98.0000                      Max.   :220516   Max.   : NA   \n",
       "                                                       NA's   :3924  \n",
       " NumberOfOpenCreditLinesAndLoans NumberOfTimes90DaysLate\n",
       " Min.   : 0.000                  Min.   : 0.0000        \n",
       " 1st Qu.: 3.000                  1st Qu.: 0.0000        \n",
       " Median : 5.000                  Median : 0.0000        \n",
       " Mean   : 5.604                  Mean   : 0.8346        \n",
       " 3rd Qu.: 8.000                  3rd Qu.: 0.0000        \n",
       " Max.   :30.000                  Max.   :98.0000        \n",
       "                                                        \n",
       " NumberRealEstateLoansOrLines NumberOfTime60.89DaysPastDueNotWorse\n",
       " Min.   : 0.000               Min.   : 0.0000                     \n",
       " 1st Qu.: 0.000               1st Qu.: 0.0000                     \n",
       " Median : 0.000               Median : 0.0000                     \n",
       " Mean   : 0.591               Mean   : 0.8122                     \n",
       " 3rd Qu.: 1.000               3rd Qu.: 0.0000                     \n",
       " Max.   :15.000               Max.   :98.0000                     \n",
       "                                                                  \n",
       " NumberOfDependents\n",
       " Min.   : NA       \n",
       " 1st Qu.: NA       \n",
       " Median : NA       \n",
       " Mean   :NaN       \n",
       " 3rd Qu.: NA       \n",
       " Max.   : NA       \n",
       " NA's   :3924      "
      ]
     },
     "metadata": {},
     "output_type": "display_data"
    }
   ],
   "source": [
    "summary ( df[is.na(df$NumberOfDependents),] )"
   ]
  },
  {
   "cell_type": "markdown",
   "metadata": {},
   "source": [
    "Since all of the people with missing NumberOfDependents also have a missing MonthlyIncome, their DebtRatio is high as well. But other than that, they don't seem to have anything particularly unusual. So if we do an imputation, it would make most sense just to impute with regards to some central tendency. We have a couple options here: one, we could impute with the median. But since the median is zero, it's possible that this could undershoot the true number of dependents. We could try the mean as well. And finally, we could also bring out the KNN imputer."
   ]
  },
  {
   "cell_type": "code",
   "execution_count": 307,
   "metadata": {},
   "outputs": [],
   "source": [
    "# Option 1: Impute with median (zero)\n",
    "ImputeDependentsWithZero <- function(df) {\n",
    "    df[is.na(df$NumberOfDependents),]$NumberOfDependents <- 0\n",
    "    return (df)\n",
    "}\n",
    "\n",
    "# Option 2: Impute with mean\n",
    "ImputeNumberOfDependentsMean <- function(df){\n",
    "  df[is.na(df$NumberOfDependents), ]$NumberOfDependents <- mean(na.omit(df$NumberOfDependents))\n",
    "  return(df)\n",
    "}\n",
    "\n",
    "# Option 3: Impute with KNN\n",
    "ImputeDependentsWithKNN <- function(df) {\n",
    "    data_imputed <- read.csv(\"data_imputed.csv\")\n",
    "    df$NumberOfDependents <- data_imputed$NumberOfDependents\n",
    "    return (df)\n",
    "}"
   ]
  },
  {
   "cell_type": "code",
   "execution_count": null,
   "metadata": {},
   "outputs": [],
   "source": []
  },
  {
   "cell_type": "markdown",
   "metadata": {},
   "source": [
    "## RevolvingUtilizationOfUnsecuredLines"
   ]
  },
  {
   "cell_type": "code",
   "execution_count": 308,
   "metadata": {},
   "outputs": [
    {
     "data": {
      "text/plain": [
       "    Min.  1st Qu.   Median     Mean  3rd Qu.     Max. \n",
       "    0.00     0.03     0.15     6.05     0.56 50708.00 "
      ]
     },
     "metadata": {},
     "output_type": "display_data"
    }
   ],
   "source": [
    "summary ( df$RevolvingUtilizationOfUnsecuredLines )"
   ]
  },
  {
   "cell_type": "markdown",
   "metadata": {},
   "source": [
    "No missing or incorrect values for RevolvingUtilizationOfUnsecuredLines - however, there is a very notable amount of extremely high outliers. In fact, the mean of our data is higher than our 99th percentile. These could skew our model. To quickly check if there are any special propreties of those individuals with very high RevolvingUtilizationOfUnsecuredLines:"
   ]
  },
  {
   "cell_type": "code",
   "execution_count": 309,
   "metadata": {},
   "outputs": [
    {
     "data": {
      "text/html": [
       "223"
      ],
      "text/latex": [
       "223"
      ],
      "text/markdown": [
       "223"
      ],
      "text/plain": [
       "[1] 223"
      ]
     },
     "metadata": {},
     "output_type": "display_data"
    },
    {
     "data": {
      "text/plain": [
       " SeriousDlqin2yrs  RevolvingUtilizationOfUnsecuredLines      age       \n",
       " Min.   :0.00000   Min.   :  112                        Min.   :24.00  \n",
       " 1st Qu.:0.00000   1st Qu.: 1082                        1st Qu.:39.00  \n",
       " Median :0.00000   Median : 2159                        Median :48.00  \n",
       " Mean   :0.04933   Mean   : 3848                        Mean   :50.59  \n",
       " 3rd Qu.:0.00000   3rd Qu.: 4318                        3rd Qu.:62.50  \n",
       " Max.   :1.00000   Max.   :50708                        Max.   :87.00  \n",
       "                                                                       \n",
       " NumberOfTime30.59DaysPastDueNotWorse   DebtRatio         MonthlyIncome  \n",
       " Min.   :0.00                         Min.   :    0.001   Min.   :    0  \n",
       " 1st Qu.:0.00                         1st Qu.:    0.213   1st Qu.: 4800  \n",
       " Median :0.00                         Median :    0.381   Median : 7083  \n",
       " Mean   :0.13                         Mean   :  604.614   Mean   : 8629  \n",
       " 3rd Qu.:0.00                         3rd Qu.:   81.500   3rd Qu.:10400  \n",
       " Max.   :2.00                         Max.   :21395.000   Max.   :44472  \n",
       "                                                          NA's   :62     \n",
       " NumberOfOpenCreditLinesAndLoans NumberOfTimes90DaysLate\n",
       " Min.   : 1.000                  Min.   :0.00000        \n",
       " 1st Qu.: 4.000                  1st Qu.:0.00000        \n",
       " Median : 5.000                  Median :0.00000        \n",
       " Mean   : 5.637                  Mean   :0.03139        \n",
       " 3rd Qu.: 7.000                  3rd Qu.:0.00000        \n",
       " Max.   :21.000                  Max.   :3.00000        \n",
       "                                                        \n",
       " NumberRealEstateLoansOrLines NumberOfTime60.89DaysPastDueNotWorse\n",
       " Min.   :0.000                Min.   :0.00000                     \n",
       " 1st Qu.:0.000                1st Qu.:0.00000                     \n",
       " Median :1.000                Median :0.00000                     \n",
       " Mean   :1.197                Mean   :0.02242                     \n",
       " 3rd Qu.:2.000                3rd Qu.:0.00000                     \n",
       " Max.   :9.000                Max.   :1.00000                     \n",
       "                                                                  \n",
       " NumberOfDependents\n",
       " Min.   :0.000     \n",
       " 1st Qu.:0.000     \n",
       " Median :0.000     \n",
       " Mean   :0.684     \n",
       " 3rd Qu.:1.000     \n",
       " Max.   :4.000     \n",
       " NA's   :11        "
      ]
     },
     "metadata": {},
     "output_type": "display_data"
    }
   ],
   "source": [
    "length(df[df$RevolvingUtilizationOfUnsecuredLines >= 100,][,1])\n",
    "summary ( df[df$RevolvingUtilizationOfUnsecuredLines >= 100,] )"
   ]
  },
  {
   "cell_type": "markdown",
   "metadata": {},
   "source": [
    "These individuals don't appear to have any special properties outside of the rest of the dataset, so we can help by trimming the outliers. We have a few options: either we can either trim our outliers (ie, get rid of them entirely), convert these outliers to the median, or we can perform Winsorization, the process of converting all values above a certain range to some Nth percentile."
   ]
  },
  {
   "cell_type": "code",
   "execution_count": 310,
   "metadata": {},
   "outputs": [],
   "source": [
    "TrimHighRevolvingUtilToMedian <- function(df){\n",
    "  df[df$RevolvingUtilizationOfUnsecuredLines>100,]$RevolvingUtilizationOfUnsecuredLines<- median(df$RevolvingUtilizationOfUnsecuredLines)\n",
    "  return(df)\n",
    "}"
   ]
  },
  {
   "cell_type": "code",
   "execution_count": 311,
   "metadata": {},
   "outputs": [],
   "source": [
    "WinsorizeHighRevolvingUtil <- function(df, qtile){\n",
    "  s <- seq(1, (1-qtile)*nrow(df), 1)\n",
    "  sorted <- df[order(df$RevolvingUtilizationOfUnsecuredLines),]\n",
    "  trim.max <- max(sorted$RevolvingUtilizationOfUnsecuredLines[s])\n",
    "  df[df$RevolvingUtilizationOfUnsecuredLines > trim.max, ]$RevolvingUtilizationOfUnsecuredLines <- trim.max\n",
    "  return (df)\n",
    "}"
   ]
  },
  {
   "cell_type": "code",
   "execution_count": null,
   "metadata": {},
   "outputs": [],
   "source": []
  },
  {
   "cell_type": "markdown",
   "metadata": {},
   "source": [
    "## DebtRatio"
   ]
  },
  {
   "cell_type": "code",
   "execution_count": 312,
   "metadata": {},
   "outputs": [
    {
     "data": {
      "text/plain": [
       "    Min.  1st Qu.   Median     Mean  3rd Qu.     Max. \n",
       "     0.0      0.2      0.4    353.0      0.9 329664.0 "
      ]
     },
     "metadata": {},
     "output_type": "display_data"
    }
   ],
   "source": [
    "summary ( df$DebtRatio )"
   ]
  },
  {
   "cell_type": "markdown",
   "metadata": {},
   "source": [
    "We explained the DebtRatio outliers with MonthlyIncome, and how these individuals with extremely high DebtRatios just have no/minimal income. For the sake of a cleaner model, it could help to trim these outliers as well."
   ]
  },
  {
   "cell_type": "code",
   "execution_count": 313,
   "metadata": {},
   "outputs": [],
   "source": [
    "WinsorizeDebtRatio <- function(df, qtile){\n",
    "  s <- seq(1, (1-qtile)*nrow(df), 1)\n",
    "  sorted <- df[order(df$DebtRatio),]\n",
    "  trim.max <- max(sorted$DebtRatio[s])\n",
    "  df[df$DebtRatio > trim.max, ]$DebtRatio <- trim.max\n",
    "  return (df)\n",
    "}"
   ]
  },
  {
   "cell_type": "code",
   "execution_count": null,
   "metadata": {},
   "outputs": [],
   "source": []
  },
  {
   "cell_type": "markdown",
   "metadata": {},
   "source": [
    "## Number of Days Past Due "
   ]
  },
  {
   "cell_type": "code",
   "execution_count": 314,
   "metadata": {},
   "outputs": [
    {
     "data": {
      "text/plain": [
       "\n",
       "     0      1      2      3      4      5      6      7      8      9     10 \n",
       "126018  16033   4598   1754    747    342    140     54     25     12      4 \n",
       "    11     12     13     96     98 \n",
       "     1      2      1      5    264 "
      ]
     },
     "metadata": {},
     "output_type": "display_data"
    }
   ],
   "source": [
    "table(df$NumberOfTime30.59DaysPastDueNotWorse)"
   ]
  },
  {
   "cell_type": "code",
   "execution_count": 315,
   "metadata": {},
   "outputs": [
    {
     "data": {
      "text/plain": [
       "\n",
       "     0      1      2      3      4      5      6      7      8      9     11 \n",
       "142396   5731   1118    318    105     34     16      9      2      1      1 \n",
       "    96     98 \n",
       "     5    264 "
      ]
     },
     "metadata": {},
     "output_type": "display_data"
    }
   ],
   "source": [
    "table(df$NumberOfTime60.89DaysPastDueNotWorse)"
   ]
  },
  {
   "cell_type": "code",
   "execution_count": 316,
   "metadata": {},
   "outputs": [
    {
     "data": {
      "text/plain": [
       "\n",
       "     0      1      2      3      4      5      6      7      8      9     10 \n",
       "141662   5243   1555    667    291    131     80     38     21     19      8 \n",
       "    11     12     13     14     15     17     96     98 \n",
       "     5      2      4      2      2      1      5    264 "
      ]
     },
     "metadata": {},
     "output_type": "display_data"
    }
   ],
   "source": [
    "table(df$NumberOfTimes90DaysLate)"
   ]
  },
  {
   "cell_type": "markdown",
   "metadata": {},
   "source": [
    "Upon a first look at the IQRs of these three variables, we initially thought that there were just outliers in these three datasets. However, looking above, it seems that 96 or 98 are chosen exactly the same for all three categories of days late. Let's see what properties these have:"
   ]
  },
  {
   "cell_type": "code",
   "execution_count": 317,
   "metadata": {},
   "outputs": [
    {
     "data": {
      "text/plain": [
       " SeriousDlqin2yrs RevolvingUtilizationOfUnsecuredLines      age       \n",
       " Min.   :0.0000   Min.   :1                            Min.   :21.00  \n",
       " 1st Qu.:0.0000   1st Qu.:1                            1st Qu.:24.00  \n",
       " Median :1.0000   Median :1                            Median :29.00  \n",
       " Mean   :0.5465   Mean   :1                            Mean   :34.25  \n",
       " 3rd Qu.:1.0000   3rd Qu.:1                            3rd Qu.:43.00  \n",
       " Max.   :1.0000   Max.   :1                            Max.   :79.00  \n",
       "                                                                      \n",
       " NumberOfTime30.59DaysPastDueNotWorse   DebtRatio      MonthlyIncome  \n",
       " Min.   :96.00                        Min.   :  0.00   Min.   :    0  \n",
       " 1st Qu.:98.00                        1st Qu.:  0.00   1st Qu.: 1333  \n",
       " Median :98.00                        Median :  0.00   Median : 2168  \n",
       " Mean   :97.96                        Mean   :  5.74   Mean   : 2557  \n",
       " 3rd Qu.:98.00                        3rd Qu.:  0.00   3rd Qu.: 3174  \n",
       " Max.   :98.00                        Max.   :255.00   Max.   :28733  \n",
       "                                                       NA's   :121    \n",
       " NumberOfOpenCreditLinesAndLoans NumberOfTimes90DaysLate\n",
       " Min.   :0.000000                Min.   :96.00          \n",
       " 1st Qu.:0.000000                1st Qu.:98.00          \n",
       " Median :0.000000                Median :98.00          \n",
       " Mean   :0.007435                Mean   :97.96          \n",
       " 3rd Qu.:0.000000                3rd Qu.:98.00          \n",
       " Max.   :1.000000                Max.   :98.00          \n",
       "                                                        \n",
       " NumberRealEstateLoansOrLines NumberOfTime60.89DaysPastDueNotWorse\n",
       " Min.   :0                    Min.   :96.00                       \n",
       " 1st Qu.:0                    1st Qu.:98.00                       \n",
       " Median :0                    Median :98.00                       \n",
       " Mean   :0                    Mean   :97.96                       \n",
       " 3rd Qu.:0                    3rd Qu.:98.00                       \n",
       " Max.   :0                    Max.   :98.00                       \n",
       "                                                                  \n",
       " NumberOfDependents\n",
       " Min.   :0.0000    \n",
       " 1st Qu.:0.0000    \n",
       " Median :0.0000    \n",
       " Mean   :0.3697    \n",
       " 3rd Qu.:0.0000    \n",
       " Max.   :5.0000    \n",
       " NA's   :31        "
      ]
     },
     "metadata": {},
     "output_type": "display_data"
    }
   ],
   "source": [
    "summary(df[df$NumberOfTime30.59DaysPastDueNotWorse>95,])"
   ]
  },
  {
   "cell_type": "markdown",
   "metadata": {},
   "source": [
    "Looking above, it appears that any row that has values of 96 or 98 for their PastDue column will also have that same value marked for the rest of the PastDue categories. More importantly, these values have a mean SeriousDlqin2yrs of 0.54. This is close to 10x the probability of the sample dataset. This has enormous predictive power if these types of values are also present in the testing data. \n",
    "\n",
    "We want to be able to harness the predictive power of these values, so before we impute, we will augment our feature space by making a special binary column marking each rows that have a 96 or 98 in the PastDue columns. That makes sure we still can capture this signal even when we impute the data. We still need to impute the data here even with some useful signal because the 96 and 98 values are outliers in the context of the rest of the values in the three PastDue columns.\n",
    "\n",
    "There are a couple different options to impute them. We can either impute them with the max (technically we could also use Winsorization but might not be super necessary considering there aren't really any other outliers besides the 96 and 98 values), or if we feel these datapoints are more representative of the median we could impute these at the median."
   ]
  },
  {
   "cell_type": "code",
   "execution_count": null,
   "metadata": {},
   "outputs": [],
   "source": []
  },
  {
   "cell_type": "code",
   "execution_count": 318,
   "metadata": {},
   "outputs": [],
   "source": [
    "# Option 1\n",
    "ImputeWeirdPastDueWithMax <- function(df) {\n",
    "    df[df$NumberOfTime30.59DaysPastDueNotWorse > 95,]$NumberOfTime30.59DaysPastDueNotWorse <- NA\n",
    "    df[is.na(df$NumberOfTime30.59DaysPastDueNotWorse),]$NumberOfTime30.59DaysPastDueNotWorse <- max( na.omit(df$NumberOfTime30.59DaysPastDueNotWorse))\n",
    "    df[df$NumberOfTime60.89DaysPastDueNotWorse > 95,]$NumberOfTime60.89DaysPastDueNotWorse <- NA\n",
    "    df[is.na(df$NumberOfTime60.89DaysPastDueNotWorse),]$NumberOfTime60.89DaysPastDueNotWorse <- max(na.omit(df$NumberOfTime60.89DaysPastDueNotWorse))\n",
    "    df[df$NumberOfTimes90DaysLate > 95,]$NumberOfTimes90DaysLate <- NA\n",
    "    df[is.na(df$NumberOfTimes90DaysLate),]$NumberOfTimes90DaysLate <- max(na.omit(df$NumberOfTimes90DaysLate))\n",
    "    return (df)\n",
    "}"
   ]
  },
  {
   "cell_type": "code",
   "execution_count": 319,
   "metadata": {},
   "outputs": [],
   "source": [
    "# Option 2\n",
    "ImputeWeirdPastDueWithMedian <- function(df) {\n",
    "    df[df$NumberOfTime30.59DaysPastDueNotWorse > 95,]$NumberOfTime30.59DaysPastDueNotWorse <- NA\n",
    "    df[is.na(df$NumberOfTime30.59DaysPastDueNotWorse),]$NumberOfTime30.59DaysPastDueNotWorse <- median( na.omit(df$NumberOfTime30.59DaysPastDueNotWorse))\n",
    "    df[df$NumberOfTime60.89DaysPastDueNotWorse > 95,]$NumberOfTime60.89DaysPastDueNotWorse <- NA\n",
    "    df[is.na(df$NumberOfTime60.89DaysPastDueNotWorse),]$NumberOfTime60.89DaysPastDueNotWorse <- median(na.omit(df$NumberOfTime60.89DaysPastDueNotWorse))\n",
    "    df[df$NumberOfTimes90DaysLate > 95,]$NumberOfTimes90DaysLate <-NA\n",
    "    df[is.na(df$NumberOfTimes90DaysLate),]$NumberOfTimes90DaysLate <- median(na.omit(df$NumberOfTimes90DaysLate))\n",
    "    return (df)\n",
    "}"
   ]
  },
  {
   "cell_type": "code",
   "execution_count": 320,
   "metadata": {},
   "outputs": [],
   "source": [
    "# Option 3\n",
    "ImputeWeirdPastDueToNA <- function(df) {\n",
    "    df[df$NumberOfTime30.59DaysPastDueNotWorse > 95,]$NumberOfTime30.59DaysPastDueNotWorse <- NA\n",
    "    df[df$NumberOfTime60.89DaysPastDueNotWorse > 95,]$NumberOfTime60.89DaysPastDueNotWorse <- NA\n",
    "    df[df$NumberOfTimes90DaysLate > 95,]$NumberOfTimes90DaysLate <-NA\n",
    "    return (df)\n",
    "}"
   ]
  },
  {
   "cell_type": "code",
   "execution_count": null,
   "metadata": {},
   "outputs": [],
   "source": []
  },
  {
   "cell_type": "markdown",
   "metadata": {},
   "source": [
    "# Feature Engineering"
   ]
  },
  {
   "cell_type": "markdown",
   "metadata": {},
   "source": [
    "We haven't ran our imputation and cleaning functions on our data yet, but we have set them up. That's because before we impute, we want to see if we can dig out more signal from our dataset by creating new features out of our pre-existing ones. These can include transformations of our initial features, combinations of our initial features, transformations of combinations of our features, or adding in outside information. \n",
    "\n",
    "The easiest features to add are just common binary cases that may have a lot of predictive power. Some examples are:"
   ]
  },
  {
   "cell_type": "code",
   "execution_count": 321,
   "metadata": {},
   "outputs": [],
   "source": [
    "AddFeatures <- function(df) {\n",
    "    df$NoDebt <- as.numeric(df$DebtRatio == 0)\n",
    "    df$VeryHighDebtRatio <- as.numeric(df$DebtRatio  >= 1 & df$DebtRatio < 10)\n",
    "    df$ExtremelyHighDebtRatio <- as.numeric(df$DebtRatio  >= 100)\n",
    "\n",
    "    df$NoRevolvingUtilization <- as.numeric ( df$RevolvingUtilizationOfUnsecuredLines == 0 )\n",
    "    df$HighRevolvingUtilization <- as.numeric ( df$RevolvingUtilizationOfUnsecuredLines >= 1 )\n",
    "\n",
    "    df$WeirdPastDue <- as.numeric ( df$NumberOfTime30.59DaysPastDueNotWorse > 95 )\n",
    "    df$NeverPastDue <- as.numeric ( df$NumberOfTime30.59DaysPastDueNotWorse == 0 & \n",
    "                                    df$NumberOfTime60.89DaysPastDueNotWorse==0 & \n",
    "                                    df$NumberOfTimes90DaysLate ==0 )\n",
    "    \n",
    "    return ( df )\n",
    "}"
   ]
  },
  {
   "cell_type": "code",
   "execution_count": null,
   "metadata": {},
   "outputs": [],
   "source": []
  },
  {
   "cell_type": "markdown",
   "metadata": {},
   "source": [
    "# Selecting Combinations of Imputation Methods"
   ]
  },
  {
   "cell_type": "markdown",
   "metadata": {},
   "source": [
    "We created a lot of different methods of imputation because we weren't really sure which could be the best method. With 1 to 3 reasonable methods of imputation for most every feature, there's a ton of combinations that we could try. We decided to try them all of the reasonable methods out, and let cross validation decide which one will perform best."
   ]
  },
  {
   "cell_type": "code",
   "execution_count": 263,
   "metadata": {},
   "outputs": [],
   "source": [
    "df.test <- df\n",
    "df.test <- AddFeatures ( df.test )\n",
    "df.test <- ImputeMonthlyIncomeWithZeroForHighDR ( df.test )\n",
    "df.test <- ImputeDependentsWithZero ( df.test )   # ImputeNumberOfDependentsMean\n",
    "df.test <- WinsorizeHighRevolvingUtil( df.test, 0.02 ) \n",
    "df.test <- WinsorizeDebtRatio( df.test, 0.005 )\n",
    "df.test <- ImputeWeirdPastDueWithMax( df.test )\n",
    "df.test <- ExpandFeatureSpace ( df.test )\n",
    "write.csv(df.test, \"cleanData1.csv\")"
   ]
  },
  {
   "cell_type": "code",
   "execution_count": 264,
   "metadata": {},
   "outputs": [],
   "source": [
    "df.test <- df\n",
    "df.test <- AddFeatures ( df.test )\n",
    "df.test <- ImputeMonthlyIncomeWithZeroForAll ( df.test )\n",
    "df.test <- ImputeDependentsWithZero ( df.test )   # ImputeNumberOfDependentsMean\n",
    "df.test <- WinsorizeHighRevolvingUtil( df.test, 0.02 ) \n",
    "df.test <- WinsorizeDebtRatio( df.test, 0.15 )\n",
    "df.test <- ImputeWeirdPastDueWithMax( df.test )\n",
    "df.test <- ExpandFeatureSpace ( df.test )\n",
    "write.csv(df.test, \"cleanData2.csv\")"
   ]
  },
  {
   "cell_type": "code",
   "execution_count": 265,
   "metadata": {},
   "outputs": [],
   "source": [
    "df.test <- df\n",
    "df.test <- AddFeatures ( df.test )\n",
    "df.test <- ImputeMonthlyIncomeWithKNNOnly ( df.test )\n",
    "df.test <- ImputeDependentsWithZero ( df.test )   # ImputeNumberOfDependentsMean\n",
    "df.test <- WinsorizeHighRevolvingUtil( df.test, 0.02 ) \n",
    "df.test <- WinsorizeDebtRatio( df.test, 0.15 )\n",
    "df.test <- ImputeWeirdPastDueWithMax( df.test )\n",
    "df.test <- ExpandFeatureSpace ( df.test )\n",
    "write.csv(df.test, \"cleanData3.csv\")"
   ]
  },
  {
   "cell_type": "code",
   "execution_count": 266,
   "metadata": {},
   "outputs": [],
   "source": [
    "df.test <- df\n",
    "df.test <- AddFeatures ( df.test )\n",
    "df.test <- ImputeMonthlyIncomeWithZeroForHighDR ( df.test )\n",
    "df.test <- ImputeNumberOfDependentsMean ( df.test )\n",
    "df.test <- WinsorizeHighRevolvingUtil( df.test, 0.02 ) \n",
    "df.test <- WinsorizeDebtRatio( df.test, 0.15 )\n",
    "df.test <- ImputeWeirdPastDueWithMax( df.test )\n",
    "df.test <- ExpandFeatureSpace ( df.test )\n",
    "write.csv(df.test, \"cleanData4.csv\")"
   ]
  },
  {
   "cell_type": "code",
   "execution_count": 267,
   "metadata": {},
   "outputs": [],
   "source": [
    "df.test <- df\n",
    "df.test <- AddFeatures ( df.test )\n",
    "df.test <- ImputeMonthlyIncomeWithZeroForAll ( df.test )\n",
    "df.test <- ImputeNumberOfDependentsMean ( df.test )\n",
    "df.test <- WinsorizeHighRevolvingUtil( df.test, 0.02 ) \n",
    "df.test <- WinsorizeDebtRatio( df.test, 0.15 )\n",
    "df.test <- ImputeWeirdPastDueWithMax( df.test )\n",
    "df.test <- ExpandFeatureSpace ( df.test )\n",
    "write.csv(df.test, \"cleanData5.csv\")"
   ]
  },
  {
   "cell_type": "code",
   "execution_count": 268,
   "metadata": {},
   "outputs": [],
   "source": [
    "df.test <- df\n",
    "df.test <- AddFeatures ( df.test )\n",
    "df.test <- ImputeMonthlyIncomeWithKNNOnly ( df.test )\n",
    "df.test <- ImputeNumberOfDependentsMean ( df.test )\n",
    "df.test <- WinsorizeHighRevolvingUtil( df.test, 0.02 ) \n",
    "df.test <- WinsorizeDebtRatio( df.test, 0.15 )\n",
    "df.test <- ImputeWeirdPastDueWithMax( df.test )\n",
    "df.test <- ExpandFeatureSpace ( df.test )\n",
    "write.csv(df.test, \"cleanData6.csv\")"
   ]
  },
  {
   "cell_type": "code",
   "execution_count": 269,
   "metadata": {},
   "outputs": [],
   "source": [
    "df.test <- df\n",
    "df.test <- AddFeatures ( df.test )\n",
    "df.test <- ImputeMonthlyIncomeWithZeroForHighDR ( df.test )\n",
    "df.test <- ImputeDependentsWithZero ( df.test )   # ImputeNumberOfDependentsMean\n",
    "df.test <- TrimHighRevolvingUtilToMedian( df.test ) \n",
    "df.test <- WinsorizeDebtRatio( df.test, 0.15 )\n",
    "df.test <- ImputeWeirdPastDueWithMax( df.test )\n",
    "df.test <- ExpandFeatureSpace ( df.test )\n",
    "write.csv(df.test, \"cleanData7.csv\")"
   ]
  },
  {
   "cell_type": "code",
   "execution_count": 270,
   "metadata": {},
   "outputs": [],
   "source": [
    "df.test <- df\n",
    "df.test <- AddFeatures ( df.test )\n",
    "df.test <- ImputeMonthlyIncomeWithZeroForAll ( df.test )\n",
    "df.test <- ImputeDependentsWithZero ( df.test )   # ImputeNumberOfDependentsMean\n",
    "df.test <- TrimHighRevolvingUtilToMedian( df.test ) \n",
    "df.test <- WinsorizeDebtRatio( df.test, 0.15 )\n",
    "df.test <- ImputeWeirdPastDueWithMax( df.test )\n",
    "df.test <- ExpandFeatureSpace ( df.test )\n",
    "write.csv(df.test, \"cleanData8.csv\")"
   ]
  },
  {
   "cell_type": "code",
   "execution_count": 271,
   "metadata": {},
   "outputs": [],
   "source": [
    "df.test <- df\n",
    "df.test <- AddFeatures ( df.test )\n",
    "df.test <- ImputeMonthlyIncomeWithKNNOnly ( df.test )\n",
    "df.test <- ImputeDependentsWithZero ( df.test )   # ImputeNumberOfDependentsMean\n",
    "df.test <- TrimHighRevolvingUtilToMedian( df.test ) \n",
    "df.test <- WinsorizeDebtRatio( df.test, 0.15 )\n",
    "df.test <- ImputeWeirdPastDueWithMax( df.test )\n",
    "df.test <- ExpandFeatureSpace ( df.test )\n",
    "write.csv(df.test, \"cleanData9.csv\")"
   ]
  },
  {
   "cell_type": "code",
   "execution_count": 272,
   "metadata": {},
   "outputs": [],
   "source": [
    "df.test <- df\n",
    "df.test <- AddFeatures ( df.test )\n",
    "df.test <- ImputeMonthlyIncomeWithZeroForHighDR ( df.test )\n",
    "df.test <- ImputeNumberOfDependentsMean ( df.test )\n",
    "df.test <- TrimHighRevolvingUtilToMedian( df.test ) \n",
    "df.test <- WinsorizeDebtRatio( df.test, 0.15 )\n",
    "df.test <- ImputeWeirdPastDueWithMax( df.test )\n",
    "df.test <- ExpandFeatureSpace ( df.test )\n",
    "write.csv(df.test, \"cleanData10.csv\")"
   ]
  },
  {
   "cell_type": "code",
   "execution_count": 273,
   "metadata": {},
   "outputs": [],
   "source": [
    "df.test <- df\n",
    "df.test <- AddFeatures ( df.test )\n",
    "df.test <- ImputeMonthlyIncomeWithZeroForAll ( df.test )\n",
    "df.test <- ImputeNumberOfDependentsMean ( df.test )\n",
    "df.test <- TrimHighRevolvingUtilToMedian( df.test ) \n",
    "df.test <- WinsorizeDebtRatio( df.test, 0.15 )\n",
    "df.test <- ImputeWeirdPastDueWithMax( df.test )\n",
    "df.test <- ExpandFeatureSpace ( df.test )\n",
    "write.csv(df.test, \"cleanData11.csv\")"
   ]
  },
  {
   "cell_type": "code",
   "execution_count": 274,
   "metadata": {},
   "outputs": [],
   "source": [
    "df.test <- df\n",
    "df.test <- AddFeatures ( df.test )\n",
    "df.test <- ImputeMonthlyIncomeWithKNNOnly ( df.test )\n",
    "df.test <- ImputeNumberOfDependentsMean ( df.test )\n",
    "df.test <- TrimHighRevolvingUtilToMedian( df.test ) \n",
    "df.test <- WinsorizeDebtRatio( df.test, 0.15 )\n",
    "df.test <- ImputeWeirdPastDueWithMax( df.test )\n",
    "df.test <- ExpandFeatureSpace ( df.test )\n",
    "write.csv(df.test, \"cleanData12.csv\")"
   ]
  },
  {
   "cell_type": "code",
   "execution_count": 275,
   "metadata": {},
   "outputs": [],
   "source": [
    "df.test <- df\n",
    "df.test <- AddFeatures ( df.test )\n",
    "df.test <- ImputeMonthlyIncomeWithZeroForHighDR ( df.test )\n",
    "df.test <- ImputeDependentsWithZero ( df.test )   # ImputeNumberOfDependentsMean\n",
    "df.test <- WinsorizeHighRevolvingUtil( df.test, 0.02 ) \n",
    "df.test <- WinsorizeDebtRatio( df.test, 0.15 )\n",
    "df.test <- ImputeWeirdPastDueWithMedian( df.test )\n",
    "df.test <- ExpandFeatureSpace ( df.test )\n",
    "write.csv(df.test, \"cleanData13.csv\")"
   ]
  },
  {
   "cell_type": "code",
   "execution_count": 276,
   "metadata": {},
   "outputs": [],
   "source": [
    "df.test <- df\n",
    "df.test <- AddFeatures ( df.test )\n",
    "df.test <- ImputeMonthlyIncomeWithZeroForAll ( df.test )\n",
    "df.test <- ImputeDependentsWithZero ( df.test )   # ImputeNumberOfDependentsMean\n",
    "df.test <- WinsorizeHighRevolvingUtil( df.test, 0.02 ) \n",
    "df.test <- WinsorizeDebtRatio( df.test, 0.15 )\n",
    "df.test <- ImputeWeirdPastDueWithMedian( df.test )\n",
    "df.test <- ExpandFeatureSpace ( df.test )\n",
    "write.csv(df.test, \"cleanData14.csv\")"
   ]
  },
  {
   "cell_type": "code",
   "execution_count": 277,
   "metadata": {},
   "outputs": [],
   "source": [
    "df.test <- df\n",
    "df.test <- AddFeatures ( df.test )\n",
    "df.test <- ImputeMonthlyIncomeWithKNNOnly ( df.test )\n",
    "df.test <- ImputeDependentsWithZero ( df.test )   # ImputeNumberOfDependentsMean\n",
    "df.test <- WinsorizeHighRevolvingUtil( df.test, 0.02 ) \n",
    "df.test <- WinsorizeDebtRatio( df.test, 0.15 )\n",
    "df.test <- ImputeWeirdPastDueWithMedian( df.test )\n",
    "df.test <- ExpandFeatureSpace ( df.test )\n",
    "write.csv(df.test, \"cleanData15.csv\")"
   ]
  },
  {
   "cell_type": "code",
   "execution_count": 278,
   "metadata": {},
   "outputs": [],
   "source": [
    "df.test <- df\n",
    "df.test <- AddFeatures ( df.test )\n",
    "df.test <- ImputeMonthlyIncomeWithZeroForHighDR ( df.test )\n",
    "df.test <- ImputeNumberOfDependentsMean ( df.test )\n",
    "df.test <- WinsorizeHighRevolvingUtil( df.test, 0.02 ) \n",
    "df.test <- WinsorizeDebtRatio( df.test, 0.15 )\n",
    "df.test <- ImputeWeirdPastDueWithMedian( df.test )\n",
    "df.test <- ExpandFeatureSpace ( df.test )\n",
    "write.csv(df.test, \"cleanData16.csv\")"
   ]
  },
  {
   "cell_type": "code",
   "execution_count": 279,
   "metadata": {},
   "outputs": [],
   "source": [
    "df.test <- df\n",
    "df.test <- AddFeatures ( df.test )\n",
    "df.test <- ImputeMonthlyIncomeWithZeroForAll ( df.test )\n",
    "df.test <- ImputeNumberOfDependentsMean ( df.test )\n",
    "df.test <- WinsorizeHighRevolvingUtil( df.test, 0.02 ) \n",
    "df.test <- WinsorizeDebtRatio( df.test, 0.15 )\n",
    "df.test <- ImputeWeirdPastDueWithMedian( df.test )\n",
    "df.test <- ExpandFeatureSpace ( df.test )\n",
    "write.csv(df.test, \"cleanData17.csv\")"
   ]
  },
  {
   "cell_type": "code",
   "execution_count": 280,
   "metadata": {},
   "outputs": [],
   "source": [
    "df.test <- df\n",
    "df.test <- AddFeatures ( df.test )\n",
    "df.test <- ImputeMonthlyIncomeWithKNNOnly ( df.test )\n",
    "df.test <- ImputeNumberOfDependentsMean ( df.test )\n",
    "df.test <- WinsorizeHighRevolvingUtil( df.test, 0.02 ) \n",
    "df.test <- WinsorizeDebtRatio( df.test, 0.15 )\n",
    "df.test <- ImputeWeirdPastDueWithMedian( df.test )\n",
    "df.test <- ExpandFeatureSpace ( df.test )\n",
    "write.csv(df.test, \"cleanData18.csv\")"
   ]
  },
  {
   "cell_type": "code",
   "execution_count": 281,
   "metadata": {},
   "outputs": [],
   "source": [
    "df.test <- df\n",
    "df.test <- AddFeatures ( df.test )\n",
    "df.test <- ImputeMonthlyIncomeWithZeroForHighDR ( df.test )\n",
    "df.test <- ImputeDependentsWithZero ( df.test )\n",
    "df.test <- TrimHighRevolvingUtilToMedian( df.test ) \n",
    "df.test <- WinsorizeDebtRatio( df.test, 0.15 )\n",
    "df.test <- ImputeWeirdPastDueWithMedian( df.test )\n",
    "df.test <- ExpandFeatureSpace ( df.test )\n",
    "write.csv(df.test, \"cleanData19.csv\")"
   ]
  },
  {
   "cell_type": "code",
   "execution_count": 282,
   "metadata": {},
   "outputs": [],
   "source": [
    "df.test <- df\n",
    "df.test <- AddFeatures ( df.test )\n",
    "df.test <- ImputeMonthlyIncomeWithZeroForAll ( df.test )\n",
    "df.test <- ImputeDependentsWithZero ( df.test ) \n",
    "df.test <- TrimHighRevolvingUtilToMedian( df.test ) \n",
    "df.test <- WinsorizeDebtRatio( df.test, 0.15 )\n",
    "df.test <- ImputeWeirdPastDueWithMedian( df.test )\n",
    "df.test <- ExpandFeatureSpace ( df.test )\n",
    "write.csv(df.test, \"cleanData20.csv\")"
   ]
  },
  {
   "cell_type": "code",
   "execution_count": 283,
   "metadata": {},
   "outputs": [],
   "source": [
    "df.test <- df\n",
    "df.test <- AddFeatures ( df.test )\n",
    "df.test <- ImputeMonthlyIncomeWithKNNOnly ( df.test )\n",
    "df.test <- ImputeDependentsWithZero ( df.test )  \n",
    "df.test <- TrimHighRevolvingUtilToMedian( df.test ) \n",
    "df.test <- WinsorizeDebtRatio( df.test, 0.15 )\n",
    "df.test <- ImputeWeirdPastDueWithMedian( df.test )\n",
    "df.test <- ExpandFeatureSpace ( df.test )\n",
    "write.csv(df.test, \"cleanData21.csv\")"
   ]
  },
  {
   "cell_type": "code",
   "execution_count": 284,
   "metadata": {},
   "outputs": [],
   "source": [
    "df.test <- df\n",
    "df.test <- AddFeatures ( df.test )\n",
    "df.test <- ImputeMonthlyIncomeWithZeroForHighDR ( df.test )\n",
    "df.test <- ImputeNumberOfDependentsMean ( df.test )\n",
    "df.test <- TrimHighRevolvingUtilToMedian( df.test ) \n",
    "df.test <- WinsorizeDebtRatio( df.test, 0.15 )\n",
    "df.test <- ImputeWeirdPastDueWithMedian( df.test )\n",
    "df.test <- ExpandFeatureSpace ( df.test )\n",
    "write.csv(df.test, \"cleanData22.csv\")"
   ]
  },
  {
   "cell_type": "code",
   "execution_count": 285,
   "metadata": {},
   "outputs": [],
   "source": [
    "df.test <- df\n",
    "df.test <- AddFeatures ( df.test )\n",
    "df.test <- ImputeMonthlyIncomeWithZeroForAll ( df.test )\n",
    "df.test <- ImputeNumberOfDependentsMean ( df.test )\n",
    "df.test <- TrimHighRevolvingUtilToMedian( df.test ) \n",
    "df.test <- WinsorizeDebtRatio( df.test, 0.15 )\n",
    "df.test <- ImputeWeirdPastDueWithMedian( df.test )\n",
    "df.test <- ExpandFeatureSpace ( df.test )\n",
    "write.csv(df.test, \"cleanData23.csv\")"
   ]
  },
  {
   "cell_type": "code",
   "execution_count": 286,
   "metadata": {},
   "outputs": [],
   "source": [
    "df.test <- df\n",
    "df.test <- AddFeatures ( df.test )\n",
    "df.test <- ImputeMonthlyIncomeWithKNNOnly ( df.test )\n",
    "df.test <- ImputeNumberOfDependentsMean ( df.test )\n",
    "df.test <- TrimHighRevolvingUtilToMedian( df.test ) \n",
    "df.test <- WinsorizeDebtRatio( df.test, 0.15 )\n",
    "df.test <- ImputeWeirdPastDueWithMedian( df.test )\n",
    "df.test <- ExpandFeatureSpace ( df.test )\n",
    "write.csv(df.test, \"cleanData24.csv\")"
   ]
  },
  {
   "cell_type": "code",
   "execution_count": null,
   "metadata": {},
   "outputs": [],
   "source": [
    "df.test <- df\n",
    "df.test <- AddFeatures ( df.test )\n",
    "df.test <- ImputeMonthlyIncomeWithKNNOnly ( df.test )\n",
    "df.test <- ImputeNumberOfDependentsMean ( df.test )\n",
    "df.test <- TrimHighRevolvingUtilToMedian( df.test ) \n",
    "df.test <- WinsorizeDebtRatio( df.test, 0.15 )\n",
    "df.test <- ImputeWeirdPastDueWithMedian( df.test )\n",
    "df.test <- ExpandFeatureSpace ( df.test )\n",
    "write.csv(df.test, \"cleanData25.csv\")"
   ]
  },
  {
   "cell_type": "code",
   "execution_count": 288,
   "metadata": {},
   "outputs": [
    {
     "data": {
      "text/html": [
       "<table>\n",
       "<thead><tr><th></th><th scope=col>SeriousDlqin2yrs</th><th scope=col>RevolvingUtilizationOfUnsecuredLines</th><th scope=col>age</th><th scope=col>NumberOfTime30.59DaysPastDueNotWorse</th><th scope=col>DebtRatio</th><th scope=col>MonthlyIncome</th><th scope=col>NumberOfOpenCreditLinesAndLoans</th><th scope=col>NumberOfTimes90DaysLate</th><th scope=col>NumberRealEstateLoansOrLines</th><th scope=col>NumberOfTime60.89DaysPastDueNotWorse</th><th scope=col>⋯</th><th scope=col>NeverPastDue</th><th scope=col>NoIncome</th><th scope=col>LowIncome</th><th scope=col>HighIncome</th><th scope=col>IncomeToAgeRatio</th><th scope=col>LogIncomeToAgeRatio</th><th scope=col>LogRevolvingUtilization</th><th scope=col>LogDebtRatio</th><th scope=col>NeverPastDueXNumberOfLines</th><th scope=col>NeverPastDueXRealEstate</th></tr></thead>\n",
       "<tbody>\n",
       "\t<tr><th scope=row>SeriousDlqin2yrs</th><td> 1.000000000 </td><td> 0.1536287264</td><td>-0.115391149 </td><td> 0.271410908 </td><td>-0.0175691038</td><td>-0.017162337 </td><td>-0.02966857  </td><td> 0.3117129558</td><td>-0.007038116 </td><td> 0.265593769 </td><td>⋯            </td><td>-0.314407321 </td><td>-0.012448170 </td><td>-0.011972880 </td><td>-0.036520691 </td><td>-0.0048235398</td><td> 0.011770067 </td><td> 0.187531498 </td><td> 0.0023294712</td><td>-0.1803975377</td><td>-0.105456870 </td></tr>\n",
       "\t<tr><th scope=row>RevolvingUtilizationOfUnsecuredLines</th><td> 0.153628726 </td><td> 1.0000000000</td><td>-0.147127730 </td><td> 0.129458881 </td><td>-0.0204964222</td><td>-0.015523378 </td><td>-0.08644203  </td><td> 0.1441559570</td><td>-0.038052358 </td><td> 0.114520864 </td><td>⋯            </td><td>-0.168208607 </td><td>-0.001752190 </td><td> 0.001587466 </td><td>-0.026296963 </td><td>-0.0001380898</td><td> 0.009780405 </td><td> 0.382735387 </td><td> 0.0096816260</td><td>-0.1405399868</td><td>-0.077444541 </td></tr>\n",
       "\t<tr><th scope=row>age</th><td>-0.115391149 </td><td>-0.1471277299</td><td> 1.000000000 </td><td>-0.070931781 </td><td> 0.0619634914</td><td> 0.024166515 </td><td> 0.14770476  </td><td>-0.0818084778</td><td> 0.033159398 </td><td>-0.069274190 </td><td>⋯            </td><td> 0.126948171 </td><td>-0.037185829 </td><td>-0.047243845 </td><td> 0.051225050 </td><td>-0.0900292868</td><td>-0.188640968 </td><td>-0.283026178 </td><td> 0.0377290080</td><td> 0.1601224596</td><td> 0.043368217 </td></tr>\n",
       "\t<tr><th scope=row>NumberOfTime30.59DaysPastDueNotWorse</th><td> 0.271410908 </td><td> 0.1294588809</td><td>-0.070931781 </td><td> 1.000000000 </td><td>-0.0177315447</td><td> 0.004712125 </td><td> 0.08090366  </td><td> 0.2182331705</td><td> 0.043296268 </td><td> 0.305955814 </td><td>⋯            </td><td>-0.698516838 </td><td>-0.011738915 </td><td>-0.013250514 </td><td>-0.001793437 </td><td> 0.0119841168</td><td> 0.044273793 </td><td> 0.175024918 </td><td> 0.0053193716</td><td>-0.4190620593</td><td>-0.268112629 </td></tr>\n",
       "\t<tr><th scope=row>DebtRatio</th><td>-0.017569104 </td><td>-0.0204964222</td><td> 0.061963491 </td><td>-0.017731545 </td><td> 1.0000000000</td><td>-0.068525892 </td><td>-0.02014007  </td><td>-0.0021437835</td><td> 0.044480103 </td><td>-0.002069983 </td><td>⋯            </td><td> 0.024586827 </td><td> 0.171956377 </td><td> 0.073465474 </td><td>-0.150367888 </td><td>-0.0782501571</td><td>-0.238136546 </td><td>-0.031279343 </td><td> 0.8694131622</td><td> 0.0005356109</td><td> 0.053007738 </td></tr>\n",
       "\t<tr><th scope=row>MonthlyIncome</th><td>-0.017162337 </td><td>-0.0155233776</td><td> 0.024166515 </td><td> 0.004712125 </td><td>-0.0685258920</td><td> 1.000000000 </td><td> 0.10460291  </td><td>-0.0183935317</td><td> 0.133632860 </td><td>-0.009007432 </td><td>⋯            </td><td> 0.004823008 </td><td>-0.051692599 </td><td>-0.041934482 </td><td> 0.293203004 </td><td> 0.9783316105</td><td> 0.290421106 </td><td>-0.012786430 </td><td>-0.1023081932</td><td> 0.0752834323</td><td> 0.111237797 </td></tr>\n",
       "\t<tr><th scope=row>NumberOfOpenCreditLinesAndLoans</th><td>-0.029668568 </td><td>-0.0864420275</td><td> 0.147704762 </td><td> 0.080903661 </td><td>-0.0201400702</td><td> 0.104602908 </td><td> 1.00000000  </td><td>-0.0930895274</td><td> 0.433958603 </td><td>-0.021273951 </td><td>⋯            </td><td>-0.010249448 </td><td>-0.033055290 </td><td>-0.035689496 </td><td> 0.193497712 </td><td> 0.0848581486</td><td> 0.186148529 </td><td>-0.115591808 </td><td> 0.0400640069</td><td> 0.6958158736</td><td> 0.337442682 </td></tr>\n",
       "\t<tr><th scope=row>NumberOfTimes90DaysLate</th><td> 0.311712956 </td><td> 0.1441559570</td><td>-0.081808478 </td><td> 0.218233170 </td><td>-0.0021437835</td><td>-0.018393532 </td><td>-0.09308953  </td><td> 1.0000000000</td><td>-0.062123121 </td><td> 0.294684442 </td><td>⋯            </td><td>-0.369470798 </td><td>-0.006234337 </td><td>-0.006941012 </td><td>-0.038993912 </td><td>-0.0104059863</td><td>-0.003363019 </td><td> 0.154021424 </td><td>-0.0011755744</td><td>-0.2216570671</td><td>-0.141814458 </td></tr>\n",
       "\t<tr><th scope=row>NumberRealEstateLoansOrLines</th><td>-0.007038116 </td><td>-0.0380523580</td><td> 0.033159398 </td><td> 0.043296268 </td><td> 0.0444801034</td><td> 0.133632860 </td><td> 0.43395860  </td><td>-0.0621231208</td><td> 1.000000000 </td><td>-0.020363025 </td><td>⋯            </td><td> 0.006650168 </td><td>-0.031619017 </td><td>-0.028661422 </td><td> 0.260049822 </td><td> 0.1274737086</td><td> 0.248420869 </td><td>-0.011109806 </td><td> 0.1475202117</td><td> 0.2987713458</td><td> 0.810026939 </td></tr>\n",
       "\t<tr><th scope=row>NumberOfTime60.89DaysPastDueNotWorse</th><td> 0.265593769 </td><td> 0.1145208642</td><td>-0.069274190 </td><td> 0.305955814 </td><td>-0.0020699828</td><td>-0.009007432 </td><td>-0.02127395  </td><td> 0.2946844423</td><td>-0.020363025 </td><td> 1.000000000 </td><td>⋯            </td><td>-0.389471261 </td><td>-0.006835848 </td><td>-0.006213338 </td><td>-0.025400424 </td><td>-0.0015906849</td><td> 0.008981373 </td><td> 0.133299890 </td><td> 0.0055991558</td><td>-0.2336559692</td><td>-0.149491262 </td></tr>\n",
       "\t<tr><th scope=row>NumberOfDependents</th><td> 0.045621089 </td><td> 0.0452835160</td><td>-0.208096995 </td><td> 0.063329442 </td><td>-0.1257044692</td><td> 0.077973298 </td><td> 0.06450686  </td><td> 0.0305182662</td><td> 0.123369628 </td><td> 0.036506604 </td><td>⋯            </td><td>-0.069563109 </td><td>-0.005459897 </td><td>-0.004125300 </td><td> 0.146582523 </td><td> 0.1047516461</td><td> 0.195557460 </td><td> 0.095122442 </td><td>-0.0940812572</td><td> 0.0110358878</td><td> 0.084852486 </td></tr>\n",
       "\t<tr><th scope=row>NoDebt</th><td> 0.010639246 </td><td> 0.0298463244</td><td>-0.001936689 </td><td>-0.046029450 </td><td>-0.0765006588</td><td>-0.030907841 </td><td>-0.20326593  </td><td> 0.0101509891</td><td>-0.151332512 </td><td>-0.020194581 </td><td>⋯            </td><td> 0.009809940 </td><td> 0.018902610 </td><td> 0.029496452 </td><td>-0.047879952 </td><td>-0.0325182210</td><td>-0.089190818 </td><td> 0.113084511 </td><td> 0.0098330891</td><td>-0.1397987135</td><td>-0.127929843 </td></tr>\n",
       "\t<tr><th scope=row>VeryHighDebtRatio</th><td> 0.033498915 </td><td> 0.0128988592</td><td> 0.022892757 </td><td> 0.025298213 </td><td>-0.0908543721</td><td>-0.049036374 </td><td> 0.05190918  </td><td> 0.0009983212</td><td> 0.112258670 </td><td> 0.010493251 </td><td>⋯            </td><td>-0.010627306 </td><td> 0.003830088 </td><td> 0.064042171 </td><td>-0.066634398 </td><td>-0.0527781992</td><td>-0.150862954 </td><td>-0.009784660 </td><td> 0.0566812704</td><td> 0.0191217593</td><td> 0.073189987 </td></tr>\n",
       "\t<tr><th scope=row>ExtremelyHighDebtRatio</th><td>-0.015986384 </td><td>-0.0189120585</td><td> 0.055927046 </td><td>-0.016868488 </td><td> 0.9885247100</td><td>-0.066601927 </td><td>-0.01926485  </td><td>-0.0006083545</td><td> 0.043071465 </td><td>-0.001586871 </td><td>⋯            </td><td> 0.022812757 </td><td> 0.169381558 </td><td> 0.071846156 </td><td>-0.146347086 </td><td>-0.0758538493</td><td>-0.232081559 </td><td>-0.025573058 </td><td> 0.8521885882</td><td> 0.0006270114</td><td> 0.051642920 </td></tr>\n",
       "\t<tr><th scope=row>NoRevolvingUtilization</th><td>-0.041900282 </td><td>-0.1331756457</td><td> 0.009395854 </td><td>-0.041733103 </td><td> 0.0189012170</td><td>-0.007604422 </td><td>-0.10408312  </td><td>-0.0256052067</td><td>-0.026516677 </td><td>-0.025634794 </td><td>⋯            </td><td> 0.049128375 </td><td> 0.012104934 </td><td> 0.011085681 </td><td>-0.019219434 </td><td>-0.0088523723</td><td>-0.037291874 </td><td> 0.294761655 </td><td> 0.0341324294</td><td>-0.0566465529</td><td>-0.009422409 </td></tr>\n",
       "\t<tr><th scope=row>HighRevolvingUtilization</th><td> 0.184205156 </td><td> 0.2324176406</td><td>-0.084165225 </td><td> 0.166074690 </td><td>-0.0074504071</td><td>-0.013419057 </td><td>-0.06120142  </td><td> 0.1697130619</td><td>-0.045000489 </td><td> 0.167470555 </td><td>⋯            </td><td>-0.167634853 </td><td>-0.003622401 </td><td>-0.002334897 </td><td>-0.023371639 </td><td>-0.0047708261</td><td> 0.001444112 </td><td> 0.162704244 </td><td>-0.0044292019</td><td>-0.1190330680</td><td>-0.075741444 </td></tr>\n",
       "\t<tr><th scope=row>WeirdPastDue</th><td> 0.081400841 </td><td> 0.0413890636</td><td>-0.051793477 </td><td>-0.014915463 </td><td>-0.0167999670</td><td>-0.013185698 </td><td>-0.06956206  </td><td>-0.0078893274</td><td>-0.038201592 </td><td>-0.008316398 </td><td>⋯            </td><td>-0.084135774 </td><td> 0.005738887 </td><td> 0.035194877 </td><td>-0.015510421 </td><td>-0.0102781012</td><td>-0.028408156 </td><td> 0.044680150 </td><td> 0.0008194769</td><td>-0.0504756777</td><td>-0.032293944 </td></tr>\n",
       "\t<tr><th scope=row>NeverPastDue</th><td>-0.314407321 </td><td>-0.1682086071</td><td> 0.126948171 </td><td>-0.698516838 </td><td> 0.0245868267</td><td> 0.004823008 </td><td>-0.01024945  </td><td>-0.3694707984</td><td> 0.006650168 </td><td>-0.389471261 </td><td>⋯            </td><td> 1.000000000 </td><td> 0.016270484 </td><td> 0.010804664 </td><td> 0.020139284 </td><td>-0.0078507219</td><td>-0.040008795 </td><td>-0.229590904 </td><td> 0.0048927486</td><td> 0.5999312208</td><td> 0.383831304 </td></tr>\n",
       "\t<tr><th scope=row>NoIncome</th><td>-0.012448170 </td><td>-0.0017521900</td><td>-0.037185829 </td><td>-0.011738915 </td><td> 0.1719563768</td><td>-0.051692599 </td><td>-0.03305529  </td><td>-0.0062343371</td><td>-0.031619017 </td><td>-0.006835848 </td><td>⋯            </td><td> 0.016270484 </td><td> 1.000000000 </td><td>-0.009688404 </td><td>-0.040779309 </td><td>-0.0537858222</td><td>-0.481512876 </td><td> 0.000327471 </td><td> 0.1783229163</td><td>-0.0168549694</td><td>-0.023770049 </td></tr>\n",
       "\t<tr><th scope=row>LowIncome</th><td>-0.011972880 </td><td> 0.0015874661</td><td>-0.047243845 </td><td>-0.013250514 </td><td> 0.0734654738</td><td>-0.041934482 </td><td>-0.03568950  </td><td>-0.0069410121</td><td>-0.028661422 </td><td>-0.006213338 </td><td>⋯            </td><td> 0.010804664 </td><td>-0.009688404 </td><td> 1.000000000 </td><td>-0.033801659 </td><td>-0.0432736653</td><td>-0.508872243 </td><td> 0.007305397 </td><td> 0.0946544584</td><td>-0.0219529020</td><td>-0.022016113 </td></tr>\n",
       "\t<tr><th scope=row>HighIncome</th><td>-0.036520691 </td><td>-0.0262969629</td><td> 0.051225050 </td><td>-0.001793437 </td><td>-0.1503678878</td><td> 0.293203004 </td><td> 0.19349771  </td><td>-0.0389939121</td><td> 0.260049822 </td><td>-0.025400424 </td><td>⋯            </td><td> 0.020139284 </td><td>-0.040779309 </td><td>-0.033801659 </td><td> 1.000000000 </td><td> 0.2830320091</td><td> 0.404243434 </td><td>-0.022616172 </td><td>-0.1756130686</td><td> 0.1470070395</td><td> 0.220323604 </td></tr>\n",
       "\t<tr><th scope=row>IncomeToAgeRatio</th><td>-0.004823540 </td><td>-0.0001380898</td><td>-0.090029287 </td><td> 0.011984117 </td><td>-0.0782501571</td><td> 0.978331610 </td><td> 0.08485815  </td><td>-0.0104059863</td><td> 0.127473709 </td><td>-0.001590685 </td><td>⋯            </td><td>-0.007850722 </td><td>-0.053785822 </td><td>-0.043273665 </td><td> 0.283032009 </td><td> 1.0000000000</td><td> 0.321792773 </td><td> 0.015493766 </td><td>-0.1093424003</td><td> 0.0558265095</td><td> 0.104494791 </td></tr>\n",
       "\t<tr><th scope=row>LogIncomeToAgeRatio</th><td> 0.011770067 </td><td> 0.0097804047</td><td>-0.188640968 </td><td> 0.044273793 </td><td>-0.2381365457</td><td> 0.290421106 </td><td> 0.18614853  </td><td>-0.0033630191</td><td> 0.248420869 </td><td> 0.008981373 </td><td>⋯            </td><td>-0.040008795 </td><td>-0.481512876 </td><td>-0.508872243 </td><td> 0.404243434 </td><td> 0.3217927734</td><td> 1.000000000 </td><td> 0.041834630 </td><td>-0.2814685499</td><td> 0.1134279680</td><td> 0.200650136 </td></tr>\n",
       "\t<tr><th scope=row>LogRevolvingUtilization</th><td> 0.187531498 </td><td> 0.3827353865</td><td>-0.283026178 </td><td> 0.175024918 </td><td>-0.0312793433</td><td>-0.012786430 </td><td>-0.11559181  </td><td> 0.1540214237</td><td>-0.011109806 </td><td> 0.133299890 </td><td>⋯            </td><td>-0.229590904 </td><td> 0.000327471 </td><td> 0.007305397 </td><td>-0.022616172 </td><td> 0.0154937664</td><td> 0.041834630 </td><td> 1.000000000 </td><td> 0.0478210786</td><td>-0.2019972375</td><td>-0.072254213 </td></tr>\n",
       "\t<tr><th scope=row>LogDebtRatio</th><td> 0.002329471 </td><td> 0.0096816260</td><td> 0.037729008 </td><td> 0.005319372 </td><td> 0.8694131622</td><td>-0.102308193 </td><td> 0.04006401  </td><td>-0.0011755744</td><td> 0.147520212 </td><td> 0.005599156 </td><td>⋯            </td><td> 0.004892749 </td><td> 0.178322916 </td><td> 0.094654458 </td><td>-0.175613069 </td><td>-0.1093424003</td><td>-0.281468550 </td><td> 0.047821079 </td><td> 1.0000000000</td><td> 0.0286951946</td><td> 0.129923666 </td></tr>\n",
       "\t<tr><th scope=row>NeverPastDueXNumberOfLines</th><td>-0.180397538 </td><td>-0.1405399868</td><td> 0.160122460 </td><td>-0.419062059 </td><td> 0.0005356109</td><td> 0.075283432 </td><td> 0.69581587  </td><td>-0.2216570671</td><td> 0.298771346 </td><td>-0.233655969 </td><td>⋯            </td><td> 0.599931221 </td><td>-0.016854969 </td><td>-0.021952902 </td><td> 0.147007040 </td><td> 0.0558265095</td><td> 0.113427968 </td><td>-0.201997238 </td><td> 0.0286951946</td><td> 1.0000000000</td><td> 0.541554766 </td></tr>\n",
       "\t<tr><th scope=row>NeverPastDueXRealEstate</th><td>-0.105456870 </td><td>-0.0774445410</td><td> 0.043368217 </td><td>-0.268112629 </td><td> 0.0530077377</td><td> 0.111237797 </td><td> 0.33744268  </td><td>-0.1418144583</td><td> 0.810026939 </td><td>-0.149491262 </td><td>⋯            </td><td> 0.383831304 </td><td>-0.023770049 </td><td>-0.022016113 </td><td> 0.220323604 </td><td> 0.1044947907</td><td> 0.200650136 </td><td>-0.072254213 </td><td> 0.1299236657</td><td> 0.5415547664</td><td> 1.000000000 </td></tr>\n",
       "</tbody>\n",
       "</table>\n"
      ],
      "text/latex": [
       "\\begin{tabular}{r|lllllllllllllllllllllllllll}\n",
       "  & SeriousDlqin2yrs & RevolvingUtilizationOfUnsecuredLines & age & NumberOfTime30.59DaysPastDueNotWorse & DebtRatio & MonthlyIncome & NumberOfOpenCreditLinesAndLoans & NumberOfTimes90DaysLate & NumberRealEstateLoansOrLines & NumberOfTime60.89DaysPastDueNotWorse & ⋯ & NeverPastDue & NoIncome & LowIncome & HighIncome & IncomeToAgeRatio & LogIncomeToAgeRatio & LogRevolvingUtilization & LogDebtRatio & NeverPastDueXNumberOfLines & NeverPastDueXRealEstate\\\\\n",
       "\\hline\n",
       "\tSeriousDlqin2yrs &  1.000000000  &  0.1536287264 & -0.115391149  &  0.271410908  & -0.0175691038 & -0.017162337  & -0.02966857   &  0.3117129558 & -0.007038116  &  0.265593769  & ⋯             & -0.314407321  & -0.012448170  & -0.011972880  & -0.036520691  & -0.0048235398 &  0.011770067  &  0.187531498  &  0.0023294712 & -0.1803975377 & -0.105456870 \\\\\n",
       "\tRevolvingUtilizationOfUnsecuredLines &  0.153628726  &  1.0000000000 & -0.147127730  &  0.129458881  & -0.0204964222 & -0.015523378  & -0.08644203   &  0.1441559570 & -0.038052358  &  0.114520864  & ⋯             & -0.168208607  & -0.001752190  &  0.001587466  & -0.026296963  & -0.0001380898 &  0.009780405  &  0.382735387  &  0.0096816260 & -0.1405399868 & -0.077444541 \\\\\n",
       "\tage & -0.115391149  & -0.1471277299 &  1.000000000  & -0.070931781  &  0.0619634914 &  0.024166515  &  0.14770476   & -0.0818084778 &  0.033159398  & -0.069274190  & ⋯             &  0.126948171  & -0.037185829  & -0.047243845  &  0.051225050  & -0.0900292868 & -0.188640968  & -0.283026178  &  0.0377290080 &  0.1601224596 &  0.043368217 \\\\\n",
       "\tNumberOfTime30.59DaysPastDueNotWorse &  0.271410908  &  0.1294588809 & -0.070931781  &  1.000000000  & -0.0177315447 &  0.004712125  &  0.08090366   &  0.2182331705 &  0.043296268  &  0.305955814  & ⋯             & -0.698516838  & -0.011738915  & -0.013250514  & -0.001793437  &  0.0119841168 &  0.044273793  &  0.175024918  &  0.0053193716 & -0.4190620593 & -0.268112629 \\\\\n",
       "\tDebtRatio & -0.017569104  & -0.0204964222 &  0.061963491  & -0.017731545  &  1.0000000000 & -0.068525892  & -0.02014007   & -0.0021437835 &  0.044480103  & -0.002069983  & ⋯             &  0.024586827  &  0.171956377  &  0.073465474  & -0.150367888  & -0.0782501571 & -0.238136546  & -0.031279343  &  0.8694131622 &  0.0005356109 &  0.053007738 \\\\\n",
       "\tMonthlyIncome & -0.017162337  & -0.0155233776 &  0.024166515  &  0.004712125  & -0.0685258920 &  1.000000000  &  0.10460291   & -0.0183935317 &  0.133632860  & -0.009007432  & ⋯             &  0.004823008  & -0.051692599  & -0.041934482  &  0.293203004  &  0.9783316105 &  0.290421106  & -0.012786430  & -0.1023081932 &  0.0752834323 &  0.111237797 \\\\\n",
       "\tNumberOfOpenCreditLinesAndLoans & -0.029668568  & -0.0864420275 &  0.147704762  &  0.080903661  & -0.0201400702 &  0.104602908  &  1.00000000   & -0.0930895274 &  0.433958603  & -0.021273951  & ⋯             & -0.010249448  & -0.033055290  & -0.035689496  &  0.193497712  &  0.0848581486 &  0.186148529  & -0.115591808  &  0.0400640069 &  0.6958158736 &  0.337442682 \\\\\n",
       "\tNumberOfTimes90DaysLate &  0.311712956  &  0.1441559570 & -0.081808478  &  0.218233170  & -0.0021437835 & -0.018393532  & -0.09308953   &  1.0000000000 & -0.062123121  &  0.294684442  & ⋯             & -0.369470798  & -0.006234337  & -0.006941012  & -0.038993912  & -0.0104059863 & -0.003363019  &  0.154021424  & -0.0011755744 & -0.2216570671 & -0.141814458 \\\\\n",
       "\tNumberRealEstateLoansOrLines & -0.007038116  & -0.0380523580 &  0.033159398  &  0.043296268  &  0.0444801034 &  0.133632860  &  0.43395860   & -0.0621231208 &  1.000000000  & -0.020363025  & ⋯             &  0.006650168  & -0.031619017  & -0.028661422  &  0.260049822  &  0.1274737086 &  0.248420869  & -0.011109806  &  0.1475202117 &  0.2987713458 &  0.810026939 \\\\\n",
       "\tNumberOfTime60.89DaysPastDueNotWorse &  0.265593769  &  0.1145208642 & -0.069274190  &  0.305955814  & -0.0020699828 & -0.009007432  & -0.02127395   &  0.2946844423 & -0.020363025  &  1.000000000  & ⋯             & -0.389471261  & -0.006835848  & -0.006213338  & -0.025400424  & -0.0015906849 &  0.008981373  &  0.133299890  &  0.0055991558 & -0.2336559692 & -0.149491262 \\\\\n",
       "\tNumberOfDependents &  0.045621089  &  0.0452835160 & -0.208096995  &  0.063329442  & -0.1257044692 &  0.077973298  &  0.06450686   &  0.0305182662 &  0.123369628  &  0.036506604  & ⋯             & -0.069563109  & -0.005459897  & -0.004125300  &  0.146582523  &  0.1047516461 &  0.195557460  &  0.095122442  & -0.0940812572 &  0.0110358878 &  0.084852486 \\\\\n",
       "\tNoDebt &  0.010639246  &  0.0298463244 & -0.001936689  & -0.046029450  & -0.0765006588 & -0.030907841  & -0.20326593   &  0.0101509891 & -0.151332512  & -0.020194581  & ⋯             &  0.009809940  &  0.018902610  &  0.029496452  & -0.047879952  & -0.0325182210 & -0.089190818  &  0.113084511  &  0.0098330891 & -0.1397987135 & -0.127929843 \\\\\n",
       "\tVeryHighDebtRatio &  0.033498915  &  0.0128988592 &  0.022892757  &  0.025298213  & -0.0908543721 & -0.049036374  &  0.05190918   &  0.0009983212 &  0.112258670  &  0.010493251  & ⋯             & -0.010627306  &  0.003830088  &  0.064042171  & -0.066634398  & -0.0527781992 & -0.150862954  & -0.009784660  &  0.0566812704 &  0.0191217593 &  0.073189987 \\\\\n",
       "\tExtremelyHighDebtRatio & -0.015986384  & -0.0189120585 &  0.055927046  & -0.016868488  &  0.9885247100 & -0.066601927  & -0.01926485   & -0.0006083545 &  0.043071465  & -0.001586871  & ⋯             &  0.022812757  &  0.169381558  &  0.071846156  & -0.146347086  & -0.0758538493 & -0.232081559  & -0.025573058  &  0.8521885882 &  0.0006270114 &  0.051642920 \\\\\n",
       "\tNoRevolvingUtilization & -0.041900282  & -0.1331756457 &  0.009395854  & -0.041733103  &  0.0189012170 & -0.007604422  & -0.10408312   & -0.0256052067 & -0.026516677  & -0.025634794  & ⋯             &  0.049128375  &  0.012104934  &  0.011085681  & -0.019219434  & -0.0088523723 & -0.037291874  &  0.294761655  &  0.0341324294 & -0.0566465529 & -0.009422409 \\\\\n",
       "\tHighRevolvingUtilization &  0.184205156  &  0.2324176406 & -0.084165225  &  0.166074690  & -0.0074504071 & -0.013419057  & -0.06120142   &  0.1697130619 & -0.045000489  &  0.167470555  & ⋯             & -0.167634853  & -0.003622401  & -0.002334897  & -0.023371639  & -0.0047708261 &  0.001444112  &  0.162704244  & -0.0044292019 & -0.1190330680 & -0.075741444 \\\\\n",
       "\tWeirdPastDue &  0.081400841  &  0.0413890636 & -0.051793477  & -0.014915463  & -0.0167999670 & -0.013185698  & -0.06956206   & -0.0078893274 & -0.038201592  & -0.008316398  & ⋯             & -0.084135774  &  0.005738887  &  0.035194877  & -0.015510421  & -0.0102781012 & -0.028408156  &  0.044680150  &  0.0008194769 & -0.0504756777 & -0.032293944 \\\\\n",
       "\tNeverPastDue & -0.314407321  & -0.1682086071 &  0.126948171  & -0.698516838  &  0.0245868267 &  0.004823008  & -0.01024945   & -0.3694707984 &  0.006650168  & -0.389471261  & ⋯             &  1.000000000  &  0.016270484  &  0.010804664  &  0.020139284  & -0.0078507219 & -0.040008795  & -0.229590904  &  0.0048927486 &  0.5999312208 &  0.383831304 \\\\\n",
       "\tNoIncome & -0.012448170  & -0.0017521900 & -0.037185829  & -0.011738915  &  0.1719563768 & -0.051692599  & -0.03305529   & -0.0062343371 & -0.031619017  & -0.006835848  & ⋯             &  0.016270484  &  1.000000000  & -0.009688404  & -0.040779309  & -0.0537858222 & -0.481512876  &  0.000327471  &  0.1783229163 & -0.0168549694 & -0.023770049 \\\\\n",
       "\tLowIncome & -0.011972880  &  0.0015874661 & -0.047243845  & -0.013250514  &  0.0734654738 & -0.041934482  & -0.03568950   & -0.0069410121 & -0.028661422  & -0.006213338  & ⋯             &  0.010804664  & -0.009688404  &  1.000000000  & -0.033801659  & -0.0432736653 & -0.508872243  &  0.007305397  &  0.0946544584 & -0.0219529020 & -0.022016113 \\\\\n",
       "\tHighIncome & -0.036520691  & -0.0262969629 &  0.051225050  & -0.001793437  & -0.1503678878 &  0.293203004  &  0.19349771   & -0.0389939121 &  0.260049822  & -0.025400424  & ⋯             &  0.020139284  & -0.040779309  & -0.033801659  &  1.000000000  &  0.2830320091 &  0.404243434  & -0.022616172  & -0.1756130686 &  0.1470070395 &  0.220323604 \\\\\n",
       "\tIncomeToAgeRatio & -0.004823540  & -0.0001380898 & -0.090029287  &  0.011984117  & -0.0782501571 &  0.978331610  &  0.08485815   & -0.0104059863 &  0.127473709  & -0.001590685  & ⋯             & -0.007850722  & -0.053785822  & -0.043273665  &  0.283032009  &  1.0000000000 &  0.321792773  &  0.015493766  & -0.1093424003 &  0.0558265095 &  0.104494791 \\\\\n",
       "\tLogIncomeToAgeRatio &  0.011770067  &  0.0097804047 & -0.188640968  &  0.044273793  & -0.2381365457 &  0.290421106  &  0.18614853   & -0.0033630191 &  0.248420869  &  0.008981373  & ⋯             & -0.040008795  & -0.481512876  & -0.508872243  &  0.404243434  &  0.3217927734 &  1.000000000  &  0.041834630  & -0.2814685499 &  0.1134279680 &  0.200650136 \\\\\n",
       "\tLogRevolvingUtilization &  0.187531498  &  0.3827353865 & -0.283026178  &  0.175024918  & -0.0312793433 & -0.012786430  & -0.11559181   &  0.1540214237 & -0.011109806  &  0.133299890  & ⋯             & -0.229590904  &  0.000327471  &  0.007305397  & -0.022616172  &  0.0154937664 &  0.041834630  &  1.000000000  &  0.0478210786 & -0.2019972375 & -0.072254213 \\\\\n",
       "\tLogDebtRatio &  0.002329471  &  0.0096816260 &  0.037729008  &  0.005319372  &  0.8694131622 & -0.102308193  &  0.04006401   & -0.0011755744 &  0.147520212  &  0.005599156  & ⋯             &  0.004892749  &  0.178322916  &  0.094654458  & -0.175613069  & -0.1093424003 & -0.281468550  &  0.047821079  &  1.0000000000 &  0.0286951946 &  0.129923666 \\\\\n",
       "\tNeverPastDueXNumberOfLines & -0.180397538  & -0.1405399868 &  0.160122460  & -0.419062059  &  0.0005356109 &  0.075283432  &  0.69581587   & -0.2216570671 &  0.298771346  & -0.233655969  & ⋯             &  0.599931221  & -0.016854969  & -0.021952902  &  0.147007040  &  0.0558265095 &  0.113427968  & -0.201997238  &  0.0286951946 &  1.0000000000 &  0.541554766 \\\\\n",
       "\tNeverPastDueXRealEstate & -0.105456870  & -0.0774445410 &  0.043368217  & -0.268112629  &  0.0530077377 &  0.111237797  &  0.33744268   & -0.1418144583 &  0.810026939  & -0.149491262  & ⋯             &  0.383831304  & -0.023770049  & -0.022016113  &  0.220323604  &  0.1044947907 &  0.200650136  & -0.072254213  &  0.1299236657 &  0.5415547664 &  1.000000000 \\\\\n",
       "\\end{tabular}\n"
      ],
      "text/markdown": [
       "\n",
       "| <!--/--> | SeriousDlqin2yrs | RevolvingUtilizationOfUnsecuredLines | age | NumberOfTime30.59DaysPastDueNotWorse | DebtRatio | MonthlyIncome | NumberOfOpenCreditLinesAndLoans | NumberOfTimes90DaysLate | NumberRealEstateLoansOrLines | NumberOfTime60.89DaysPastDueNotWorse | ⋯ | NeverPastDue | NoIncome | LowIncome | HighIncome | IncomeToAgeRatio | LogIncomeToAgeRatio | LogRevolvingUtilization | LogDebtRatio | NeverPastDueXNumberOfLines | NeverPastDueXRealEstate | \n",
       "|---|---|---|---|---|---|---|---|---|---|---|---|---|---|---|---|---|---|---|---|---|---|---|---|---|---|---|\n",
       "| SeriousDlqin2yrs |  1.000000000  |  0.1536287264 | -0.115391149  |  0.271410908  | -0.0175691038 | -0.017162337  | -0.02966857   |  0.3117129558 | -0.007038116  |  0.265593769  | ⋯             | -0.314407321  | -0.012448170  | -0.011972880  | -0.036520691  | -0.0048235398 |  0.011770067  |  0.187531498  |  0.0023294712 | -0.1803975377 | -0.105456870  | \n",
       "| RevolvingUtilizationOfUnsecuredLines |  0.153628726  |  1.0000000000 | -0.147127730  |  0.129458881  | -0.0204964222 | -0.015523378  | -0.08644203   |  0.1441559570 | -0.038052358  |  0.114520864  | ⋯             | -0.168208607  | -0.001752190  |  0.001587466  | -0.026296963  | -0.0001380898 |  0.009780405  |  0.382735387  |  0.0096816260 | -0.1405399868 | -0.077444541  | \n",
       "| age | -0.115391149  | -0.1471277299 |  1.000000000  | -0.070931781  |  0.0619634914 |  0.024166515  |  0.14770476   | -0.0818084778 |  0.033159398  | -0.069274190  | ⋯             |  0.126948171  | -0.037185829  | -0.047243845  |  0.051225050  | -0.0900292868 | -0.188640968  | -0.283026178  |  0.0377290080 |  0.1601224596 |  0.043368217  | \n",
       "| NumberOfTime30.59DaysPastDueNotWorse |  0.271410908  |  0.1294588809 | -0.070931781  |  1.000000000  | -0.0177315447 |  0.004712125  |  0.08090366   |  0.2182331705 |  0.043296268  |  0.305955814  | ⋯             | -0.698516838  | -0.011738915  | -0.013250514  | -0.001793437  |  0.0119841168 |  0.044273793  |  0.175024918  |  0.0053193716 | -0.4190620593 | -0.268112629  | \n",
       "| DebtRatio | -0.017569104  | -0.0204964222 |  0.061963491  | -0.017731545  |  1.0000000000 | -0.068525892  | -0.02014007   | -0.0021437835 |  0.044480103  | -0.002069983  | ⋯             |  0.024586827  |  0.171956377  |  0.073465474  | -0.150367888  | -0.0782501571 | -0.238136546  | -0.031279343  |  0.8694131622 |  0.0005356109 |  0.053007738  | \n",
       "| MonthlyIncome | -0.017162337  | -0.0155233776 |  0.024166515  |  0.004712125  | -0.0685258920 |  1.000000000  |  0.10460291   | -0.0183935317 |  0.133632860  | -0.009007432  | ⋯             |  0.004823008  | -0.051692599  | -0.041934482  |  0.293203004  |  0.9783316105 |  0.290421106  | -0.012786430  | -0.1023081932 |  0.0752834323 |  0.111237797  | \n",
       "| NumberOfOpenCreditLinesAndLoans | -0.029668568  | -0.0864420275 |  0.147704762  |  0.080903661  | -0.0201400702 |  0.104602908  |  1.00000000   | -0.0930895274 |  0.433958603  | -0.021273951  | ⋯             | -0.010249448  | -0.033055290  | -0.035689496  |  0.193497712  |  0.0848581486 |  0.186148529  | -0.115591808  |  0.0400640069 |  0.6958158736 |  0.337442682  | \n",
       "| NumberOfTimes90DaysLate |  0.311712956  |  0.1441559570 | -0.081808478  |  0.218233170  | -0.0021437835 | -0.018393532  | -0.09308953   |  1.0000000000 | -0.062123121  |  0.294684442  | ⋯             | -0.369470798  | -0.006234337  | -0.006941012  | -0.038993912  | -0.0104059863 | -0.003363019  |  0.154021424  | -0.0011755744 | -0.2216570671 | -0.141814458  | \n",
       "| NumberRealEstateLoansOrLines | -0.007038116  | -0.0380523580 |  0.033159398  |  0.043296268  |  0.0444801034 |  0.133632860  |  0.43395860   | -0.0621231208 |  1.000000000  | -0.020363025  | ⋯             |  0.006650168  | -0.031619017  | -0.028661422  |  0.260049822  |  0.1274737086 |  0.248420869  | -0.011109806  |  0.1475202117 |  0.2987713458 |  0.810026939  | \n",
       "| NumberOfTime60.89DaysPastDueNotWorse |  0.265593769  |  0.1145208642 | -0.069274190  |  0.305955814  | -0.0020699828 | -0.009007432  | -0.02127395   |  0.2946844423 | -0.020363025  |  1.000000000  | ⋯             | -0.389471261  | -0.006835848  | -0.006213338  | -0.025400424  | -0.0015906849 |  0.008981373  |  0.133299890  |  0.0055991558 | -0.2336559692 | -0.149491262  | \n",
       "| NumberOfDependents |  0.045621089  |  0.0452835160 | -0.208096995  |  0.063329442  | -0.1257044692 |  0.077973298  |  0.06450686   |  0.0305182662 |  0.123369628  |  0.036506604  | ⋯             | -0.069563109  | -0.005459897  | -0.004125300  |  0.146582523  |  0.1047516461 |  0.195557460  |  0.095122442  | -0.0940812572 |  0.0110358878 |  0.084852486  | \n",
       "| NoDebt |  0.010639246  |  0.0298463244 | -0.001936689  | -0.046029450  | -0.0765006588 | -0.030907841  | -0.20326593   |  0.0101509891 | -0.151332512  | -0.020194581  | ⋯             |  0.009809940  |  0.018902610  |  0.029496452  | -0.047879952  | -0.0325182210 | -0.089190818  |  0.113084511  |  0.0098330891 | -0.1397987135 | -0.127929843  | \n",
       "| VeryHighDebtRatio |  0.033498915  |  0.0128988592 |  0.022892757  |  0.025298213  | -0.0908543721 | -0.049036374  |  0.05190918   |  0.0009983212 |  0.112258670  |  0.010493251  | ⋯             | -0.010627306  |  0.003830088  |  0.064042171  | -0.066634398  | -0.0527781992 | -0.150862954  | -0.009784660  |  0.0566812704 |  0.0191217593 |  0.073189987  | \n",
       "| ExtremelyHighDebtRatio | -0.015986384  | -0.0189120585 |  0.055927046  | -0.016868488  |  0.9885247100 | -0.066601927  | -0.01926485   | -0.0006083545 |  0.043071465  | -0.001586871  | ⋯             |  0.022812757  |  0.169381558  |  0.071846156  | -0.146347086  | -0.0758538493 | -0.232081559  | -0.025573058  |  0.8521885882 |  0.0006270114 |  0.051642920  | \n",
       "| NoRevolvingUtilization | -0.041900282  | -0.1331756457 |  0.009395854  | -0.041733103  |  0.0189012170 | -0.007604422  | -0.10408312   | -0.0256052067 | -0.026516677  | -0.025634794  | ⋯             |  0.049128375  |  0.012104934  |  0.011085681  | -0.019219434  | -0.0088523723 | -0.037291874  |  0.294761655  |  0.0341324294 | -0.0566465529 | -0.009422409  | \n",
       "| HighRevolvingUtilization |  0.184205156  |  0.2324176406 | -0.084165225  |  0.166074690  | -0.0074504071 | -0.013419057  | -0.06120142   |  0.1697130619 | -0.045000489  |  0.167470555  | ⋯             | -0.167634853  | -0.003622401  | -0.002334897  | -0.023371639  | -0.0047708261 |  0.001444112  |  0.162704244  | -0.0044292019 | -0.1190330680 | -0.075741444  | \n",
       "| WeirdPastDue |  0.081400841  |  0.0413890636 | -0.051793477  | -0.014915463  | -0.0167999670 | -0.013185698  | -0.06956206   | -0.0078893274 | -0.038201592  | -0.008316398  | ⋯             | -0.084135774  |  0.005738887  |  0.035194877  | -0.015510421  | -0.0102781012 | -0.028408156  |  0.044680150  |  0.0008194769 | -0.0504756777 | -0.032293944  | \n",
       "| NeverPastDue | -0.314407321  | -0.1682086071 |  0.126948171  | -0.698516838  |  0.0245868267 |  0.004823008  | -0.01024945   | -0.3694707984 |  0.006650168  | -0.389471261  | ⋯             |  1.000000000  |  0.016270484  |  0.010804664  |  0.020139284  | -0.0078507219 | -0.040008795  | -0.229590904  |  0.0048927486 |  0.5999312208 |  0.383831304  | \n",
       "| NoIncome | -0.012448170  | -0.0017521900 | -0.037185829  | -0.011738915  |  0.1719563768 | -0.051692599  | -0.03305529   | -0.0062343371 | -0.031619017  | -0.006835848  | ⋯             |  0.016270484  |  1.000000000  | -0.009688404  | -0.040779309  | -0.0537858222 | -0.481512876  |  0.000327471  |  0.1783229163 | -0.0168549694 | -0.023770049  | \n",
       "| LowIncome | -0.011972880  |  0.0015874661 | -0.047243845  | -0.013250514  |  0.0734654738 | -0.041934482  | -0.03568950   | -0.0069410121 | -0.028661422  | -0.006213338  | ⋯             |  0.010804664  | -0.009688404  |  1.000000000  | -0.033801659  | -0.0432736653 | -0.508872243  |  0.007305397  |  0.0946544584 | -0.0219529020 | -0.022016113  | \n",
       "| HighIncome | -0.036520691  | -0.0262969629 |  0.051225050  | -0.001793437  | -0.1503678878 |  0.293203004  |  0.19349771   | -0.0389939121 |  0.260049822  | -0.025400424  | ⋯             |  0.020139284  | -0.040779309  | -0.033801659  |  1.000000000  |  0.2830320091 |  0.404243434  | -0.022616172  | -0.1756130686 |  0.1470070395 |  0.220323604  | \n",
       "| IncomeToAgeRatio | -0.004823540  | -0.0001380898 | -0.090029287  |  0.011984117  | -0.0782501571 |  0.978331610  |  0.08485815   | -0.0104059863 |  0.127473709  | -0.001590685  | ⋯             | -0.007850722  | -0.053785822  | -0.043273665  |  0.283032009  |  1.0000000000 |  0.321792773  |  0.015493766  | -0.1093424003 |  0.0558265095 |  0.104494791  | \n",
       "| LogIncomeToAgeRatio |  0.011770067  |  0.0097804047 | -0.188640968  |  0.044273793  | -0.2381365457 |  0.290421106  |  0.18614853   | -0.0033630191 |  0.248420869  |  0.008981373  | ⋯             | -0.040008795  | -0.481512876  | -0.508872243  |  0.404243434  |  0.3217927734 |  1.000000000  |  0.041834630  | -0.2814685499 |  0.1134279680 |  0.200650136  | \n",
       "| LogRevolvingUtilization |  0.187531498  |  0.3827353865 | -0.283026178  |  0.175024918  | -0.0312793433 | -0.012786430  | -0.11559181   |  0.1540214237 | -0.011109806  |  0.133299890  | ⋯             | -0.229590904  |  0.000327471  |  0.007305397  | -0.022616172  |  0.0154937664 |  0.041834630  |  1.000000000  |  0.0478210786 | -0.2019972375 | -0.072254213  | \n",
       "| LogDebtRatio |  0.002329471  |  0.0096816260 |  0.037729008  |  0.005319372  |  0.8694131622 | -0.102308193  |  0.04006401   | -0.0011755744 |  0.147520212  |  0.005599156  | ⋯             |  0.004892749  |  0.178322916  |  0.094654458  | -0.175613069  | -0.1093424003 | -0.281468550  |  0.047821079  |  1.0000000000 |  0.0286951946 |  0.129923666  | \n",
       "| NeverPastDueXNumberOfLines | -0.180397538  | -0.1405399868 |  0.160122460  | -0.419062059  |  0.0005356109 |  0.075283432  |  0.69581587   | -0.2216570671 |  0.298771346  | -0.233655969  | ⋯             |  0.599931221  | -0.016854969  | -0.021952902  |  0.147007040  |  0.0558265095 |  0.113427968  | -0.201997238  |  0.0286951946 |  1.0000000000 |  0.541554766  | \n",
       "| NeverPastDueXRealEstate | -0.105456870  | -0.0774445410 |  0.043368217  | -0.268112629  |  0.0530077377 |  0.111237797  |  0.33744268   | -0.1418144583 |  0.810026939  | -0.149491262  | ⋯             |  0.383831304  | -0.023770049  | -0.022016113  |  0.220323604  |  0.1044947907 |  0.200650136  | -0.072254213  |  0.1299236657 |  0.5415547664 |  1.000000000  | \n",
       "\n",
       "\n"
      ],
      "text/plain": [
       "                                     SeriousDlqin2yrs\n",
       "SeriousDlqin2yrs                      1.000000000    \n",
       "RevolvingUtilizationOfUnsecuredLines  0.153628726    \n",
       "age                                  -0.115391149    \n",
       "NumberOfTime30.59DaysPastDueNotWorse  0.271410908    \n",
       "DebtRatio                            -0.017569104    \n",
       "MonthlyIncome                        -0.017162337    \n",
       "NumberOfOpenCreditLinesAndLoans      -0.029668568    \n",
       "NumberOfTimes90DaysLate               0.311712956    \n",
       "NumberRealEstateLoansOrLines         -0.007038116    \n",
       "NumberOfTime60.89DaysPastDueNotWorse  0.265593769    \n",
       "NumberOfDependents                    0.045621089    \n",
       "NoDebt                                0.010639246    \n",
       "VeryHighDebtRatio                     0.033498915    \n",
       "ExtremelyHighDebtRatio               -0.015986384    \n",
       "NoRevolvingUtilization               -0.041900282    \n",
       "HighRevolvingUtilization              0.184205156    \n",
       "WeirdPastDue                          0.081400841    \n",
       "NeverPastDue                         -0.314407321    \n",
       "NoIncome                             -0.012448170    \n",
       "LowIncome                            -0.011972880    \n",
       "HighIncome                           -0.036520691    \n",
       "IncomeToAgeRatio                     -0.004823540    \n",
       "LogIncomeToAgeRatio                   0.011770067    \n",
       "LogRevolvingUtilization               0.187531498    \n",
       "LogDebtRatio                          0.002329471    \n",
       "NeverPastDueXNumberOfLines           -0.180397538    \n",
       "NeverPastDueXRealEstate              -0.105456870    \n",
       "                                     RevolvingUtilizationOfUnsecuredLines\n",
       "SeriousDlqin2yrs                      0.1536287264                       \n",
       "RevolvingUtilizationOfUnsecuredLines  1.0000000000                       \n",
       "age                                  -0.1471277299                       \n",
       "NumberOfTime30.59DaysPastDueNotWorse  0.1294588809                       \n",
       "DebtRatio                            -0.0204964222                       \n",
       "MonthlyIncome                        -0.0155233776                       \n",
       "NumberOfOpenCreditLinesAndLoans      -0.0864420275                       \n",
       "NumberOfTimes90DaysLate               0.1441559570                       \n",
       "NumberRealEstateLoansOrLines         -0.0380523580                       \n",
       "NumberOfTime60.89DaysPastDueNotWorse  0.1145208642                       \n",
       "NumberOfDependents                    0.0452835160                       \n",
       "NoDebt                                0.0298463244                       \n",
       "VeryHighDebtRatio                     0.0128988592                       \n",
       "ExtremelyHighDebtRatio               -0.0189120585                       \n",
       "NoRevolvingUtilization               -0.1331756457                       \n",
       "HighRevolvingUtilization              0.2324176406                       \n",
       "WeirdPastDue                          0.0413890636                       \n",
       "NeverPastDue                         -0.1682086071                       \n",
       "NoIncome                             -0.0017521900                       \n",
       "LowIncome                             0.0015874661                       \n",
       "HighIncome                           -0.0262969629                       \n",
       "IncomeToAgeRatio                     -0.0001380898                       \n",
       "LogIncomeToAgeRatio                   0.0097804047                       \n",
       "LogRevolvingUtilization               0.3827353865                       \n",
       "LogDebtRatio                          0.0096816260                       \n",
       "NeverPastDueXNumberOfLines           -0.1405399868                       \n",
       "NeverPastDueXRealEstate              -0.0774445410                       \n",
       "                                     age         \n",
       "SeriousDlqin2yrs                     -0.115391149\n",
       "RevolvingUtilizationOfUnsecuredLines -0.147127730\n",
       "age                                   1.000000000\n",
       "NumberOfTime30.59DaysPastDueNotWorse -0.070931781\n",
       "DebtRatio                             0.061963491\n",
       "MonthlyIncome                         0.024166515\n",
       "NumberOfOpenCreditLinesAndLoans       0.147704762\n",
       "NumberOfTimes90DaysLate              -0.081808478\n",
       "NumberRealEstateLoansOrLines          0.033159398\n",
       "NumberOfTime60.89DaysPastDueNotWorse -0.069274190\n",
       "NumberOfDependents                   -0.208096995\n",
       "NoDebt                               -0.001936689\n",
       "VeryHighDebtRatio                     0.022892757\n",
       "ExtremelyHighDebtRatio                0.055927046\n",
       "NoRevolvingUtilization                0.009395854\n",
       "HighRevolvingUtilization             -0.084165225\n",
       "WeirdPastDue                         -0.051793477\n",
       "NeverPastDue                          0.126948171\n",
       "NoIncome                             -0.037185829\n",
       "LowIncome                            -0.047243845\n",
       "HighIncome                            0.051225050\n",
       "IncomeToAgeRatio                     -0.090029287\n",
       "LogIncomeToAgeRatio                  -0.188640968\n",
       "LogRevolvingUtilization              -0.283026178\n",
       "LogDebtRatio                          0.037729008\n",
       "NeverPastDueXNumberOfLines            0.160122460\n",
       "NeverPastDueXRealEstate               0.043368217\n",
       "                                     NumberOfTime30.59DaysPastDueNotWorse\n",
       "SeriousDlqin2yrs                      0.271410908                        \n",
       "RevolvingUtilizationOfUnsecuredLines  0.129458881                        \n",
       "age                                  -0.070931781                        \n",
       "NumberOfTime30.59DaysPastDueNotWorse  1.000000000                        \n",
       "DebtRatio                            -0.017731545                        \n",
       "MonthlyIncome                         0.004712125                        \n",
       "NumberOfOpenCreditLinesAndLoans       0.080903661                        \n",
       "NumberOfTimes90DaysLate               0.218233170                        \n",
       "NumberRealEstateLoansOrLines          0.043296268                        \n",
       "NumberOfTime60.89DaysPastDueNotWorse  0.305955814                        \n",
       "NumberOfDependents                    0.063329442                        \n",
       "NoDebt                               -0.046029450                        \n",
       "VeryHighDebtRatio                     0.025298213                        \n",
       "ExtremelyHighDebtRatio               -0.016868488                        \n",
       "NoRevolvingUtilization               -0.041733103                        \n",
       "HighRevolvingUtilization              0.166074690                        \n",
       "WeirdPastDue                         -0.014915463                        \n",
       "NeverPastDue                         -0.698516838                        \n",
       "NoIncome                             -0.011738915                        \n",
       "LowIncome                            -0.013250514                        \n",
       "HighIncome                           -0.001793437                        \n",
       "IncomeToAgeRatio                      0.011984117                        \n",
       "LogIncomeToAgeRatio                   0.044273793                        \n",
       "LogRevolvingUtilization               0.175024918                        \n",
       "LogDebtRatio                          0.005319372                        \n",
       "NeverPastDueXNumberOfLines           -0.419062059                        \n",
       "NeverPastDueXRealEstate              -0.268112629                        \n",
       "                                     DebtRatio     MonthlyIncome\n",
       "SeriousDlqin2yrs                     -0.0175691038 -0.017162337 \n",
       "RevolvingUtilizationOfUnsecuredLines -0.0204964222 -0.015523378 \n",
       "age                                   0.0619634914  0.024166515 \n",
       "NumberOfTime30.59DaysPastDueNotWorse -0.0177315447  0.004712125 \n",
       "DebtRatio                             1.0000000000 -0.068525892 \n",
       "MonthlyIncome                        -0.0685258920  1.000000000 \n",
       "NumberOfOpenCreditLinesAndLoans      -0.0201400702  0.104602908 \n",
       "NumberOfTimes90DaysLate              -0.0021437835 -0.018393532 \n",
       "NumberRealEstateLoansOrLines          0.0444801034  0.133632860 \n",
       "NumberOfTime60.89DaysPastDueNotWorse -0.0020699828 -0.009007432 \n",
       "NumberOfDependents                   -0.1257044692  0.077973298 \n",
       "NoDebt                               -0.0765006588 -0.030907841 \n",
       "VeryHighDebtRatio                    -0.0908543721 -0.049036374 \n",
       "ExtremelyHighDebtRatio                0.9885247100 -0.066601927 \n",
       "NoRevolvingUtilization                0.0189012170 -0.007604422 \n",
       "HighRevolvingUtilization             -0.0074504071 -0.013419057 \n",
       "WeirdPastDue                         -0.0167999670 -0.013185698 \n",
       "NeverPastDue                          0.0245868267  0.004823008 \n",
       "NoIncome                              0.1719563768 -0.051692599 \n",
       "LowIncome                             0.0734654738 -0.041934482 \n",
       "HighIncome                           -0.1503678878  0.293203004 \n",
       "IncomeToAgeRatio                     -0.0782501571  0.978331610 \n",
       "LogIncomeToAgeRatio                  -0.2381365457  0.290421106 \n",
       "LogRevolvingUtilization              -0.0312793433 -0.012786430 \n",
       "LogDebtRatio                          0.8694131622 -0.102308193 \n",
       "NeverPastDueXNumberOfLines            0.0005356109  0.075283432 \n",
       "NeverPastDueXRealEstate               0.0530077377  0.111237797 \n",
       "                                     NumberOfOpenCreditLinesAndLoans\n",
       "SeriousDlqin2yrs                     -0.02966857                    \n",
       "RevolvingUtilizationOfUnsecuredLines -0.08644203                    \n",
       "age                                   0.14770476                    \n",
       "NumberOfTime30.59DaysPastDueNotWorse  0.08090366                    \n",
       "DebtRatio                            -0.02014007                    \n",
       "MonthlyIncome                         0.10460291                    \n",
       "NumberOfOpenCreditLinesAndLoans       1.00000000                    \n",
       "NumberOfTimes90DaysLate              -0.09308953                    \n",
       "NumberRealEstateLoansOrLines          0.43395860                    \n",
       "NumberOfTime60.89DaysPastDueNotWorse -0.02127395                    \n",
       "NumberOfDependents                    0.06450686                    \n",
       "NoDebt                               -0.20326593                    \n",
       "VeryHighDebtRatio                     0.05190918                    \n",
       "ExtremelyHighDebtRatio               -0.01926485                    \n",
       "NoRevolvingUtilization               -0.10408312                    \n",
       "HighRevolvingUtilization             -0.06120142                    \n",
       "WeirdPastDue                         -0.06956206                    \n",
       "NeverPastDue                         -0.01024945                    \n",
       "NoIncome                             -0.03305529                    \n",
       "LowIncome                            -0.03568950                    \n",
       "HighIncome                            0.19349771                    \n",
       "IncomeToAgeRatio                      0.08485815                    \n",
       "LogIncomeToAgeRatio                   0.18614853                    \n",
       "LogRevolvingUtilization              -0.11559181                    \n",
       "LogDebtRatio                          0.04006401                    \n",
       "NeverPastDueXNumberOfLines            0.69581587                    \n",
       "NeverPastDueXRealEstate               0.33744268                    \n",
       "                                     NumberOfTimes90DaysLate\n",
       "SeriousDlqin2yrs                      0.3117129558          \n",
       "RevolvingUtilizationOfUnsecuredLines  0.1441559570          \n",
       "age                                  -0.0818084778          \n",
       "NumberOfTime30.59DaysPastDueNotWorse  0.2182331705          \n",
       "DebtRatio                            -0.0021437835          \n",
       "MonthlyIncome                        -0.0183935317          \n",
       "NumberOfOpenCreditLinesAndLoans      -0.0930895274          \n",
       "NumberOfTimes90DaysLate               1.0000000000          \n",
       "NumberRealEstateLoansOrLines         -0.0621231208          \n",
       "NumberOfTime60.89DaysPastDueNotWorse  0.2946844423          \n",
       "NumberOfDependents                    0.0305182662          \n",
       "NoDebt                                0.0101509891          \n",
       "VeryHighDebtRatio                     0.0009983212          \n",
       "ExtremelyHighDebtRatio               -0.0006083545          \n",
       "NoRevolvingUtilization               -0.0256052067          \n",
       "HighRevolvingUtilization              0.1697130619          \n",
       "WeirdPastDue                         -0.0078893274          \n",
       "NeverPastDue                         -0.3694707984          \n",
       "NoIncome                             -0.0062343371          \n",
       "LowIncome                            -0.0069410121          \n",
       "HighIncome                           -0.0389939121          \n",
       "IncomeToAgeRatio                     -0.0104059863          \n",
       "LogIncomeToAgeRatio                  -0.0033630191          \n",
       "LogRevolvingUtilization               0.1540214237          \n",
       "LogDebtRatio                         -0.0011755744          \n",
       "NeverPastDueXNumberOfLines           -0.2216570671          \n",
       "NeverPastDueXRealEstate              -0.1418144583          \n",
       "                                     NumberRealEstateLoansOrLines\n",
       "SeriousDlqin2yrs                     -0.007038116                \n",
       "RevolvingUtilizationOfUnsecuredLines -0.038052358                \n",
       "age                                   0.033159398                \n",
       "NumberOfTime30.59DaysPastDueNotWorse  0.043296268                \n",
       "DebtRatio                             0.044480103                \n",
       "MonthlyIncome                         0.133632860                \n",
       "NumberOfOpenCreditLinesAndLoans       0.433958603                \n",
       "NumberOfTimes90DaysLate              -0.062123121                \n",
       "NumberRealEstateLoansOrLines          1.000000000                \n",
       "NumberOfTime60.89DaysPastDueNotWorse -0.020363025                \n",
       "NumberOfDependents                    0.123369628                \n",
       "NoDebt                               -0.151332512                \n",
       "VeryHighDebtRatio                     0.112258670                \n",
       "ExtremelyHighDebtRatio                0.043071465                \n",
       "NoRevolvingUtilization               -0.026516677                \n",
       "HighRevolvingUtilization             -0.045000489                \n",
       "WeirdPastDue                         -0.038201592                \n",
       "NeverPastDue                          0.006650168                \n",
       "NoIncome                             -0.031619017                \n",
       "LowIncome                            -0.028661422                \n",
       "HighIncome                            0.260049822                \n",
       "IncomeToAgeRatio                      0.127473709                \n",
       "LogIncomeToAgeRatio                   0.248420869                \n",
       "LogRevolvingUtilization              -0.011109806                \n",
       "LogDebtRatio                          0.147520212                \n",
       "NeverPastDueXNumberOfLines            0.298771346                \n",
       "NeverPastDueXRealEstate               0.810026939                \n",
       "                                     NumberOfTime60.89DaysPastDueNotWorse ⋯\n",
       "SeriousDlqin2yrs                      0.265593769                         ⋯\n",
       "RevolvingUtilizationOfUnsecuredLines  0.114520864                         ⋯\n",
       "age                                  -0.069274190                         ⋯\n",
       "NumberOfTime30.59DaysPastDueNotWorse  0.305955814                         ⋯\n",
       "DebtRatio                            -0.002069983                         ⋯\n",
       "MonthlyIncome                        -0.009007432                         ⋯\n",
       "NumberOfOpenCreditLinesAndLoans      -0.021273951                         ⋯\n",
       "NumberOfTimes90DaysLate               0.294684442                         ⋯\n",
       "NumberRealEstateLoansOrLines         -0.020363025                         ⋯\n",
       "NumberOfTime60.89DaysPastDueNotWorse  1.000000000                         ⋯\n",
       "NumberOfDependents                    0.036506604                         ⋯\n",
       "NoDebt                               -0.020194581                         ⋯\n",
       "VeryHighDebtRatio                     0.010493251                         ⋯\n",
       "ExtremelyHighDebtRatio               -0.001586871                         ⋯\n",
       "NoRevolvingUtilization               -0.025634794                         ⋯\n",
       "HighRevolvingUtilization              0.167470555                         ⋯\n",
       "WeirdPastDue                         -0.008316398                         ⋯\n",
       "NeverPastDue                         -0.389471261                         ⋯\n",
       "NoIncome                             -0.006835848                         ⋯\n",
       "LowIncome                            -0.006213338                         ⋯\n",
       "HighIncome                           -0.025400424                         ⋯\n",
       "IncomeToAgeRatio                     -0.001590685                         ⋯\n",
       "LogIncomeToAgeRatio                   0.008981373                         ⋯\n",
       "LogRevolvingUtilization               0.133299890                         ⋯\n",
       "LogDebtRatio                          0.005599156                         ⋯\n",
       "NeverPastDueXNumberOfLines           -0.233655969                         ⋯\n",
       "NeverPastDueXRealEstate              -0.149491262                         ⋯\n",
       "                                     NeverPastDue NoIncome     LowIncome   \n",
       "SeriousDlqin2yrs                     -0.314407321 -0.012448170 -0.011972880\n",
       "RevolvingUtilizationOfUnsecuredLines -0.168208607 -0.001752190  0.001587466\n",
       "age                                   0.126948171 -0.037185829 -0.047243845\n",
       "NumberOfTime30.59DaysPastDueNotWorse -0.698516838 -0.011738915 -0.013250514\n",
       "DebtRatio                             0.024586827  0.171956377  0.073465474\n",
       "MonthlyIncome                         0.004823008 -0.051692599 -0.041934482\n",
       "NumberOfOpenCreditLinesAndLoans      -0.010249448 -0.033055290 -0.035689496\n",
       "NumberOfTimes90DaysLate              -0.369470798 -0.006234337 -0.006941012\n",
       "NumberRealEstateLoansOrLines          0.006650168 -0.031619017 -0.028661422\n",
       "NumberOfTime60.89DaysPastDueNotWorse -0.389471261 -0.006835848 -0.006213338\n",
       "NumberOfDependents                   -0.069563109 -0.005459897 -0.004125300\n",
       "NoDebt                                0.009809940  0.018902610  0.029496452\n",
       "VeryHighDebtRatio                    -0.010627306  0.003830088  0.064042171\n",
       "ExtremelyHighDebtRatio                0.022812757  0.169381558  0.071846156\n",
       "NoRevolvingUtilization                0.049128375  0.012104934  0.011085681\n",
       "HighRevolvingUtilization             -0.167634853 -0.003622401 -0.002334897\n",
       "WeirdPastDue                         -0.084135774  0.005738887  0.035194877\n",
       "NeverPastDue                          1.000000000  0.016270484  0.010804664\n",
       "NoIncome                              0.016270484  1.000000000 -0.009688404\n",
       "LowIncome                             0.010804664 -0.009688404  1.000000000\n",
       "HighIncome                            0.020139284 -0.040779309 -0.033801659\n",
       "IncomeToAgeRatio                     -0.007850722 -0.053785822 -0.043273665\n",
       "LogIncomeToAgeRatio                  -0.040008795 -0.481512876 -0.508872243\n",
       "LogRevolvingUtilization              -0.229590904  0.000327471  0.007305397\n",
       "LogDebtRatio                          0.004892749  0.178322916  0.094654458\n",
       "NeverPastDueXNumberOfLines            0.599931221 -0.016854969 -0.021952902\n",
       "NeverPastDueXRealEstate               0.383831304 -0.023770049 -0.022016113\n",
       "                                     HighIncome   IncomeToAgeRatio\n",
       "SeriousDlqin2yrs                     -0.036520691 -0.0048235398   \n",
       "RevolvingUtilizationOfUnsecuredLines -0.026296963 -0.0001380898   \n",
       "age                                   0.051225050 -0.0900292868   \n",
       "NumberOfTime30.59DaysPastDueNotWorse -0.001793437  0.0119841168   \n",
       "DebtRatio                            -0.150367888 -0.0782501571   \n",
       "MonthlyIncome                         0.293203004  0.9783316105   \n",
       "NumberOfOpenCreditLinesAndLoans       0.193497712  0.0848581486   \n",
       "NumberOfTimes90DaysLate              -0.038993912 -0.0104059863   \n",
       "NumberRealEstateLoansOrLines          0.260049822  0.1274737086   \n",
       "NumberOfTime60.89DaysPastDueNotWorse -0.025400424 -0.0015906849   \n",
       "NumberOfDependents                    0.146582523  0.1047516461   \n",
       "NoDebt                               -0.047879952 -0.0325182210   \n",
       "VeryHighDebtRatio                    -0.066634398 -0.0527781992   \n",
       "ExtremelyHighDebtRatio               -0.146347086 -0.0758538493   \n",
       "NoRevolvingUtilization               -0.019219434 -0.0088523723   \n",
       "HighRevolvingUtilization             -0.023371639 -0.0047708261   \n",
       "WeirdPastDue                         -0.015510421 -0.0102781012   \n",
       "NeverPastDue                          0.020139284 -0.0078507219   \n",
       "NoIncome                             -0.040779309 -0.0537858222   \n",
       "LowIncome                            -0.033801659 -0.0432736653   \n",
       "HighIncome                            1.000000000  0.2830320091   \n",
       "IncomeToAgeRatio                      0.283032009  1.0000000000   \n",
       "LogIncomeToAgeRatio                   0.404243434  0.3217927734   \n",
       "LogRevolvingUtilization              -0.022616172  0.0154937664   \n",
       "LogDebtRatio                         -0.175613069 -0.1093424003   \n",
       "NeverPastDueXNumberOfLines            0.147007040  0.0558265095   \n",
       "NeverPastDueXRealEstate               0.220323604  0.1044947907   \n",
       "                                     LogIncomeToAgeRatio\n",
       "SeriousDlqin2yrs                      0.011770067       \n",
       "RevolvingUtilizationOfUnsecuredLines  0.009780405       \n",
       "age                                  -0.188640968       \n",
       "NumberOfTime30.59DaysPastDueNotWorse  0.044273793       \n",
       "DebtRatio                            -0.238136546       \n",
       "MonthlyIncome                         0.290421106       \n",
       "NumberOfOpenCreditLinesAndLoans       0.186148529       \n",
       "NumberOfTimes90DaysLate              -0.003363019       \n",
       "NumberRealEstateLoansOrLines          0.248420869       \n",
       "NumberOfTime60.89DaysPastDueNotWorse  0.008981373       \n",
       "NumberOfDependents                    0.195557460       \n",
       "NoDebt                               -0.089190818       \n",
       "VeryHighDebtRatio                    -0.150862954       \n",
       "ExtremelyHighDebtRatio               -0.232081559       \n",
       "NoRevolvingUtilization               -0.037291874       \n",
       "HighRevolvingUtilization              0.001444112       \n",
       "WeirdPastDue                         -0.028408156       \n",
       "NeverPastDue                         -0.040008795       \n",
       "NoIncome                             -0.481512876       \n",
       "LowIncome                            -0.508872243       \n",
       "HighIncome                            0.404243434       \n",
       "IncomeToAgeRatio                      0.321792773       \n",
       "LogIncomeToAgeRatio                   1.000000000       \n",
       "LogRevolvingUtilization               0.041834630       \n",
       "LogDebtRatio                         -0.281468550       \n",
       "NeverPastDueXNumberOfLines            0.113427968       \n",
       "NeverPastDueXRealEstate               0.200650136       \n",
       "                                     LogRevolvingUtilization LogDebtRatio \n",
       "SeriousDlqin2yrs                      0.187531498             0.0023294712\n",
       "RevolvingUtilizationOfUnsecuredLines  0.382735387             0.0096816260\n",
       "age                                  -0.283026178             0.0377290080\n",
       "NumberOfTime30.59DaysPastDueNotWorse  0.175024918             0.0053193716\n",
       "DebtRatio                            -0.031279343             0.8694131622\n",
       "MonthlyIncome                        -0.012786430            -0.1023081932\n",
       "NumberOfOpenCreditLinesAndLoans      -0.115591808             0.0400640069\n",
       "NumberOfTimes90DaysLate               0.154021424            -0.0011755744\n",
       "NumberRealEstateLoansOrLines         -0.011109806             0.1475202117\n",
       "NumberOfTime60.89DaysPastDueNotWorse  0.133299890             0.0055991558\n",
       "NumberOfDependents                    0.095122442            -0.0940812572\n",
       "NoDebt                                0.113084511             0.0098330891\n",
       "VeryHighDebtRatio                    -0.009784660             0.0566812704\n",
       "ExtremelyHighDebtRatio               -0.025573058             0.8521885882\n",
       "NoRevolvingUtilization                0.294761655             0.0341324294\n",
       "HighRevolvingUtilization              0.162704244            -0.0044292019\n",
       "WeirdPastDue                          0.044680150             0.0008194769\n",
       "NeverPastDue                         -0.229590904             0.0048927486\n",
       "NoIncome                              0.000327471             0.1783229163\n",
       "LowIncome                             0.007305397             0.0946544584\n",
       "HighIncome                           -0.022616172            -0.1756130686\n",
       "IncomeToAgeRatio                      0.015493766            -0.1093424003\n",
       "LogIncomeToAgeRatio                   0.041834630            -0.2814685499\n",
       "LogRevolvingUtilization               1.000000000             0.0478210786\n",
       "LogDebtRatio                          0.047821079             1.0000000000\n",
       "NeverPastDueXNumberOfLines           -0.201997238             0.0286951946\n",
       "NeverPastDueXRealEstate              -0.072254213             0.1299236657\n",
       "                                     NeverPastDueXNumberOfLines\n",
       "SeriousDlqin2yrs                     -0.1803975377             \n",
       "RevolvingUtilizationOfUnsecuredLines -0.1405399868             \n",
       "age                                   0.1601224596             \n",
       "NumberOfTime30.59DaysPastDueNotWorse -0.4190620593             \n",
       "DebtRatio                             0.0005356109             \n",
       "MonthlyIncome                         0.0752834323             \n",
       "NumberOfOpenCreditLinesAndLoans       0.6958158736             \n",
       "NumberOfTimes90DaysLate              -0.2216570671             \n",
       "NumberRealEstateLoansOrLines          0.2987713458             \n",
       "NumberOfTime60.89DaysPastDueNotWorse -0.2336559692             \n",
       "NumberOfDependents                    0.0110358878             \n",
       "NoDebt                               -0.1397987135             \n",
       "VeryHighDebtRatio                     0.0191217593             \n",
       "ExtremelyHighDebtRatio                0.0006270114             \n",
       "NoRevolvingUtilization               -0.0566465529             \n",
       "HighRevolvingUtilization             -0.1190330680             \n",
       "WeirdPastDue                         -0.0504756777             \n",
       "NeverPastDue                          0.5999312208             \n",
       "NoIncome                             -0.0168549694             \n",
       "LowIncome                            -0.0219529020             \n",
       "HighIncome                            0.1470070395             \n",
       "IncomeToAgeRatio                      0.0558265095             \n",
       "LogIncomeToAgeRatio                   0.1134279680             \n",
       "LogRevolvingUtilization              -0.2019972375             \n",
       "LogDebtRatio                          0.0286951946             \n",
       "NeverPastDueXNumberOfLines            1.0000000000             \n",
       "NeverPastDueXRealEstate               0.5415547664             \n",
       "                                     NeverPastDueXRealEstate\n",
       "SeriousDlqin2yrs                     -0.105456870           \n",
       "RevolvingUtilizationOfUnsecuredLines -0.077444541           \n",
       "age                                   0.043368217           \n",
       "NumberOfTime30.59DaysPastDueNotWorse -0.268112629           \n",
       "DebtRatio                             0.053007738           \n",
       "MonthlyIncome                         0.111237797           \n",
       "NumberOfOpenCreditLinesAndLoans       0.337442682           \n",
       "NumberOfTimes90DaysLate              -0.141814458           \n",
       "NumberRealEstateLoansOrLines          0.810026939           \n",
       "NumberOfTime60.89DaysPastDueNotWorse -0.149491262           \n",
       "NumberOfDependents                    0.084852486           \n",
       "NoDebt                               -0.127929843           \n",
       "VeryHighDebtRatio                     0.073189987           \n",
       "ExtremelyHighDebtRatio                0.051642920           \n",
       "NoRevolvingUtilization               -0.009422409           \n",
       "HighRevolvingUtilization             -0.075741444           \n",
       "WeirdPastDue                         -0.032293944           \n",
       "NeverPastDue                          0.383831304           \n",
       "NoIncome                             -0.023770049           \n",
       "LowIncome                            -0.022016113           \n",
       "HighIncome                            0.220323604           \n",
       "IncomeToAgeRatio                      0.104494791           \n",
       "LogIncomeToAgeRatio                   0.200650136           \n",
       "LogRevolvingUtilization              -0.072254213           \n",
       "LogDebtRatio                          0.129923666           \n",
       "NeverPastDueXNumberOfLines            0.541554766           \n",
       "NeverPastDueXRealEstate               1.000000000           "
      ]
     },
     "metadata": {},
     "output_type": "display_data"
    }
   ],
   "source": [
    "cor ( df.test )"
   ]
  },
  {
   "cell_type": "markdown",
   "metadata": {},
   "source": [
    "## More Feature Engineering"
   ]
  },
  {
   "cell_type": "markdown",
   "metadata": {},
   "source": [
    "Now that we've imputed number of dependents and monthly income, we can engineer some more features that are based on these variables."
   ]
  },
  {
   "cell_type": "code",
   "execution_count": 230,
   "metadata": {},
   "outputs": [],
   "source": [
    "ExpandFeatureSpace <- function(df) {\n",
    "    df$NoIncome <- as.numeric ( df$MonthlyIncome == 0 )\n",
    "    df$LowIncome <- as.numeric ( df$MonthlyIncome > 0 & df$MonthlyIncome < 500 )\n",
    "    df$HighIncome <- as.numeric ( df$MonthlyIncome > 10000 )\n",
    "    \n",
    "    df$IncomeToAgeRatio <- df$MonthlyIncome / df$age\n",
    "    df$LogIncomeToAgeRatio <- log ( df$MonthlyIncome / df$age )\n",
    "    df[df$IncomeToAgeRatio == 0,]$LogIncomeToAgeRatio <- 0\n",
    "\n",
    "    df$LogRevolvingUtilization <- log (df$RevolvingUtilizationOfUnsecuredLines)\n",
    "    df[df$RevolvingUtilizationOfUnsecuredLines==0,]$LogRevolvingUtilization <- 0\n",
    "\n",
    "    df$LogDebtRatio <- log (df$DebtRatio)\n",
    "    df[df$DebtRatio == 0,]$LogDebtRatio <- 0\n",
    "    \n",
    "    df$NeverPastDueXNumberOfLines <- df$NumberOfOpenCreditLinesAndLoans * df$NeverPastDue\n",
    "    df$NeverPastDueXRealEstate    <- df$NumberRealEstateLoansOrLines * df$NeverPastDue\n",
    "    \n",
    "    #df$IncomePercentileForAge <- read.csv(\"incPercentiles.csv\")[,1]\n",
    "    return ( df )\n",
    "}"
   ]
  },
  {
   "cell_type": "markdown",
   "metadata": {},
   "source": [
    "We can even try and engineer features out of information we don't even have. One attempt involved grabbing age and income data from the US census and creating a percentile table. We then made a new column called 'IncomePercentileForAge', which returns how much income an individual is making relative to their age group."
   ]
  },
  {
   "cell_type": "code",
   "execution_count": 324,
   "metadata": {},
   "outputs": [],
   "source": [
    "inc <- read.csv(\"inc_percentiles.csv\")\n",
    "get_income_percentile <- function(age, monthly_income) {\n",
    "    if (age > 75 ) {\n",
    "        age <- 75\n",
    "    }\n",
    "    \n",
    "    percentile <- ecdf ( inc[inc$AGE == age,]$INC )\n",
    "    yearly_income <- monthly_income * 12\n",
    "    return ( percentile(yearly_income) )\n",
    "}\n",
    "\n",
    "IncomePercentileForAge <- c()\n",
    "for (i in 1:150000) {\n",
    "    IncomePercentileForAge[i] <- get_income_percentile( df$age[i], df$MonthlyIncome[i] )\n",
    "}\n",
    "\n",
    "df$IncomePercentileForAge <- IncomePercentileForAge"
   ]
  },
  {
   "cell_type": "code",
   "execution_count": 8,
   "metadata": {},
   "outputs": [],
   "source": [
    "df$IncomePercentileForAge <- read.csv(\"incPercentiles.csv\")"
   ]
  },
  {
   "cell_type": "markdown",
   "metadata": {},
   "source": [
    "## Final Cleaning Routine "
   ]
  },
  {
   "cell_type": "markdown",
   "metadata": {},
   "source": [
    "After much testing through cross-validation, we found the best cleaning routine to be the following:"
   ]
  },
  {
   "cell_type": "code",
   "execution_count": 328,
   "metadata": {},
   "outputs": [],
   "source": [
    "### replaces days past due with NAs, and dbetratio > 150 with zero\n",
    "PreImputation <- function(df) {\n",
    "    df[df$NumberOfTime30.59DaysPastDueNotWorse > 95,]$NumberOfTime30.59DaysPastDueNotWorse <- NA\n",
    "    df[df$NumberOfTime60.89DaysPastDueNotWorse > 95,]$NumberOfTime60.89DaysPastDueNotWorse <- NA\n",
    "    df[df$NumberOfTimes90DaysLate > 95,]$NumberOfTimes90DaysLate <-NA\n",
    "    return (df)\n",
    "}\n",
    "\n",
    "\n",
    "ImputeMonthlyIncomeWithZeroForHighDR <- function(df) {\n",
    "    df[df$DebtRatio > 150,]$MonthlyIncome <- 0\n",
    "    return (df)\n",
    "}\n"
   ]
  },
  {
   "cell_type": "code",
   "execution_count": 326,
   "metadata": {},
   "outputs": [],
   "source": [
    "df.test <- df\n",
    "df.test <- ImputeMonthlyIncomeWithZeroForHighDR(df)\n",
    "data_imputed <- knn.impute(as.matrix(df.test),k=10,cat.var = c(1,4,7:11), to.impute = 1:nrow(df), using = 1:nrow(df))\n",
    "write.csv(data_imputed, \"data_imputed.csv\") # save for quick retrieval for future runs\n",
    "df.test <- data_imputed\n",
    "df.test <- AddFeatures ( as.data.frame ( df.test ) )\n",
    "df.test <- WinsorizeHighRevolvingUtil( df.test, 0.02 ) \n",
    "df.test <- WinsorizeDebtRatio( df.test, 0.15 )\n",
    "df.test <- ExpandFeatureSpace ( df.test )\n",
    "write.csv(df.test, \"cleanDataFinal.csv\")"
   ]
  },
  {
   "cell_type": "code",
   "execution_count": null,
   "metadata": {},
   "outputs": [],
   "source": []
  },
  {
   "cell_type": "code",
   "execution_count": 329,
   "metadata": {},
   "outputs": [],
   "source": [
    "### with replacing high days overdue with NA preimputation / second place\n",
    "\n",
    "df.test2 <- df\n",
    "df.test2 <- PreImputation(df.test2)\n",
    "df.test2 <- ImputeMonthlyIncomeWithZeroForHighDR(df.test2)\n",
    "data_imputed2 <- knn.impute(as.matrix(df.test2),k=10,cat.var = c(1,4,7:11), to.impute = 1:nrow(df), using = 1:nrow(df))\n",
    "write.csv(data_imputed2, \"data_imputed2.csv\") # save for quick retrieval for future runs\n",
    "df.test2 <- data_imputed2\n",
    "df.test2 <- AddFeatures ( as.data.frame ( df.test2 ) )\n",
    "df.test2 <- WinsorizeHighRevolvingUtil( df.test2, 0.02 ) \n",
    "df.test2 <- WinsorizeDebtRatio( df.test2, 0.15 )\n",
    "df.test2 <- ExpandFeatureSpace ( df.test2 )\n",
    "write.csv(df.test2, \"cleanDataFinal2.csv\")"
   ]
  },
  {
   "cell_type": "markdown",
   "metadata": {},
   "source": [
    "# Modeling: Xgboost"
   ]
  },
  {
   "cell_type": "markdown",
   "metadata": {},
   "source": [
    "After all this preprocessing and data cleaning, we were ready to start working with models. There are other forms of pre-processing. Normaliziation/scaling is a common form of pre-processing but since we are working with mostly tree-based models, we don't really need it. \n",
    "\n",
    "We had a couple choices that we tested. We first tried k-nearest neighbor classification, but unfortunately it did not score highly due to the nature of our dataset. We next tried random forest classification, which actually worked very nicely, attaining cross-validated AUC scores around 0.84. But the issue with RF is that the computational time was much too long for doing extensive grid searches: each combination of parameters took roughly 30 minutes. Our final and most successful model was xgboost tree classification. This was both the fastest and the most accurate, achieving cross-validated AUC scores around 0.86 and able to cross-validate large grids in minutes."
   ]
  },
  {
   "cell_type": "code",
   "execution_count": 352,
   "metadata": {},
   "outputs": [],
   "source": [
    "df <- read.csv(\"cleanDataFinal.csv\")"
   ]
  },
  {
   "cell_type": "markdown",
   "metadata": {},
   "source": [
    "Here's a quick example model generated on our data with the default parameters just as a quick sanity check:"
   ]
  },
  {
   "cell_type": "code",
   "execution_count": 353,
   "metadata": {},
   "outputs": [
    {
     "name": "stdout",
     "output_type": "stream",
     "text": [
      "[1]\ttrain-auc:0.851785 \n",
      "[2]\ttrain-auc:0.858153 \n",
      "[3]\ttrain-auc:0.861567 \n",
      "[4]\ttrain-auc:0.864981 \n",
      "[5]\ttrain-auc:0.866294 \n"
     ]
    }
   ],
   "source": [
    "library(xgboost)\n",
    "fit <- xgboost(data=as.matrix(df[,3:length(df)]), label=df$SeriousDlqin2yrs, nrounds=5,\n",
    "              objective=\"binary:logistic\", eval_metric=\"auc\")"
   ]
  },
  {
   "cell_type": "markdown",
   "metadata": {},
   "source": [
    "We can get even better models by tuning our hyperparameters with cross-validation. We can implement this easily with the R package Caret. We start by doing a train-test split. "
   ]
  },
  {
   "cell_type": "code",
   "execution_count": 354,
   "metadata": {},
   "outputs": [],
   "source": [
    "ind = createDataPartition(df$SeriousDlqin2yrs, p = 0.8, list = FALSE)\n",
    "trainDF<-df[ind,2:length(df)]\n",
    "testDF<-df[-ind,2:length(df)]"
   ]
  },
  {
   "cell_type": "markdown",
   "metadata": {},
   "source": [
    "Now we can set the settings for Caret's cross-validation framework. ControlParameters are the parameters for modifying the type of cross-validation we are doing. We will be doing K-fold cross-validation with 5 folds. Note that 'classProbs' are required for returning any kind of AUC evaluation, and 'twoClassSummary' is also required for binary classification."
   ]
  },
  {
   "cell_type": "code",
   "execution_count": 355,
   "metadata": {},
   "outputs": [],
   "source": [
    "ControlParameters <- trainControl(method = \"cv\",\n",
    "                                number = 5,\n",
    "                                classProbs = TRUE,\n",
    "                                savePredictions = \"final\",\n",
    "                                summaryFunction = twoClassSummary\n",
    ")"
   ]
  },
  {
   "cell_type": "markdown",
   "metadata": {},
   "source": [
    "ParametersGrid determines the hyperparameters of Xgboost that we search over during our cross-validation. The most important parameters in our grid search for XGBoost are max_depth, eta, gamma, colsample_bytree, and min_child_weight. Nrounds will be left alone because it increases the computation time too much, so we'll just increase it once we've found our other optimal hyperparameters. "
   ]
  },
  {
   "cell_type": "code",
   "execution_count": 356,
   "metadata": {},
   "outputs": [],
   "source": [
    "ParametersGrid <- expand.grid(\n",
    "  nrounds = 2, \n",
    "  max_depth = c(5, 10, 15), \n",
    "  eta = c(0.01, 0.001, 0.0001), \n",
    "  gamma = c(1, 2, 3), \n",
    "  colsample_bytree = c(0.4, 0.7, 1.0), \n",
    "  min_child_weight = c(0.5, 1, 1.5),\n",
    "  subsample = 1\n",
    ")"
   ]
  },
  {
   "cell_type": "markdown",
   "metadata": {},
   "source": [
    "Lastly we have to convert our categorical column into a factor for Caret's XGBoost to work."
   ]
  },
  {
   "cell_type": "code",
   "execution_count": 357,
   "metadata": {},
   "outputs": [],
   "source": [
    "trainDF$SeriousDlqin2yrs <- as.factor ( trainDF$SeriousDlqin2yrs )\n",
    "levels(trainDF$SeriousDlqin2yrs) <- c(\"non.default\", \"default\")"
   ]
  },
  {
   "cell_type": "code",
   "execution_count": 349,
   "metadata": {},
   "outputs": [],
   "source": [
    "#SMALLER GRID\n",
    "ParametersGrid <- expand.grid(\n",
    "  nrounds = 2, \n",
    "  max_depth = c(5, 15), \n",
    "  eta = c(0.01, 0.0001), \n",
    "  gamma = c(1, 3), \n",
    "  colsample_bytree = c(0.4, 1.0), \n",
    "  min_child_weight = c(0.5, 1.5),\n",
    "  subsample = 1\n",
    ")"
   ]
  },
  {
   "cell_type": "markdown",
   "metadata": {},
   "source": [
    "Now here is our  grid search:"
   ]
  },
  {
   "cell_type": "code",
   "execution_count": null,
   "metadata": {},
   "outputs": [],
   "source": [
    "modelxgboost <- train(SeriousDlqin2yrs~., \n",
    "                      data = trainDF,\n",
    "                      method = \"xgbTree\",\n",
    "                      trControl = ControlParameters,\n",
    "                      metric = \"ROC\",\n",
    "                      tuneGrid=ParametersGrid)"
   ]
  },
  {
   "cell_type": "markdown",
   "metadata": {},
   "source": [
    "The grid search results:"
   ]
  },
  {
   "cell_type": "code",
   "execution_count": null,
   "metadata": {},
   "outputs": [],
   "source": [
    "modelxgboost "
   ]
  },
  {
   "cell_type": "code",
   "execution_count": null,
   "metadata": {},
   "outputs": [],
   "source": []
  },
  {
   "cell_type": "code",
   "execution_count": null,
   "metadata": {},
   "outputs": [],
   "source": []
  },
  {
   "cell_type": "markdown",
   "metadata": {},
   "source": [
    "Caret allows us to automatically pull the prediction results from the best-performing parameters directly from the grid search object. We can then output an ROC using the pROC library."
   ]
  },
  {
   "cell_type": "code",
   "execution_count": 184,
   "metadata": {},
   "outputs": [
    {
     "data": {
      "text/html": [
       "0.848011175774004"
      ],
      "text/latex": [
       "0.848011175774004"
      ],
      "text/markdown": [
       "0.848011175774004"
      ],
      "text/plain": [
       "Area under the curve: 0.848"
      ]
     },
     "metadata": {},
     "output_type": "display_data"
    }
   ],
   "source": [
    "result.roc <- roc(modelxgboost$pred$obs, modelxgboost$pred$default) \n",
    "result.roc$auc"
   ]
  },
  {
   "cell_type": "code",
   "execution_count": 180,
   "metadata": {},
   "outputs": [
    {
     "name": "stdout",
     "output_type": "stream",
     "text": [
      "threshold  accuracy \n",
      "0.4914015 0.7617833 \n"
     ]
    },
    {
     "data": {
      "image/png": "[encoded data removed]",
      "text/plain": [
       "plot without title"
      ]
     },
     "metadata": {},
     "output_type": "display_data"
    }
   ],
   "source": [
    "plot(result.roc, print.thres=\"best\", print.thres.best.method=\"closest.topleft\")\n",
    "result.coords <- coords(result.roc, \"best\", best.method=\"closest.topleft\", ret=c(\"threshold\", \"accuracy\"))\n",
    "print(result.coords)"
   ]
  },
  {
   "cell_type": "code",
   "execution_count": null,
   "metadata": {},
   "outputs": [],
   "source": []
  },
  {
   "cell_type": "code",
   "execution_count": null,
   "metadata": {},
   "outputs": [],
   "source": []
  },
  {
   "cell_type": "markdown",
   "metadata": {},
   "source": [
    "# FINAL KAGGLE DATA"
   ]
  },
  {
   "cell_type": "markdown",
   "metadata": {},
   "source": [
    "Now that we have our final tuned and train model, we just need to apply it to our test set."
   ]
  },
  {
   "cell_type": "code",
   "execution_count": 134,
   "metadata": {},
   "outputs": [],
   "source": [
    "final.test.df <- read.csv(\"cs-test.csv\")"
   ]
  },
  {
   "cell_type": "markdown",
   "metadata": {},
   "source": [
    "We need to apply our same cleaning and feature transformation routine to our test set:"
   ]
  },
  {
   "cell_type": "code",
   "execution_count": 135,
   "metadata": {},
   "outputs": [],
   "source": [
    "#final.test.df[final.test.df$age == 0,]$age <- min(final.test.df[final.test.df$age > 0,]$age) \n",
    "final.test.df <- AddFeatures ( final.test.df )\n",
    "final.test.df <- ImputeMonthlyIncomeWithZeroForAll ( final.test.df )\n",
    "final.test.df <- ImputeNumberOfDependentsMean ( final.test.df )\n",
    "final.test.df <- TrimHighRevolvingUtilToMedian( final.test.df ) \n",
    "final.test.df <- WinsorizeDebtRatio( final.test.df, 0.15 )\n",
    "final.test.df <- ImputeWeirdPastDueWithMax( final.test.df )\n",
    "final.test.df <- ExpandFeatureSpace ( final.test.df )"
   ]
  },
  {
   "cell_type": "code",
   "execution_count": 183,
   "metadata": {},
   "outputs": [
    {
     "data": {
      "text/html": [
       "<table>\n",
       "<thead><tr><th scope=col>X</th><th scope=col>SeriousDlqin2yrs</th><th scope=col>RevolvingUtilizationOfUnsecuredLines</th><th scope=col>age</th><th scope=col>NumberOfTime30.59DaysPastDueNotWorse</th><th scope=col>DebtRatio</th><th scope=col>MonthlyIncome</th><th scope=col>NumberOfOpenCreditLinesAndLoans</th><th scope=col>NumberOfTimes90DaysLate</th><th scope=col>NumberRealEstateLoansOrLines</th><th scope=col>⋯</th><th scope=col>NeverPastDue</th><th scope=col>NoIncome</th><th scope=col>LowIncome</th><th scope=col>HighIncome</th><th scope=col>IncomeToAgeRatio</th><th scope=col>LogIncomeToAgeRatio</th><th scope=col>LogRevolvingUtilization</th><th scope=col>LogDebtRatio</th><th scope=col>NeverPastDueXNumberOfLines</th><th scope=col>NeverPastDueXRealEstate</th></tr></thead>\n",
       "<tbody>\n",
       "\t<tr><td>1          </td><td>NA         </td><td>0.88551908 </td><td>43         </td><td>0          </td><td>0.17751272 </td><td>5700       </td><td> 4         </td><td>0          </td><td>0          </td><td>⋯          </td><td>1          </td><td>FALSE      </td><td>FALSE      </td><td>FALSE      </td><td>132.55814  </td><td>4.887021   </td><td>-0.1215813 </td><td>-1.72871303</td><td> 4         </td><td>0          </td></tr>\n",
       "\t<tr><td>2          </td><td>NA         </td><td>0.46329527 </td><td>57         </td><td>0          </td><td>0.52723693 </td><td>9141       </td><td>15         </td><td>0          </td><td>4          </td><td>⋯          </td><td>1          </td><td>FALSE      </td><td>FALSE      </td><td>FALSE      </td><td>160.36842  </td><td>5.077474   </td><td>-0.7693907 </td><td>-0.64010525</td><td>15         </td><td>4          </td></tr>\n",
       "\t<tr><td>3          </td><td>NA         </td><td>0.04327504 </td><td>59         </td><td>0          </td><td>0.68764752 </td><td>5083       </td><td>12         </td><td>0          </td><td>1          </td><td>⋯          </td><td>1          </td><td>FALSE      </td><td>FALSE      </td><td>FALSE      </td><td> 86.15254  </td><td>4.456119   </td><td>-3.1401793 </td><td>-0.37447890</td><td>12         </td><td>1          </td></tr>\n",
       "\t<tr><td>4          </td><td>NA         </td><td>0.28030823 </td><td>38         </td><td>1          </td><td>0.92596064 </td><td>3200       </td><td> 7         </td><td>0          </td><td>2          </td><td>⋯          </td><td>0          </td><td>FALSE      </td><td>FALSE      </td><td>FALSE      </td><td> 84.21053  </td><td>4.433320   </td><td>-1.2718655 </td><td>-0.07692355</td><td> 0         </td><td>0          </td></tr>\n",
       "\t<tr><td>5          </td><td>NA         </td><td>0.99999990 </td><td>27         </td><td>0          </td><td>0.01991723 </td><td>3865       </td><td> 4         </td><td>0          </td><td>0          </td><td>⋯          </td><td>1          </td><td>FALSE      </td><td>FALSE      </td><td>FALSE      </td><td>143.14815  </td><td>4.963880   </td><td>-0.0000001 </td><td>-3.91617024</td><td> 4         </td><td>0          </td></tr>\n",
       "\t<tr><td>6          </td><td>NA         </td><td>0.50979145 </td><td>63         </td><td>0          </td><td>0.34242936 </td><td>4140       </td><td> 4         </td><td>0          </td><td>0          </td><td>⋯          </td><td>1          </td><td>FALSE      </td><td>FALSE      </td><td>FALSE      </td><td> 65.71429  </td><td>4.185316   </td><td>-0.6737536 </td><td>-1.07168988</td><td> 4         </td><td>0          </td></tr>\n",
       "</tbody>\n",
       "</table>\n"
      ],
      "text/latex": [
       "\\begin{tabular}{r|llllllllllllllllllllllllllll}\n",
       " X & SeriousDlqin2yrs & RevolvingUtilizationOfUnsecuredLines & age & NumberOfTime30.59DaysPastDueNotWorse & DebtRatio & MonthlyIncome & NumberOfOpenCreditLinesAndLoans & NumberOfTimes90DaysLate & NumberRealEstateLoansOrLines & ⋯ & NeverPastDue & NoIncome & LowIncome & HighIncome & IncomeToAgeRatio & LogIncomeToAgeRatio & LogRevolvingUtilization & LogDebtRatio & NeverPastDueXNumberOfLines & NeverPastDueXRealEstate\\\\\n",
       "\\hline\n",
       "\t 1           & NA          & 0.88551908  & 43          & 0           & 0.17751272  & 5700        &  4          & 0           & 0           & ⋯           & 1           & FALSE       & FALSE       & FALSE       & 132.55814   & 4.887021    & -0.1215813  & -1.72871303 &  4          & 0          \\\\\n",
       "\t 2           & NA          & 0.46329527  & 57          & 0           & 0.52723693  & 9141        & 15          & 0           & 4           & ⋯           & 1           & FALSE       & FALSE       & FALSE       & 160.36842   & 5.077474    & -0.7693907  & -0.64010525 & 15          & 4          \\\\\n",
       "\t 3           & NA          & 0.04327504  & 59          & 0           & 0.68764752  & 5083        & 12          & 0           & 1           & ⋯           & 1           & FALSE       & FALSE       & FALSE       &  86.15254   & 4.456119    & -3.1401793  & -0.37447890 & 12          & 1          \\\\\n",
       "\t 4           & NA          & 0.28030823  & 38          & 1           & 0.92596064  & 3200        &  7          & 0           & 2           & ⋯           & 0           & FALSE       & FALSE       & FALSE       &  84.21053   & 4.433320    & -1.2718655  & -0.07692355 &  0          & 0          \\\\\n",
       "\t 5           & NA          & 0.99999990  & 27          & 0           & 0.01991723  & 3865        &  4          & 0           & 0           & ⋯           & 1           & FALSE       & FALSE       & FALSE       & 143.14815   & 4.963880    & -0.0000001  & -3.91617024 &  4          & 0          \\\\\n",
       "\t 6           & NA          & 0.50979145  & 63          & 0           & 0.34242936  & 4140        &  4          & 0           & 0           & ⋯           & 1           & FALSE       & FALSE       & FALSE       &  65.71429   & 4.185316    & -0.6737536  & -1.07168988 &  4          & 0          \\\\\n",
       "\\end{tabular}\n"
      ],
      "text/markdown": [
       "\n",
       "X | SeriousDlqin2yrs | RevolvingUtilizationOfUnsecuredLines | age | NumberOfTime30.59DaysPastDueNotWorse | DebtRatio | MonthlyIncome | NumberOfOpenCreditLinesAndLoans | NumberOfTimes90DaysLate | NumberRealEstateLoansOrLines | ⋯ | NeverPastDue | NoIncome | LowIncome | HighIncome | IncomeToAgeRatio | LogIncomeToAgeRatio | LogRevolvingUtilization | LogDebtRatio | NeverPastDueXNumberOfLines | NeverPastDueXRealEstate | \n",
       "|---|---|---|---|---|---|\n",
       "| 1           | NA          | 0.88551908  | 43          | 0           | 0.17751272  | 5700        |  4          | 0           | 0           | ⋯           | 1           | FALSE       | FALSE       | FALSE       | 132.55814   | 4.887021    | -0.1215813  | -1.72871303 |  4          | 0           | \n",
       "| 2           | NA          | 0.46329527  | 57          | 0           | 0.52723693  | 9141        | 15          | 0           | 4           | ⋯           | 1           | FALSE       | FALSE       | FALSE       | 160.36842   | 5.077474    | -0.7693907  | -0.64010525 | 15          | 4           | \n",
       "| 3           | NA          | 0.04327504  | 59          | 0           | 0.68764752  | 5083        | 12          | 0           | 1           | ⋯           | 1           | FALSE       | FALSE       | FALSE       |  86.15254   | 4.456119    | -3.1401793  | -0.37447890 | 12          | 1           | \n",
       "| 4           | NA          | 0.28030823  | 38          | 1           | 0.92596064  | 3200        |  7          | 0           | 2           | ⋯           | 0           | FALSE       | FALSE       | FALSE       |  84.21053   | 4.433320    | -1.2718655  | -0.07692355 |  0          | 0           | \n",
       "| 5           | NA          | 0.99999990  | 27          | 0           | 0.01991723  | 3865        |  4          | 0           | 0           | ⋯           | 1           | FALSE       | FALSE       | FALSE       | 143.14815   | 4.963880    | -0.0000001  | -3.91617024 |  4          | 0           | \n",
       "| 6           | NA          | 0.50979145  | 63          | 0           | 0.34242936  | 4140        |  4          | 0           | 0           | ⋯           | 1           | FALSE       | FALSE       | FALSE       |  65.71429   | 4.185316    | -0.6737536  | -1.07168988 |  4          | 0           | \n",
       "\n",
       "\n"
      ],
      "text/plain": [
       "  X SeriousDlqin2yrs RevolvingUtilizationOfUnsecuredLines age\n",
       "1 1 NA               0.88551908                           43 \n",
       "2 2 NA               0.46329527                           57 \n",
       "3 3 NA               0.04327504                           59 \n",
       "4 4 NA               0.28030823                           38 \n",
       "5 5 NA               0.99999990                           27 \n",
       "6 6 NA               0.50979145                           63 \n",
       "  NumberOfTime30.59DaysPastDueNotWorse DebtRatio  MonthlyIncome\n",
       "1 0                                    0.17751272 5700         \n",
       "2 0                                    0.52723693 9141         \n",
       "3 0                                    0.68764752 5083         \n",
       "4 1                                    0.92596064 3200         \n",
       "5 0                                    0.01991723 3865         \n",
       "6 0                                    0.34242936 4140         \n",
       "  NumberOfOpenCreditLinesAndLoans NumberOfTimes90DaysLate\n",
       "1  4                              0                      \n",
       "2 15                              0                      \n",
       "3 12                              0                      \n",
       "4  7                              0                      \n",
       "5  4                              0                      \n",
       "6  4                              0                      \n",
       "  NumberRealEstateLoansOrLines ⋯ NeverPastDue NoIncome LowIncome HighIncome\n",
       "1 0                            ⋯ 1            FALSE    FALSE     FALSE     \n",
       "2 4                            ⋯ 1            FALSE    FALSE     FALSE     \n",
       "3 1                            ⋯ 1            FALSE    FALSE     FALSE     \n",
       "4 2                            ⋯ 0            FALSE    FALSE     FALSE     \n",
       "5 0                            ⋯ 1            FALSE    FALSE     FALSE     \n",
       "6 0                            ⋯ 1            FALSE    FALSE     FALSE     \n",
       "  IncomeToAgeRatio LogIncomeToAgeRatio LogRevolvingUtilization LogDebtRatio\n",
       "1 132.55814        4.887021            -0.1215813              -1.72871303 \n",
       "2 160.36842        5.077474            -0.7693907              -0.64010525 \n",
       "3  86.15254        4.456119            -3.1401793              -0.37447890 \n",
       "4  84.21053        4.433320            -1.2718655              -0.07692355 \n",
       "5 143.14815        4.963880            -0.0000001              -3.91617024 \n",
       "6  65.71429        4.185316            -0.6737536              -1.07168988 \n",
       "  NeverPastDueXNumberOfLines NeverPastDueXRealEstate\n",
       "1  4                         0                      \n",
       "2 15                         4                      \n",
       "3 12                         1                      \n",
       "4  0                         0                      \n",
       "5  4                         0                      \n",
       "6  4                         0                      "
      ]
     },
     "metadata": {},
     "output_type": "display_data"
    }
   ],
   "source": [
    "head ( final.test.df )"
   ]
  },
  {
   "cell_type": "code",
   "execution_count": null,
   "metadata": {},
   "outputs": [],
   "source": []
  },
  {
   "cell_type": "code",
   "execution_count": 140,
   "metadata": {},
   "outputs": [],
   "source": [
    "prediction <- predict(fit, as.matrix(df[,3:length(final.test.df)]), type=\"prob\")   # Prediction"
   ]
  },
  {
   "cell_type": "code",
   "execution_count": null,
   "metadata": {},
   "outputs": [],
   "source": []
  },
  {
   "cell_type": "code",
   "execution_count": null,
   "metadata": {},
   "outputs": [],
   "source": []
  },
  {
   "cell_type": "code",
   "execution_count": null,
   "metadata": {},
   "outputs": [],
   "source": []
  },
  {
   "cell_type": "code",
   "execution_count": null,
   "metadata": {},
   "outputs": [],
   "source": []
  },
  {
   "cell_type": "code",
   "execution_count": null,
   "metadata": {},
   "outputs": [],
   "source": []
  },
  {
   "cell_type": "code",
   "execution_count": null,
   "metadata": {},
   "outputs": [],
   "source": []
  }
 ],
 "metadata": {
  "kernelspec": {
   "display_name": "R",
   "language": "R",
   "name": "ir"
  },
  "language_info": {
   "codemirror_mode": "r",
   "file_extension": ".r",
   "mimetype": "text/x-r-source",
   "name": "R",
   "pygments_lexer": "r",
   "version": "3.4.4"
  }
 },
 "nbformat": 4,
 "nbformat_minor": 2
}
